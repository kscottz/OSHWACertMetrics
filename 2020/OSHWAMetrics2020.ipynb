{
 "cells": [
  {
   "cell_type": "code",
   "execution_count": 13,
   "metadata": {},
   "outputs": [],
   "source": [
    "import numpy as np\n",
    "import pandas as pd\n",
    "import requests\n",
    "import json\n",
    "import keyring\n",
    "import time\n",
    "from requests.structures import CaseInsensitiveDict"
   ]
  },
  {
   "cell_type": "markdown",
   "metadata": {},
   "source": [
    "* [Docs for the API](https://certificationapi.oshwa.org/documentation#section/Introduction)\n",
    "* [The website version is here](https://certification.oshwa.org/list.html)\n",
    "* Step one, get a token!\n",
    "    * Fill out the form [here](https://certificationapi.oshwa.org/)\n",
    "    * There is a pop-up that will have a big long string of letters and nubmers\n",
    "\n",
    "* Step two, let's add that token to our our keyring\n",
    "    * On Linux install keyring with, `sudo apt install keyring`\n",
    "    * Copy the api key and then add it to keyring by running  `keyring set oshwa_api NoName` and pasting the api key\n",
    "    * To check the keyring run `keyring set oshwa_api NoName`\n",
    "    * Add it to your password manager if you use one. \n",
    "* Next we'll add the keyring safely to our notebook"
   ]
  },
  {
   "cell_type": "code",
   "execution_count": 4,
   "metadata": {},
   "outputs": [
    {
     "name": "stdout",
     "output_type": "stream",
     "text": [
      "Got API Key\n"
     ]
    }
   ],
   "source": [
    "# We'll get our first key\n",
    "oshwa_key = keyring.get_password(\"oshwa_api\",\"NoName\")\n",
    "if oshwa_key is None:\n",
    "    print('Failed to get API key')\n",
    "else:\n",
    "    print(\"Got API Key\")"
   ]
  },
  {
   "cell_type": "markdown",
   "metadata": {},
   "source": [
    "# Now we're going to make our first request. We'll need our endpoint and a token.\n",
    "# [This tool is really helpful for figuring out request formats](https://reqbin.com/req/python/5k564bhv/get-request-with-bearer-token-authorization-header) "
   ]
  },
  {
   "cell_type": "code",
   "execution_count": 25,
   "metadata": {},
   "outputs": [
    {
     "name": "stdout",
     "output_type": "stream",
     "text": [
      "200\n"
     ]
    }
   ],
   "source": [
    "url = \"https://certificationapi.oshwa.org/api/projects\"\n",
    "headers = CaseInsensitiveDict()\n",
    "headers[\"Accept\"] = \"application/json\"\n",
    "headers[\"Authorization\"] = \"Bearer {0}\".format(oshwa_key)\n",
    "resp = requests.get(url, headers=headers)\n",
    "print(resp.status_code)"
   ]
  },
  {
   "cell_type": "code",
   "execution_count": 26,
   "metadata": {},
   "outputs": [
    {
     "name": "stdout",
     "output_type": "stream",
     "text": [
      "{'oshwaUid': 'MX000027', 'responsibleParty': 'Nehenemi Labs', 'country': 'Mexico', 'publicContact': 'nehenemilabs@gmail.com', 'projectName': 'ULTFreezer monitor', 'projectWebsite': 'https://github.com/nehenemilabs/ULTFreezer-monitor', 'projectVersion': '0.2b', 'projectDescription': 'A quick and cheap wifi enabled kit for monitoring Ultra Low Temperature Freezers, mostly used for keeping vaccines and biological samples', 'primaryType': 'Science', 'additionalType': ['Electronics', 'IOT', 'Science', 'Tool'], 'projectKeywords': ['vaccines ULTs freezer monitor wifi'], 'citations': [{'url': 'https://www.nodemcu.com/index_en.html', 'title': 'NodeMCU'}, {'url': 'https://www.sparkfun.com/products/13266', 'title': 'SparkFun Thermocouple Breakout - MAX31855K'}], 'documentationUrl': 'https://github.com/nehenemilabs/ULTFreezer-monitor', 'hardwareLicense': 'CERN', 'softwareLicense': 'GPL', 'documentationLicense': 'CC BY-SA', 'certificationDate': '2021-03-18T00:00-04:00'}\n"
     ]
    }
   ],
   "source": [
    "cert_list = json.loads(resp.text)\n",
    "print(cert_list[0])"
   ]
  },
  {
   "cell_type": "code",
   "execution_count": 27,
   "metadata": {},
   "outputs": [
    {
     "name": "stdout",
     "output_type": "stream",
     "text": [
      "1000\n"
     ]
    }
   ],
   "source": [
    "print(len(cert_list))\n",
    "# This is weird, the API lists \"DISPLAYING 1527 PROJECTS\""
   ]
  },
  {
   "cell_type": "code",
   "execution_count": 29,
   "metadata": {},
   "outputs": [],
   "source": [
    "resp2 = requests.get(url,headers=headers)"
   ]
  },
  {
   "cell_type": "code",
   "execution_count": 34,
   "metadata": {},
   "outputs": [
    {
     "data": {
      "text/plain": [
       "<Response [401]>"
      ]
     },
     "execution_count": 34,
     "metadata": {},
     "output_type": "execute_result"
    }
   ],
   "source": []
  },
  {
   "cell_type": "code",
   "execution_count": null,
   "metadata": {},
   "outputs": [],
   "source": []
  }
 ],
 "metadata": {
  "kernelspec": {
   "display_name": "Python 3",
   "language": "python",
   "name": "python3"
  },
  "language_info": {
   "codemirror_mode": {
    "name": "ipython",
    "version": 3
   },
   "file_extension": ".py",
   "mimetype": "text/x-python",
   "name": "python",
   "nbconvert_exporter": "python",
   "pygments_lexer": "ipython3",
   "version": "3.6.9"
  }
 },
 "nbformat": 4,
 "nbformat_minor": 2
}
