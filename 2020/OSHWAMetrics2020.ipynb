{
 "cells": [
  {
   "cell_type": "code",
   "execution_count": 22,
   "metadata": {},
   "outputs": [],
   "source": [
    "import numpy as np\n",
    "import pandas as pd\n",
    "import requests\n",
    "import json\n",
    "import keyring\n",
    "import time\n",
    "import datetime\n",
    "from requests.structures import CaseInsensitiveDict\n",
    "import matplotlib.pyplot as plt\n",
    "import plotly.express as px\n",
    "import time"
   ]
  },
  {
   "cell_type": "markdown",
   "metadata": {},
   "source": [
    "* [Docs for the API](https://certificationapi.oshwa.org/documentation#section/Introduction)\n",
    "* [The website version is here](https://certification.oshwa.org/list.html)\n",
    "* Step one, get a token!\n",
    "    * Fill out the form [here](https://certificationapi.oshwa.org/)\n",
    "    * There is a pop-up that will have a big long string of letters and nubmers\n",
    "\n",
    "* Step two, let's add that token to our our keyring\n",
    "    * On Linux install keyring with, `sudo apt install keyring`\n",
    "    * Copy the api key and then add it to keyring by running  `keyring set oshwa_api NoName` and pasting the api key\n",
    "    * To check the keyring run `keyring set oshwa_api NoName`\n",
    "    * Add it to your password manager if you use one. \n",
    "* Next we'll add the keyring safely to our notebook"
   ]
  },
  {
   "cell_type": "code",
   "execution_count": 23,
   "metadata": {},
   "outputs": [
    {
     "name": "stdout",
     "output_type": "stream",
     "text": [
      "Got API Key\n"
     ]
    }
   ],
   "source": [
    "# We'll get our first key\n",
    "oshwa_key = keyring.get_password(\"oshwa_api\",\"NoName\")\n",
    "if oshwa_key is None:\n",
    "    print('Failed to get API key')\n",
    "else:\n",
    "    print(\"Got API Key\")"
   ]
  },
  {
   "cell_type": "markdown",
   "metadata": {},
   "source": [
    "# Now we're going to make our first request. We'll need our endpoint and a token.\n",
    "# [This tool is really helpful for figuring out request formats](https://reqbin.com/req/python/5k564bhv/get-request-with-bearer-token-authorization-header) "
   ]
  },
  {
   "cell_type": "code",
   "execution_count": 24,
   "metadata": {},
   "outputs": [
    {
     "name": "stdout",
     "output_type": "stream",
     "text": [
      "200\n",
      "Getting batch 100 to 200\n",
      "Getting batch 200 to 300\n",
      "Getting batch 300 to 400\n",
      "Getting batch 400 to 500\n",
      "Getting batch 500 to 600\n",
      "Getting batch 600 to 700\n",
      "Getting batch 700 to 800\n",
      "Getting batch 800 to 900\n",
      "Getting batch 900 to 1000\n",
      "Getting batch 1000 to 1100\n",
      "Getting batch 1100 to 1200\n",
      "Getting batch 1200 to 1300\n",
      "Getting batch 1300 to 1400\n",
      "Getting batch 1400 to 1500\n",
      "Getting batch 1500 to 1600\n"
     ]
    }
   ],
   "source": [
    "all_items = []\n",
    "url = \"https://certificationapi.oshwa.org/api/projects/\"\n",
    "headers = CaseInsensitiveDict()\n",
    "headers[\"Accept\"] = \"application/json\"\n",
    "headers[\"Authorization\"] = \"Bearer {0}\".format(oshwa_key)\n",
    "params = {\"offset\":0,\"limit\":100}\n",
    "# do the first request so we know how many items there are and we can page through\n",
    "resp = requests.get(url, headers=headers, params=params)\n",
    "print(resp.status_code)\n",
    "if resp.status_code == 200:\n",
    "    cert_list = resp.json()\n",
    "    all_items.extend(cert_list[\"items\"])\n",
    "    total = cert_list[\"total\"]\n",
    "    limit = cert_list[\"limit\"]\n",
    "    for i in range(limit,total,limit):\n",
    "        print(\"Getting batch {0} to {1}\".format(i,i+limit))\n",
    "        params = {\"offset\":i,\"limit\":100}\n",
    "        # do the first request so we know how many items there are and we can page through\n",
    "        resp = requests.get(url, headers=headers, params=params)\n",
    "        if resp.status_code == 200:\n",
    "            temp = resp.json()\n",
    "            all_items.extend(temp[\"items\"])\n",
    "        else:\n",
    "            print(\"Failed to get batch.\")\n",
    "        time.sleep(1)"
   ]
  },
  {
   "cell_type": "code",
   "execution_count": 26,
   "metadata": {},
   "outputs": [
    {
     "name": "stdout",
     "output_type": "stream",
     "text": [
      "Got 1558 projects\n"
     ]
    }
   ],
   "source": [
    "# Now we're going to convert this data to a pandas dataframe and clean up the time\n",
    "df = pd.DataFrame(data=all_items)\n",
    "df.to_csv(\"RawData.csv\")\n",
    "df['certificationDate'] = pd.to_datetime(df['certificationDate'], format=\"%Y-%m-%d %H:%M:%S\")\n",
    "df.head()\n",
    "print(\"Got {0} projects\".format(len(df)))"
   ]
  },
  {
   "cell_type": "code",
   "execution_count": 27,
   "metadata": {},
   "outputs": [
    {
     "name": "stdout",
     "output_type": "stream",
     "text": [
      "949 projects from 2020.\n"
     ]
    }
   ],
   "source": [
    "# Let's now just pick certifications from 2020\n",
    "start = datetime.datetime(2020,1,1,tzinfo=datetime.timezone.utc)\n",
    "stop = datetime.datetime(2020,12,31,tzinfo=datetime.timezone.utc)\n",
    "df2020 = df.loc[(df['certificationDate'] >= start) & \n",
    "                (df['certificationDate'] <  stop)] \n",
    "print(\"{0} projects from 2020.\".format(len(df2020)))"
   ]
  },
  {
   "cell_type": "code",
   "execution_count": 39,
   "metadata": {},
   "outputs": [
    {
     "name": "stdout",
     "output_type": "stream",
     "text": [
      "Unique countries 37 -- ['United States of America' 'India' 'Switzerland' 'Australia' 'Ecuador'\n",
      " 'Sweden' 'Turkey' 'Japan' 'Bulgaria' 'Belgium' 'Poland' 'France'\n",
      " 'Germany' 'Spain' 'Croatia' 'Azerbaijan' 'United Kingdom' 'Indonesia'\n",
      " 'Sri Lanka' 'Portugal' 'Russia' 'Greece' 'Finland' 'Czech Republic'\n",
      " 'Mauritius' 'Taiwan' 'Mexico' 'Thailand' 'Ireland' 'El Salvador' 'Canada'\n",
      " 'Costa Rica' 'Guatemala' 'Lithuania' 'China' 'Netherlands' 'Brazil']\n",
      "Unique Entities 128 -- ['Field Ready' 'Amal Mathew' 'Radomir Dopieralski' 'Whatnick INC'\n",
      " 'Jedidiah Hodson' 'OSHWA' 'Eric Olinger' 'Jonathan Cagua'\n",
      " 'Jonathan Cagua Ordoñez' 'arturo182' 'Ali Tekin'\n",
      " 'CHIRIMEN OPEN HARDWARE COMMUNITY' 'Gregory Davill' 'Aziz Wadi'\n",
      " 'ANAVI TECHNOLOGY' 'Vadim Shlyonskiy' '3mdeb embedded systems consulting'\n",
      " 'TurtleForGaming' 'Rush Robbins' 'OLIMEX Ltd' 'Staudt Technologies GmbH'\n",
      " 'Meister Whiteboxes GmbH' 'BeagleBoard.org Foundation'\n",
      " 'Adafruit Industries, LLC' 'Miguel Madrid' 'SparkFun Electronics'\n",
      " 'Digital Sqrt' 'ProtoCentral Electronics' 'MNT Research GmbH'\n",
      " '3mdeb Embedded Systems Consulting' 'TAVU d.o.o.' 'Suhail P'\n",
      " 'Orkhan AmirAslan' 'AMAL MATHEW' 'Miranda Robbins' 'Alp Electronics'\n",
      " 'MakerGram' 'Watterott electronic' 'Groboards LLC' 'SENTSOR Electronics'\n",
      " 'Ayan Pahwa' 'Université Grenoble Alpes' 'SQFMI' 'Humans for Robots'\n",
      " 'Jeffrey Yoo Warren' 'Dilshan R Jayakody' 'Antonio Valente'\n",
      " 'Great Scott Gadgets' 'Roman Sokolov' 'xdesig' 'Pi Supply' 'XDeSIG'\n",
      " 'Vasilis Vorrias' 'Jens Mueller' 'Inexpensive Computers' 'Jacopo Franco'\n",
      " 'Sven Gregori' 'Otto DIY' 'TheStaticTurtle' 'Kolibri' 'TECKNOLOGG'\n",
      " 'PI SUPPLY' 'Leeds Raspberry Jam' 'Circuit Dojo LLC' 'TonyGuo'\n",
      " 'ANAVI Technology' 'Blueprint Foundry' 'Pierre Chevalier' 'Greg Steiert'\n",
      " 'Nehenemi Labs' 'slaesh' 'SENTSOR ELECTRONICS' 'Matt Venn' 'Adam Bruner'\n",
      " 'Johannes Hermanus Redelinghuys' 'Human Computer Integration Lab'\n",
      " 'Joseph Honold' 'Nathan Mangar' 'Brian Lough' 'TinkeringTech LLC'\n",
      " 'Hackerspace San Salvador' 'Raphael Stäbler' 'Jacob Hahn'\n",
      " 'Linklayer Labs' 'ProtoCentral' 'ELECTRONIC CATS SAPI DE CV'\n",
      " 'Mansour Behabadi' 'ELECTRONIC CATS SAPI DE CV mail' 'conectaequipo.com'\n",
      " 'Space Buck' 'Tesla Lab' '0x0h' 'Eric Seigne' 'Stephan Electronics SARL'\n",
      " 'Makeblock Co., Ltd.' 'Jacques Gagnon' 'Lalindra Jayatilleke' 'Nick'\n",
      " 'System76' 'Envox d.o.o.' 'Winterbloom' 'flatbox' 'Calliope'\n",
      " 'Prasannaa Kumar D' 'Jacob Proctor' 'Frizzy Electronics'\n",
      " 'Maker and IoT Ideas' 'Thorsten Jaeger' 'HiMinds'\n",
      " 'Luxonis Holding Corporation' 'Dimitar Dimitrov' 'Andrey Lamchenko'\n",
      " 'BIEM ETC design' 'bmc::labs GmbH' 'Prusa Research a.s.' '深圳市嘉禾三维科技有限公司'\n",
      " 'Blackhand Dynamics, SL' 'Freetronics' 'Thore Krug' 'Angel Isidro'\n",
      " 'Upside Down Labs' 'Anuradha Reddy' 'Keith Burzinski' 'Franzininho'\n",
      " 'Centro de Tecnologia Acadêmia (IF/UFRGS)' 'Neil Hardy' 'Nebra Ltd'\n",
      " 'Whitebox Labs']\n"
     ]
    }
   ],
   "source": [
    "countries = df2020.country.unique()\n",
    "print(\"Unique countries {0} -- {1}\".format(len(countries),countries))\n",
    "parties = df2020.responsibleParty.unique()\n",
    "print(\"Unique Entities {0} -- {1}\".format(len(parties),df2020.responsibleParty.unique()))"
   ]
  },
  {
   "cell_type": "code",
   "execution_count": 40,
   "metadata": {},
   "outputs": [],
   "source": [
    "# Get the number of certs by country\n",
    "country_data = df2020.groupby(\"country\").count().sort_values(\"oshwaUid\",ascending=False)"
   ]
  },
  {
   "cell_type": "code",
   "execution_count": 41,
   "metadata": {},
   "outputs": [
    {
     "data": {
      "application/vnd.plotly.v1+json": {
       "config": {
        "plotlyServerURL": "https://plot.ly"
       },
       "data": [
        {
         "alignmentgroup": "True",
         "hovertemplate": "country=%{x}<br>oshwaUid=%{y}<extra></extra>",
         "legendgroup": "",
         "marker": {
          "color": "#636efa"
         },
         "name": "",
         "offsetgroup": "",
         "orientation": "v",
         "showlegend": false,
         "textposition": "auto",
         "type": "bar",
         "x": [
          "United States of America",
          "Germany",
          "United Kingdom",
          "Mexico",
          "Bulgaria",
          "India",
          "Sweden",
          "Spain",
          "Australia",
          "Switzerland",
          "Indonesia",
          "Mauritius",
          "France",
          "Brazil",
          "Guatemala",
          "Poland",
          "Croatia",
          "Canada",
          "Japan",
          "Thailand",
          "Russia",
          "Ecuador",
          "Czech Republic",
          "Ireland",
          "Azerbaijan",
          "Finland",
          "China",
          "Lithuania",
          "Netherlands",
          "Portugal",
          "Costa Rica",
          "Sri Lanka",
          "Greece",
          "Taiwan",
          "El Salvador",
          "Turkey",
          "Belgium"
         ],
         "xaxis": "x",
         "y": [
          725,
          85,
          16,
          15,
          14,
          12,
          6,
          6,
          6,
          5,
          4,
          4,
          4,
          4,
          4,
          4,
          3,
          3,
          3,
          2,
          2,
          2,
          2,
          2,
          2,
          2,
          2,
          1,
          1,
          1,
          1,
          1,
          1,
          1,
          1,
          1,
          1
         ],
         "yaxis": "y"
        }
       ],
       "layout": {
        "barmode": "relative",
        "legend": {
         "tracegroupgap": 0
        },
        "template": {
         "data": {
          "bar": [
           {
            "error_x": {
             "color": "#2a3f5f"
            },
            "error_y": {
             "color": "#2a3f5f"
            },
            "marker": {
             "line": {
              "color": "#E5ECF6",
              "width": 0.5
             }
            },
            "type": "bar"
           }
          ],
          "barpolar": [
           {
            "marker": {
             "line": {
              "color": "#E5ECF6",
              "width": 0.5
             }
            },
            "type": "barpolar"
           }
          ],
          "carpet": [
           {
            "aaxis": {
             "endlinecolor": "#2a3f5f",
             "gridcolor": "white",
             "linecolor": "white",
             "minorgridcolor": "white",
             "startlinecolor": "#2a3f5f"
            },
            "baxis": {
             "endlinecolor": "#2a3f5f",
             "gridcolor": "white",
             "linecolor": "white",
             "minorgridcolor": "white",
             "startlinecolor": "#2a3f5f"
            },
            "type": "carpet"
           }
          ],
          "choropleth": [
           {
            "colorbar": {
             "outlinewidth": 0,
             "ticks": ""
            },
            "type": "choropleth"
           }
          ],
          "contour": [
           {
            "colorbar": {
             "outlinewidth": 0,
             "ticks": ""
            },
            "colorscale": [
             [
              0,
              "#0d0887"
             ],
             [
              0.1111111111111111,
              "#46039f"
             ],
             [
              0.2222222222222222,
              "#7201a8"
             ],
             [
              0.3333333333333333,
              "#9c179e"
             ],
             [
              0.4444444444444444,
              "#bd3786"
             ],
             [
              0.5555555555555556,
              "#d8576b"
             ],
             [
              0.6666666666666666,
              "#ed7953"
             ],
             [
              0.7777777777777778,
              "#fb9f3a"
             ],
             [
              0.8888888888888888,
              "#fdca26"
             ],
             [
              1,
              "#f0f921"
             ]
            ],
            "type": "contour"
           }
          ],
          "contourcarpet": [
           {
            "colorbar": {
             "outlinewidth": 0,
             "ticks": ""
            },
            "type": "contourcarpet"
           }
          ],
          "heatmap": [
           {
            "colorbar": {
             "outlinewidth": 0,
             "ticks": ""
            },
            "colorscale": [
             [
              0,
              "#0d0887"
             ],
             [
              0.1111111111111111,
              "#46039f"
             ],
             [
              0.2222222222222222,
              "#7201a8"
             ],
             [
              0.3333333333333333,
              "#9c179e"
             ],
             [
              0.4444444444444444,
              "#bd3786"
             ],
             [
              0.5555555555555556,
              "#d8576b"
             ],
             [
              0.6666666666666666,
              "#ed7953"
             ],
             [
              0.7777777777777778,
              "#fb9f3a"
             ],
             [
              0.8888888888888888,
              "#fdca26"
             ],
             [
              1,
              "#f0f921"
             ]
            ],
            "type": "heatmap"
           }
          ],
          "heatmapgl": [
           {
            "colorbar": {
             "outlinewidth": 0,
             "ticks": ""
            },
            "colorscale": [
             [
              0,
              "#0d0887"
             ],
             [
              0.1111111111111111,
              "#46039f"
             ],
             [
              0.2222222222222222,
              "#7201a8"
             ],
             [
              0.3333333333333333,
              "#9c179e"
             ],
             [
              0.4444444444444444,
              "#bd3786"
             ],
             [
              0.5555555555555556,
              "#d8576b"
             ],
             [
              0.6666666666666666,
              "#ed7953"
             ],
             [
              0.7777777777777778,
              "#fb9f3a"
             ],
             [
              0.8888888888888888,
              "#fdca26"
             ],
             [
              1,
              "#f0f921"
             ]
            ],
            "type": "heatmapgl"
           }
          ],
          "histogram": [
           {
            "marker": {
             "colorbar": {
              "outlinewidth": 0,
              "ticks": ""
             }
            },
            "type": "histogram"
           }
          ],
          "histogram2d": [
           {
            "colorbar": {
             "outlinewidth": 0,
             "ticks": ""
            },
            "colorscale": [
             [
              0,
              "#0d0887"
             ],
             [
              0.1111111111111111,
              "#46039f"
             ],
             [
              0.2222222222222222,
              "#7201a8"
             ],
             [
              0.3333333333333333,
              "#9c179e"
             ],
             [
              0.4444444444444444,
              "#bd3786"
             ],
             [
              0.5555555555555556,
              "#d8576b"
             ],
             [
              0.6666666666666666,
              "#ed7953"
             ],
             [
              0.7777777777777778,
              "#fb9f3a"
             ],
             [
              0.8888888888888888,
              "#fdca26"
             ],
             [
              1,
              "#f0f921"
             ]
            ],
            "type": "histogram2d"
           }
          ],
          "histogram2dcontour": [
           {
            "colorbar": {
             "outlinewidth": 0,
             "ticks": ""
            },
            "colorscale": [
             [
              0,
              "#0d0887"
             ],
             [
              0.1111111111111111,
              "#46039f"
             ],
             [
              0.2222222222222222,
              "#7201a8"
             ],
             [
              0.3333333333333333,
              "#9c179e"
             ],
             [
              0.4444444444444444,
              "#bd3786"
             ],
             [
              0.5555555555555556,
              "#d8576b"
             ],
             [
              0.6666666666666666,
              "#ed7953"
             ],
             [
              0.7777777777777778,
              "#fb9f3a"
             ],
             [
              0.8888888888888888,
              "#fdca26"
             ],
             [
              1,
              "#f0f921"
             ]
            ],
            "type": "histogram2dcontour"
           }
          ],
          "mesh3d": [
           {
            "colorbar": {
             "outlinewidth": 0,
             "ticks": ""
            },
            "type": "mesh3d"
           }
          ],
          "parcoords": [
           {
            "line": {
             "colorbar": {
              "outlinewidth": 0,
              "ticks": ""
             }
            },
            "type": "parcoords"
           }
          ],
          "pie": [
           {
            "automargin": true,
            "type": "pie"
           }
          ],
          "scatter": [
           {
            "marker": {
             "colorbar": {
              "outlinewidth": 0,
              "ticks": ""
             }
            },
            "type": "scatter"
           }
          ],
          "scatter3d": [
           {
            "line": {
             "colorbar": {
              "outlinewidth": 0,
              "ticks": ""
             }
            },
            "marker": {
             "colorbar": {
              "outlinewidth": 0,
              "ticks": ""
             }
            },
            "type": "scatter3d"
           }
          ],
          "scattercarpet": [
           {
            "marker": {
             "colorbar": {
              "outlinewidth": 0,
              "ticks": ""
             }
            },
            "type": "scattercarpet"
           }
          ],
          "scattergeo": [
           {
            "marker": {
             "colorbar": {
              "outlinewidth": 0,
              "ticks": ""
             }
            },
            "type": "scattergeo"
           }
          ],
          "scattergl": [
           {
            "marker": {
             "colorbar": {
              "outlinewidth": 0,
              "ticks": ""
             }
            },
            "type": "scattergl"
           }
          ],
          "scattermapbox": [
           {
            "marker": {
             "colorbar": {
              "outlinewidth": 0,
              "ticks": ""
             }
            },
            "type": "scattermapbox"
           }
          ],
          "scatterpolar": [
           {
            "marker": {
             "colorbar": {
              "outlinewidth": 0,
              "ticks": ""
             }
            },
            "type": "scatterpolar"
           }
          ],
          "scatterpolargl": [
           {
            "marker": {
             "colorbar": {
              "outlinewidth": 0,
              "ticks": ""
             }
            },
            "type": "scatterpolargl"
           }
          ],
          "scatterternary": [
           {
            "marker": {
             "colorbar": {
              "outlinewidth": 0,
              "ticks": ""
             }
            },
            "type": "scatterternary"
           }
          ],
          "surface": [
           {
            "colorbar": {
             "outlinewidth": 0,
             "ticks": ""
            },
            "colorscale": [
             [
              0,
              "#0d0887"
             ],
             [
              0.1111111111111111,
              "#46039f"
             ],
             [
              0.2222222222222222,
              "#7201a8"
             ],
             [
              0.3333333333333333,
              "#9c179e"
             ],
             [
              0.4444444444444444,
              "#bd3786"
             ],
             [
              0.5555555555555556,
              "#d8576b"
             ],
             [
              0.6666666666666666,
              "#ed7953"
             ],
             [
              0.7777777777777778,
              "#fb9f3a"
             ],
             [
              0.8888888888888888,
              "#fdca26"
             ],
             [
              1,
              "#f0f921"
             ]
            ],
            "type": "surface"
           }
          ],
          "table": [
           {
            "cells": {
             "fill": {
              "color": "#EBF0F8"
             },
             "line": {
              "color": "white"
             }
            },
            "header": {
             "fill": {
              "color": "#C8D4E3"
             },
             "line": {
              "color": "white"
             }
            },
            "type": "table"
           }
          ]
         },
         "layout": {
          "annotationdefaults": {
           "arrowcolor": "#2a3f5f",
           "arrowhead": 0,
           "arrowwidth": 1
          },
          "autotypenumbers": "strict",
          "coloraxis": {
           "colorbar": {
            "outlinewidth": 0,
            "ticks": ""
           }
          },
          "colorscale": {
           "diverging": [
            [
             0,
             "#8e0152"
            ],
            [
             0.1,
             "#c51b7d"
            ],
            [
             0.2,
             "#de77ae"
            ],
            [
             0.3,
             "#f1b6da"
            ],
            [
             0.4,
             "#fde0ef"
            ],
            [
             0.5,
             "#f7f7f7"
            ],
            [
             0.6,
             "#e6f5d0"
            ],
            [
             0.7,
             "#b8e186"
            ],
            [
             0.8,
             "#7fbc41"
            ],
            [
             0.9,
             "#4d9221"
            ],
            [
             1,
             "#276419"
            ]
           ],
           "sequential": [
            [
             0,
             "#0d0887"
            ],
            [
             0.1111111111111111,
             "#46039f"
            ],
            [
             0.2222222222222222,
             "#7201a8"
            ],
            [
             0.3333333333333333,
             "#9c179e"
            ],
            [
             0.4444444444444444,
             "#bd3786"
            ],
            [
             0.5555555555555556,
             "#d8576b"
            ],
            [
             0.6666666666666666,
             "#ed7953"
            ],
            [
             0.7777777777777778,
             "#fb9f3a"
            ],
            [
             0.8888888888888888,
             "#fdca26"
            ],
            [
             1,
             "#f0f921"
            ]
           ],
           "sequentialminus": [
            [
             0,
             "#0d0887"
            ],
            [
             0.1111111111111111,
             "#46039f"
            ],
            [
             0.2222222222222222,
             "#7201a8"
            ],
            [
             0.3333333333333333,
             "#9c179e"
            ],
            [
             0.4444444444444444,
             "#bd3786"
            ],
            [
             0.5555555555555556,
             "#d8576b"
            ],
            [
             0.6666666666666666,
             "#ed7953"
            ],
            [
             0.7777777777777778,
             "#fb9f3a"
            ],
            [
             0.8888888888888888,
             "#fdca26"
            ],
            [
             1,
             "#f0f921"
            ]
           ]
          },
          "colorway": [
           "#636efa",
           "#EF553B",
           "#00cc96",
           "#ab63fa",
           "#FFA15A",
           "#19d3f3",
           "#FF6692",
           "#B6E880",
           "#FF97FF",
           "#FECB52"
          ],
          "font": {
           "color": "#2a3f5f"
          },
          "geo": {
           "bgcolor": "white",
           "lakecolor": "white",
           "landcolor": "#E5ECF6",
           "showlakes": true,
           "showland": true,
           "subunitcolor": "white"
          },
          "hoverlabel": {
           "align": "left"
          },
          "hovermode": "closest",
          "mapbox": {
           "style": "light"
          },
          "paper_bgcolor": "white",
          "plot_bgcolor": "#E5ECF6",
          "polar": {
           "angularaxis": {
            "gridcolor": "white",
            "linecolor": "white",
            "ticks": ""
           },
           "bgcolor": "#E5ECF6",
           "radialaxis": {
            "gridcolor": "white",
            "linecolor": "white",
            "ticks": ""
           }
          },
          "scene": {
           "xaxis": {
            "backgroundcolor": "#E5ECF6",
            "gridcolor": "white",
            "gridwidth": 2,
            "linecolor": "white",
            "showbackground": true,
            "ticks": "",
            "zerolinecolor": "white"
           },
           "yaxis": {
            "backgroundcolor": "#E5ECF6",
            "gridcolor": "white",
            "gridwidth": 2,
            "linecolor": "white",
            "showbackground": true,
            "ticks": "",
            "zerolinecolor": "white"
           },
           "zaxis": {
            "backgroundcolor": "#E5ECF6",
            "gridcolor": "white",
            "gridwidth": 2,
            "linecolor": "white",
            "showbackground": true,
            "ticks": "",
            "zerolinecolor": "white"
           }
          },
          "shapedefaults": {
           "line": {
            "color": "#2a3f5f"
           }
          },
          "ternary": {
           "aaxis": {
            "gridcolor": "white",
            "linecolor": "white",
            "ticks": ""
           },
           "baxis": {
            "gridcolor": "white",
            "linecolor": "white",
            "ticks": ""
           },
           "bgcolor": "#E5ECF6",
           "caxis": {
            "gridcolor": "white",
            "linecolor": "white",
            "ticks": ""
           }
          },
          "title": {
           "x": 0.05
          },
          "xaxis": {
           "automargin": true,
           "gridcolor": "white",
           "linecolor": "white",
           "ticks": "",
           "title": {
            "standoff": 15
           },
           "zerolinecolor": "white",
           "zerolinewidth": 2
          },
          "yaxis": {
           "automargin": true,
           "gridcolor": "white",
           "linecolor": "white",
           "ticks": "",
           "title": {
            "standoff": 15
           },
           "zerolinecolor": "white",
           "zerolinewidth": 2
          }
         }
        },
        "title": {
         "text": "2020 Certifications by Origin"
        },
        "xaxis": {
         "anchor": "y",
         "domain": [
          0,
          1
         ],
         "title": {
          "text": "country"
         }
        },
        "yaxis": {
         "anchor": "x",
         "domain": [
          0,
          1
         ],
         "title": {
          "text": "oshwaUid"
         }
        }
       }
      },
      "text/html": [
       "<div>                            <div id=\"085e52c9-d1a9-44a5-837e-07d01be7441d\" class=\"plotly-graph-div\" style=\"height:525px; width:100%;\"></div>            <script type=\"text/javascript\">                require([\"plotly\"], function(Plotly) {                    window.PLOTLYENV=window.PLOTLYENV || {};                                    if (document.getElementById(\"085e52c9-d1a9-44a5-837e-07d01be7441d\")) {                    Plotly.newPlot(                        \"085e52c9-d1a9-44a5-837e-07d01be7441d\",                        [{\"alignmentgroup\": \"True\", \"hovertemplate\": \"country=%{x}<br>oshwaUid=%{y}<extra></extra>\", \"legendgroup\": \"\", \"marker\": {\"color\": \"#636efa\"}, \"name\": \"\", \"offsetgroup\": \"\", \"orientation\": \"v\", \"showlegend\": false, \"textposition\": \"auto\", \"type\": \"bar\", \"x\": [\"United States of America\", \"Germany\", \"United Kingdom\", \"Mexico\", \"Bulgaria\", \"India\", \"Sweden\", \"Spain\", \"Australia\", \"Switzerland\", \"Indonesia\", \"Mauritius\", \"France\", \"Brazil\", \"Guatemala\", \"Poland\", \"Croatia\", \"Canada\", \"Japan\", \"Thailand\", \"Russia\", \"Ecuador\", \"Czech Republic\", \"Ireland\", \"Azerbaijan\", \"Finland\", \"China\", \"Lithuania\", \"Netherlands\", \"Portugal\", \"Costa Rica\", \"Sri Lanka\", \"Greece\", \"Taiwan\", \"El Salvador\", \"Turkey\", \"Belgium\"], \"xaxis\": \"x\", \"y\": [725, 85, 16, 15, 14, 12, 6, 6, 6, 5, 4, 4, 4, 4, 4, 4, 3, 3, 3, 2, 2, 2, 2, 2, 2, 2, 2, 1, 1, 1, 1, 1, 1, 1, 1, 1, 1], \"yaxis\": \"y\"}],                        {\"barmode\": \"relative\", \"legend\": {\"tracegroupgap\": 0}, \"template\": {\"data\": {\"bar\": [{\"error_x\": {\"color\": \"#2a3f5f\"}, \"error_y\": {\"color\": \"#2a3f5f\"}, \"marker\": {\"line\": {\"color\": \"#E5ECF6\", \"width\": 0.5}}, \"type\": \"bar\"}], \"barpolar\": [{\"marker\": {\"line\": {\"color\": \"#E5ECF6\", \"width\": 0.5}}, \"type\": \"barpolar\"}], \"carpet\": [{\"aaxis\": {\"endlinecolor\": \"#2a3f5f\", \"gridcolor\": \"white\", \"linecolor\": \"white\", \"minorgridcolor\": \"white\", \"startlinecolor\": \"#2a3f5f\"}, \"baxis\": {\"endlinecolor\": \"#2a3f5f\", \"gridcolor\": \"white\", \"linecolor\": \"white\", \"minorgridcolor\": \"white\", \"startlinecolor\": \"#2a3f5f\"}, \"type\": \"carpet\"}], \"choropleth\": [{\"colorbar\": {\"outlinewidth\": 0, \"ticks\": \"\"}, \"type\": \"choropleth\"}], \"contour\": [{\"colorbar\": {\"outlinewidth\": 0, \"ticks\": \"\"}, \"colorscale\": [[0.0, \"#0d0887\"], [0.1111111111111111, \"#46039f\"], [0.2222222222222222, \"#7201a8\"], [0.3333333333333333, \"#9c179e\"], [0.4444444444444444, \"#bd3786\"], [0.5555555555555556, \"#d8576b\"], [0.6666666666666666, \"#ed7953\"], [0.7777777777777778, \"#fb9f3a\"], [0.8888888888888888, \"#fdca26\"], [1.0, \"#f0f921\"]], \"type\": \"contour\"}], \"contourcarpet\": [{\"colorbar\": {\"outlinewidth\": 0, \"ticks\": \"\"}, \"type\": \"contourcarpet\"}], \"heatmap\": [{\"colorbar\": {\"outlinewidth\": 0, \"ticks\": \"\"}, \"colorscale\": [[0.0, \"#0d0887\"], [0.1111111111111111, \"#46039f\"], [0.2222222222222222, \"#7201a8\"], [0.3333333333333333, \"#9c179e\"], [0.4444444444444444, \"#bd3786\"], [0.5555555555555556, \"#d8576b\"], [0.6666666666666666, \"#ed7953\"], [0.7777777777777778, \"#fb9f3a\"], [0.8888888888888888, \"#fdca26\"], [1.0, \"#f0f921\"]], \"type\": \"heatmap\"}], \"heatmapgl\": [{\"colorbar\": {\"outlinewidth\": 0, \"ticks\": \"\"}, \"colorscale\": [[0.0, \"#0d0887\"], [0.1111111111111111, \"#46039f\"], [0.2222222222222222, \"#7201a8\"], [0.3333333333333333, \"#9c179e\"], [0.4444444444444444, \"#bd3786\"], [0.5555555555555556, \"#d8576b\"], [0.6666666666666666, \"#ed7953\"], [0.7777777777777778, \"#fb9f3a\"], [0.8888888888888888, \"#fdca26\"], [1.0, \"#f0f921\"]], \"type\": \"heatmapgl\"}], \"histogram\": [{\"marker\": {\"colorbar\": {\"outlinewidth\": 0, \"ticks\": \"\"}}, \"type\": \"histogram\"}], \"histogram2d\": [{\"colorbar\": {\"outlinewidth\": 0, \"ticks\": \"\"}, \"colorscale\": [[0.0, \"#0d0887\"], [0.1111111111111111, \"#46039f\"], [0.2222222222222222, \"#7201a8\"], [0.3333333333333333, \"#9c179e\"], [0.4444444444444444, \"#bd3786\"], [0.5555555555555556, \"#d8576b\"], [0.6666666666666666, \"#ed7953\"], [0.7777777777777778, \"#fb9f3a\"], [0.8888888888888888, \"#fdca26\"], [1.0, \"#f0f921\"]], \"type\": \"histogram2d\"}], \"histogram2dcontour\": [{\"colorbar\": {\"outlinewidth\": 0, \"ticks\": \"\"}, \"colorscale\": [[0.0, \"#0d0887\"], [0.1111111111111111, \"#46039f\"], [0.2222222222222222, \"#7201a8\"], [0.3333333333333333, \"#9c179e\"], [0.4444444444444444, \"#bd3786\"], [0.5555555555555556, \"#d8576b\"], [0.6666666666666666, \"#ed7953\"], [0.7777777777777778, \"#fb9f3a\"], [0.8888888888888888, \"#fdca26\"], [1.0, \"#f0f921\"]], \"type\": \"histogram2dcontour\"}], \"mesh3d\": [{\"colorbar\": {\"outlinewidth\": 0, \"ticks\": \"\"}, \"type\": \"mesh3d\"}], \"parcoords\": [{\"line\": {\"colorbar\": {\"outlinewidth\": 0, \"ticks\": \"\"}}, \"type\": \"parcoords\"}], \"pie\": [{\"automargin\": true, \"type\": \"pie\"}], \"scatter\": [{\"marker\": {\"colorbar\": {\"outlinewidth\": 0, \"ticks\": \"\"}}, \"type\": \"scatter\"}], \"scatter3d\": [{\"line\": {\"colorbar\": {\"outlinewidth\": 0, \"ticks\": \"\"}}, \"marker\": {\"colorbar\": {\"outlinewidth\": 0, \"ticks\": \"\"}}, \"type\": \"scatter3d\"}], \"scattercarpet\": [{\"marker\": {\"colorbar\": {\"outlinewidth\": 0, \"ticks\": \"\"}}, \"type\": \"scattercarpet\"}], \"scattergeo\": [{\"marker\": {\"colorbar\": {\"outlinewidth\": 0, \"ticks\": \"\"}}, \"type\": \"scattergeo\"}], \"scattergl\": [{\"marker\": {\"colorbar\": {\"outlinewidth\": 0, \"ticks\": \"\"}}, \"type\": \"scattergl\"}], \"scattermapbox\": [{\"marker\": {\"colorbar\": {\"outlinewidth\": 0, \"ticks\": \"\"}}, \"type\": \"scattermapbox\"}], \"scatterpolar\": [{\"marker\": {\"colorbar\": {\"outlinewidth\": 0, \"ticks\": \"\"}}, \"type\": \"scatterpolar\"}], \"scatterpolargl\": [{\"marker\": {\"colorbar\": {\"outlinewidth\": 0, \"ticks\": \"\"}}, \"type\": \"scatterpolargl\"}], \"scatterternary\": [{\"marker\": {\"colorbar\": {\"outlinewidth\": 0, \"ticks\": \"\"}}, \"type\": \"scatterternary\"}], \"surface\": [{\"colorbar\": {\"outlinewidth\": 0, \"ticks\": \"\"}, \"colorscale\": [[0.0, \"#0d0887\"], [0.1111111111111111, \"#46039f\"], [0.2222222222222222, \"#7201a8\"], [0.3333333333333333, \"#9c179e\"], [0.4444444444444444, \"#bd3786\"], [0.5555555555555556, \"#d8576b\"], [0.6666666666666666, \"#ed7953\"], [0.7777777777777778, \"#fb9f3a\"], [0.8888888888888888, \"#fdca26\"], [1.0, \"#f0f921\"]], \"type\": \"surface\"}], \"table\": [{\"cells\": {\"fill\": {\"color\": \"#EBF0F8\"}, \"line\": {\"color\": \"white\"}}, \"header\": {\"fill\": {\"color\": \"#C8D4E3\"}, \"line\": {\"color\": \"white\"}}, \"type\": \"table\"}]}, \"layout\": {\"annotationdefaults\": {\"arrowcolor\": \"#2a3f5f\", \"arrowhead\": 0, \"arrowwidth\": 1}, \"autotypenumbers\": \"strict\", \"coloraxis\": {\"colorbar\": {\"outlinewidth\": 0, \"ticks\": \"\"}}, \"colorscale\": {\"diverging\": [[0, \"#8e0152\"], [0.1, \"#c51b7d\"], [0.2, \"#de77ae\"], [0.3, \"#f1b6da\"], [0.4, \"#fde0ef\"], [0.5, \"#f7f7f7\"], [0.6, \"#e6f5d0\"], [0.7, \"#b8e186\"], [0.8, \"#7fbc41\"], [0.9, \"#4d9221\"], [1, \"#276419\"]], \"sequential\": [[0.0, \"#0d0887\"], [0.1111111111111111, \"#46039f\"], [0.2222222222222222, \"#7201a8\"], [0.3333333333333333, \"#9c179e\"], [0.4444444444444444, \"#bd3786\"], [0.5555555555555556, \"#d8576b\"], [0.6666666666666666, \"#ed7953\"], [0.7777777777777778, \"#fb9f3a\"], [0.8888888888888888, \"#fdca26\"], [1.0, \"#f0f921\"]], \"sequentialminus\": [[0.0, \"#0d0887\"], [0.1111111111111111, \"#46039f\"], [0.2222222222222222, \"#7201a8\"], [0.3333333333333333, \"#9c179e\"], [0.4444444444444444, \"#bd3786\"], [0.5555555555555556, \"#d8576b\"], [0.6666666666666666, \"#ed7953\"], [0.7777777777777778, \"#fb9f3a\"], [0.8888888888888888, \"#fdca26\"], [1.0, \"#f0f921\"]]}, \"colorway\": [\"#636efa\", \"#EF553B\", \"#00cc96\", \"#ab63fa\", \"#FFA15A\", \"#19d3f3\", \"#FF6692\", \"#B6E880\", \"#FF97FF\", \"#FECB52\"], \"font\": {\"color\": \"#2a3f5f\"}, \"geo\": {\"bgcolor\": \"white\", \"lakecolor\": \"white\", \"landcolor\": \"#E5ECF6\", \"showlakes\": true, \"showland\": true, \"subunitcolor\": \"white\"}, \"hoverlabel\": {\"align\": \"left\"}, \"hovermode\": \"closest\", \"mapbox\": {\"style\": \"light\"}, \"paper_bgcolor\": \"white\", \"plot_bgcolor\": \"#E5ECF6\", \"polar\": {\"angularaxis\": {\"gridcolor\": \"white\", \"linecolor\": \"white\", \"ticks\": \"\"}, \"bgcolor\": \"#E5ECF6\", \"radialaxis\": {\"gridcolor\": \"white\", \"linecolor\": \"white\", \"ticks\": \"\"}}, \"scene\": {\"xaxis\": {\"backgroundcolor\": \"#E5ECF6\", \"gridcolor\": \"white\", \"gridwidth\": 2, \"linecolor\": \"white\", \"showbackground\": true, \"ticks\": \"\", \"zerolinecolor\": \"white\"}, \"yaxis\": {\"backgroundcolor\": \"#E5ECF6\", \"gridcolor\": \"white\", \"gridwidth\": 2, \"linecolor\": \"white\", \"showbackground\": true, \"ticks\": \"\", \"zerolinecolor\": \"white\"}, \"zaxis\": {\"backgroundcolor\": \"#E5ECF6\", \"gridcolor\": \"white\", \"gridwidth\": 2, \"linecolor\": \"white\", \"showbackground\": true, \"ticks\": \"\", \"zerolinecolor\": \"white\"}}, \"shapedefaults\": {\"line\": {\"color\": \"#2a3f5f\"}}, \"ternary\": {\"aaxis\": {\"gridcolor\": \"white\", \"linecolor\": \"white\", \"ticks\": \"\"}, \"baxis\": {\"gridcolor\": \"white\", \"linecolor\": \"white\", \"ticks\": \"\"}, \"bgcolor\": \"#E5ECF6\", \"caxis\": {\"gridcolor\": \"white\", \"linecolor\": \"white\", \"ticks\": \"\"}}, \"title\": {\"x\": 0.05}, \"xaxis\": {\"automargin\": true, \"gridcolor\": \"white\", \"linecolor\": \"white\", \"ticks\": \"\", \"title\": {\"standoff\": 15}, \"zerolinecolor\": \"white\", \"zerolinewidth\": 2}, \"yaxis\": {\"automargin\": true, \"gridcolor\": \"white\", \"linecolor\": \"white\", \"ticks\": \"\", \"title\": {\"standoff\": 15}, \"zerolinecolor\": \"white\", \"zerolinewidth\": 2}}}, \"title\": {\"text\": \"2020 Certifications by Origin\"}, \"xaxis\": {\"anchor\": \"y\", \"domain\": [0.0, 1.0], \"title\": {\"text\": \"country\"}}, \"yaxis\": {\"anchor\": \"x\", \"domain\": [0.0, 1.0], \"title\": {\"text\": \"oshwaUid\"}}},                        {\"responsive\": true}                    ).then(function(){\n",
       "                            \n",
       "var gd = document.getElementById('085e52c9-d1a9-44a5-837e-07d01be7441d');\n",
       "var x = new MutationObserver(function (mutations, observer) {{\n",
       "        var display = window.getComputedStyle(gd).display;\n",
       "        if (!display || display === 'none') {{\n",
       "            console.log([gd, 'removed!']);\n",
       "            Plotly.purge(gd);\n",
       "            observer.disconnect();\n",
       "        }}\n",
       "}});\n",
       "\n",
       "// Listen for the removal of the full notebook cells\n",
       "var notebookContainer = gd.closest('#notebook-container');\n",
       "if (notebookContainer) {{\n",
       "    x.observe(notebookContainer, {childList: true});\n",
       "}}\n",
       "\n",
       "// Listen for the clearing of the current output cell\n",
       "var outputEl = gd.closest('.output');\n",
       "if (outputEl) {{\n",
       "    x.observe(outputEl, {childList: true});\n",
       "}}\n",
       "\n",
       "                        })                };                });            </script>        </div>"
      ]
     },
     "metadata": {},
     "output_type": "display_data"
    }
   ],
   "source": [
    "fig = px.bar(country_data,y=\"oshwaUid\",title=\"2020 Certifications by Origin\")\n",
    "fig.show()"
   ]
  },
  {
   "cell_type": "code",
   "execution_count": 42,
   "metadata": {},
   "outputs": [
    {
     "data": {
      "application/vnd.plotly.v1+json": {
       "config": {
        "plotlyServerURL": "https://plot.ly"
       },
       "data": [
        {
         "alignmentgroup": "True",
         "bingroup": "x",
         "hovertemplate": "oshwaUid=%{x}<br>count=%{y}<extra></extra>",
         "legendgroup": "",
         "marker": {
          "color": "#636efa"
         },
         "name": "",
         "nbinsx": 10,
         "offsetgroup": "",
         "orientation": "v",
         "showlegend": false,
         "type": "histogram",
         "x": [
          1,
          3,
          1,
          1,
          1,
          1,
          407,
          1,
          1,
          1,
          2,
          1,
          1,
          1,
          1,
          1,
          1,
          1,
          2,
          1,
          1,
          2,
          3,
          1,
          1,
          1,
          1,
          1,
          1,
          12,
          2,
          2,
          1,
          1,
          34,
          3,
          1,
          1,
          4,
          2,
          1,
          1,
          1,
          1,
          1,
          1,
          1,
          1,
          1,
          1,
          1,
          2,
          1,
          1,
          1,
          1,
          1,
          1,
          1,
          1,
          2,
          1,
          1,
          1,
          1,
          1,
          1,
          1,
          1,
          1,
          1,
          1,
          1,
          1,
          1,
          1,
          1,
          1,
          11,
          1,
          2,
          1,
          1,
          10,
          1,
          1,
          1,
          2,
          1,
          1,
          1,
          1,
          1,
          2,
          2,
          1,
          1,
          251,
          4,
          1,
          2,
          2,
          1,
          1,
          3,
          2,
          1,
          4,
          1,
          1,
          1,
          1,
          1,
          1,
          1,
          1,
          66,
          1,
          1,
          1,
          1,
          3,
          4,
          1,
          1,
          1,
          1,
          1
         ],
         "xaxis": "x",
         "yaxis": "y"
        }
       ],
       "layout": {
        "barmode": "relative",
        "legend": {
         "tracegroupgap": 0
        },
        "template": {
         "data": {
          "bar": [
           {
            "error_x": {
             "color": "#2a3f5f"
            },
            "error_y": {
             "color": "#2a3f5f"
            },
            "marker": {
             "line": {
              "color": "#E5ECF6",
              "width": 0.5
             }
            },
            "type": "bar"
           }
          ],
          "barpolar": [
           {
            "marker": {
             "line": {
              "color": "#E5ECF6",
              "width": 0.5
             }
            },
            "type": "barpolar"
           }
          ],
          "carpet": [
           {
            "aaxis": {
             "endlinecolor": "#2a3f5f",
             "gridcolor": "white",
             "linecolor": "white",
             "minorgridcolor": "white",
             "startlinecolor": "#2a3f5f"
            },
            "baxis": {
             "endlinecolor": "#2a3f5f",
             "gridcolor": "white",
             "linecolor": "white",
             "minorgridcolor": "white",
             "startlinecolor": "#2a3f5f"
            },
            "type": "carpet"
           }
          ],
          "choropleth": [
           {
            "colorbar": {
             "outlinewidth": 0,
             "ticks": ""
            },
            "type": "choropleth"
           }
          ],
          "contour": [
           {
            "colorbar": {
             "outlinewidth": 0,
             "ticks": ""
            },
            "colorscale": [
             [
              0,
              "#0d0887"
             ],
             [
              0.1111111111111111,
              "#46039f"
             ],
             [
              0.2222222222222222,
              "#7201a8"
             ],
             [
              0.3333333333333333,
              "#9c179e"
             ],
             [
              0.4444444444444444,
              "#bd3786"
             ],
             [
              0.5555555555555556,
              "#d8576b"
             ],
             [
              0.6666666666666666,
              "#ed7953"
             ],
             [
              0.7777777777777778,
              "#fb9f3a"
             ],
             [
              0.8888888888888888,
              "#fdca26"
             ],
             [
              1,
              "#f0f921"
             ]
            ],
            "type": "contour"
           }
          ],
          "contourcarpet": [
           {
            "colorbar": {
             "outlinewidth": 0,
             "ticks": ""
            },
            "type": "contourcarpet"
           }
          ],
          "heatmap": [
           {
            "colorbar": {
             "outlinewidth": 0,
             "ticks": ""
            },
            "colorscale": [
             [
              0,
              "#0d0887"
             ],
             [
              0.1111111111111111,
              "#46039f"
             ],
             [
              0.2222222222222222,
              "#7201a8"
             ],
             [
              0.3333333333333333,
              "#9c179e"
             ],
             [
              0.4444444444444444,
              "#bd3786"
             ],
             [
              0.5555555555555556,
              "#d8576b"
             ],
             [
              0.6666666666666666,
              "#ed7953"
             ],
             [
              0.7777777777777778,
              "#fb9f3a"
             ],
             [
              0.8888888888888888,
              "#fdca26"
             ],
             [
              1,
              "#f0f921"
             ]
            ],
            "type": "heatmap"
           }
          ],
          "heatmapgl": [
           {
            "colorbar": {
             "outlinewidth": 0,
             "ticks": ""
            },
            "colorscale": [
             [
              0,
              "#0d0887"
             ],
             [
              0.1111111111111111,
              "#46039f"
             ],
             [
              0.2222222222222222,
              "#7201a8"
             ],
             [
              0.3333333333333333,
              "#9c179e"
             ],
             [
              0.4444444444444444,
              "#bd3786"
             ],
             [
              0.5555555555555556,
              "#d8576b"
             ],
             [
              0.6666666666666666,
              "#ed7953"
             ],
             [
              0.7777777777777778,
              "#fb9f3a"
             ],
             [
              0.8888888888888888,
              "#fdca26"
             ],
             [
              1,
              "#f0f921"
             ]
            ],
            "type": "heatmapgl"
           }
          ],
          "histogram": [
           {
            "marker": {
             "colorbar": {
              "outlinewidth": 0,
              "ticks": ""
             }
            },
            "type": "histogram"
           }
          ],
          "histogram2d": [
           {
            "colorbar": {
             "outlinewidth": 0,
             "ticks": ""
            },
            "colorscale": [
             [
              0,
              "#0d0887"
             ],
             [
              0.1111111111111111,
              "#46039f"
             ],
             [
              0.2222222222222222,
              "#7201a8"
             ],
             [
              0.3333333333333333,
              "#9c179e"
             ],
             [
              0.4444444444444444,
              "#bd3786"
             ],
             [
              0.5555555555555556,
              "#d8576b"
             ],
             [
              0.6666666666666666,
              "#ed7953"
             ],
             [
              0.7777777777777778,
              "#fb9f3a"
             ],
             [
              0.8888888888888888,
              "#fdca26"
             ],
             [
              1,
              "#f0f921"
             ]
            ],
            "type": "histogram2d"
           }
          ],
          "histogram2dcontour": [
           {
            "colorbar": {
             "outlinewidth": 0,
             "ticks": ""
            },
            "colorscale": [
             [
              0,
              "#0d0887"
             ],
             [
              0.1111111111111111,
              "#46039f"
             ],
             [
              0.2222222222222222,
              "#7201a8"
             ],
             [
              0.3333333333333333,
              "#9c179e"
             ],
             [
              0.4444444444444444,
              "#bd3786"
             ],
             [
              0.5555555555555556,
              "#d8576b"
             ],
             [
              0.6666666666666666,
              "#ed7953"
             ],
             [
              0.7777777777777778,
              "#fb9f3a"
             ],
             [
              0.8888888888888888,
              "#fdca26"
             ],
             [
              1,
              "#f0f921"
             ]
            ],
            "type": "histogram2dcontour"
           }
          ],
          "mesh3d": [
           {
            "colorbar": {
             "outlinewidth": 0,
             "ticks": ""
            },
            "type": "mesh3d"
           }
          ],
          "parcoords": [
           {
            "line": {
             "colorbar": {
              "outlinewidth": 0,
              "ticks": ""
             }
            },
            "type": "parcoords"
           }
          ],
          "pie": [
           {
            "automargin": true,
            "type": "pie"
           }
          ],
          "scatter": [
           {
            "marker": {
             "colorbar": {
              "outlinewidth": 0,
              "ticks": ""
             }
            },
            "type": "scatter"
           }
          ],
          "scatter3d": [
           {
            "line": {
             "colorbar": {
              "outlinewidth": 0,
              "ticks": ""
             }
            },
            "marker": {
             "colorbar": {
              "outlinewidth": 0,
              "ticks": ""
             }
            },
            "type": "scatter3d"
           }
          ],
          "scattercarpet": [
           {
            "marker": {
             "colorbar": {
              "outlinewidth": 0,
              "ticks": ""
             }
            },
            "type": "scattercarpet"
           }
          ],
          "scattergeo": [
           {
            "marker": {
             "colorbar": {
              "outlinewidth": 0,
              "ticks": ""
             }
            },
            "type": "scattergeo"
           }
          ],
          "scattergl": [
           {
            "marker": {
             "colorbar": {
              "outlinewidth": 0,
              "ticks": ""
             }
            },
            "type": "scattergl"
           }
          ],
          "scattermapbox": [
           {
            "marker": {
             "colorbar": {
              "outlinewidth": 0,
              "ticks": ""
             }
            },
            "type": "scattermapbox"
           }
          ],
          "scatterpolar": [
           {
            "marker": {
             "colorbar": {
              "outlinewidth": 0,
              "ticks": ""
             }
            },
            "type": "scatterpolar"
           }
          ],
          "scatterpolargl": [
           {
            "marker": {
             "colorbar": {
              "outlinewidth": 0,
              "ticks": ""
             }
            },
            "type": "scatterpolargl"
           }
          ],
          "scatterternary": [
           {
            "marker": {
             "colorbar": {
              "outlinewidth": 0,
              "ticks": ""
             }
            },
            "type": "scatterternary"
           }
          ],
          "surface": [
           {
            "colorbar": {
             "outlinewidth": 0,
             "ticks": ""
            },
            "colorscale": [
             [
              0,
              "#0d0887"
             ],
             [
              0.1111111111111111,
              "#46039f"
             ],
             [
              0.2222222222222222,
              "#7201a8"
             ],
             [
              0.3333333333333333,
              "#9c179e"
             ],
             [
              0.4444444444444444,
              "#bd3786"
             ],
             [
              0.5555555555555556,
              "#d8576b"
             ],
             [
              0.6666666666666666,
              "#ed7953"
             ],
             [
              0.7777777777777778,
              "#fb9f3a"
             ],
             [
              0.8888888888888888,
              "#fdca26"
             ],
             [
              1,
              "#f0f921"
             ]
            ],
            "type": "surface"
           }
          ],
          "table": [
           {
            "cells": {
             "fill": {
              "color": "#EBF0F8"
             },
             "line": {
              "color": "white"
             }
            },
            "header": {
             "fill": {
              "color": "#C8D4E3"
             },
             "line": {
              "color": "white"
             }
            },
            "type": "table"
           }
          ]
         },
         "layout": {
          "annotationdefaults": {
           "arrowcolor": "#2a3f5f",
           "arrowhead": 0,
           "arrowwidth": 1
          },
          "autotypenumbers": "strict",
          "coloraxis": {
           "colorbar": {
            "outlinewidth": 0,
            "ticks": ""
           }
          },
          "colorscale": {
           "diverging": [
            [
             0,
             "#8e0152"
            ],
            [
             0.1,
             "#c51b7d"
            ],
            [
             0.2,
             "#de77ae"
            ],
            [
             0.3,
             "#f1b6da"
            ],
            [
             0.4,
             "#fde0ef"
            ],
            [
             0.5,
             "#f7f7f7"
            ],
            [
             0.6,
             "#e6f5d0"
            ],
            [
             0.7,
             "#b8e186"
            ],
            [
             0.8,
             "#7fbc41"
            ],
            [
             0.9,
             "#4d9221"
            ],
            [
             1,
             "#276419"
            ]
           ],
           "sequential": [
            [
             0,
             "#0d0887"
            ],
            [
             0.1111111111111111,
             "#46039f"
            ],
            [
             0.2222222222222222,
             "#7201a8"
            ],
            [
             0.3333333333333333,
             "#9c179e"
            ],
            [
             0.4444444444444444,
             "#bd3786"
            ],
            [
             0.5555555555555556,
             "#d8576b"
            ],
            [
             0.6666666666666666,
             "#ed7953"
            ],
            [
             0.7777777777777778,
             "#fb9f3a"
            ],
            [
             0.8888888888888888,
             "#fdca26"
            ],
            [
             1,
             "#f0f921"
            ]
           ],
           "sequentialminus": [
            [
             0,
             "#0d0887"
            ],
            [
             0.1111111111111111,
             "#46039f"
            ],
            [
             0.2222222222222222,
             "#7201a8"
            ],
            [
             0.3333333333333333,
             "#9c179e"
            ],
            [
             0.4444444444444444,
             "#bd3786"
            ],
            [
             0.5555555555555556,
             "#d8576b"
            ],
            [
             0.6666666666666666,
             "#ed7953"
            ],
            [
             0.7777777777777778,
             "#fb9f3a"
            ],
            [
             0.8888888888888888,
             "#fdca26"
            ],
            [
             1,
             "#f0f921"
            ]
           ]
          },
          "colorway": [
           "#636efa",
           "#EF553B",
           "#00cc96",
           "#ab63fa",
           "#FFA15A",
           "#19d3f3",
           "#FF6692",
           "#B6E880",
           "#FF97FF",
           "#FECB52"
          ],
          "font": {
           "color": "#2a3f5f"
          },
          "geo": {
           "bgcolor": "white",
           "lakecolor": "white",
           "landcolor": "#E5ECF6",
           "showlakes": true,
           "showland": true,
           "subunitcolor": "white"
          },
          "hoverlabel": {
           "align": "left"
          },
          "hovermode": "closest",
          "mapbox": {
           "style": "light"
          },
          "paper_bgcolor": "white",
          "plot_bgcolor": "#E5ECF6",
          "polar": {
           "angularaxis": {
            "gridcolor": "white",
            "linecolor": "white",
            "ticks": ""
           },
           "bgcolor": "#E5ECF6",
           "radialaxis": {
            "gridcolor": "white",
            "linecolor": "white",
            "ticks": ""
           }
          },
          "scene": {
           "xaxis": {
            "backgroundcolor": "#E5ECF6",
            "gridcolor": "white",
            "gridwidth": 2,
            "linecolor": "white",
            "showbackground": true,
            "ticks": "",
            "zerolinecolor": "white"
           },
           "yaxis": {
            "backgroundcolor": "#E5ECF6",
            "gridcolor": "white",
            "gridwidth": 2,
            "linecolor": "white",
            "showbackground": true,
            "ticks": "",
            "zerolinecolor": "white"
           },
           "zaxis": {
            "backgroundcolor": "#E5ECF6",
            "gridcolor": "white",
            "gridwidth": 2,
            "linecolor": "white",
            "showbackground": true,
            "ticks": "",
            "zerolinecolor": "white"
           }
          },
          "shapedefaults": {
           "line": {
            "color": "#2a3f5f"
           }
          },
          "ternary": {
           "aaxis": {
            "gridcolor": "white",
            "linecolor": "white",
            "ticks": ""
           },
           "baxis": {
            "gridcolor": "white",
            "linecolor": "white",
            "ticks": ""
           },
           "bgcolor": "#E5ECF6",
           "caxis": {
            "gridcolor": "white",
            "linecolor": "white",
            "ticks": ""
           }
          },
          "title": {
           "x": 0.05
          },
          "xaxis": {
           "automargin": true,
           "gridcolor": "white",
           "linecolor": "white",
           "ticks": "",
           "title": {
            "standoff": 15
           },
           "zerolinecolor": "white",
           "zerolinewidth": 2
          },
          "yaxis": {
           "automargin": true,
           "gridcolor": "white",
           "linecolor": "white",
           "ticks": "",
           "title": {
            "standoff": 15
           },
           "zerolinecolor": "white",
           "zerolinewidth": 2
          }
         }
        },
        "title": {
         "text": "2020 Certifications Histogram of Certs by Party"
        },
        "xaxis": {
         "anchor": "y",
         "domain": [
          0,
          1
         ],
         "title": {
          "text": "oshwaUid"
         }
        },
        "yaxis": {
         "anchor": "x",
         "domain": [
          0,
          1
         ],
         "title": {
          "text": "count"
         }
        }
       }
      },
      "text/html": [
       "<div>                            <div id=\"301e6e9d-1094-46a0-9989-8d72a8a23b33\" class=\"plotly-graph-div\" style=\"height:525px; width:100%;\"></div>            <script type=\"text/javascript\">                require([\"plotly\"], function(Plotly) {                    window.PLOTLYENV=window.PLOTLYENV || {};                                    if (document.getElementById(\"301e6e9d-1094-46a0-9989-8d72a8a23b33\")) {                    Plotly.newPlot(                        \"301e6e9d-1094-46a0-9989-8d72a8a23b33\",                        [{\"alignmentgroup\": \"True\", \"bingroup\": \"x\", \"hovertemplate\": \"oshwaUid=%{x}<br>count=%{y}<extra></extra>\", \"legendgroup\": \"\", \"marker\": {\"color\": \"#636efa\"}, \"name\": \"\", \"nbinsx\": 10, \"offsetgroup\": \"\", \"orientation\": \"v\", \"showlegend\": false, \"type\": \"histogram\", \"x\": [1, 3, 1, 1, 1, 1, 407, 1, 1, 1, 2, 1, 1, 1, 1, 1, 1, 1, 2, 1, 1, 2, 3, 1, 1, 1, 1, 1, 1, 12, 2, 2, 1, 1, 34, 3, 1, 1, 4, 2, 1, 1, 1, 1, 1, 1, 1, 1, 1, 1, 1, 2, 1, 1, 1, 1, 1, 1, 1, 1, 2, 1, 1, 1, 1, 1, 1, 1, 1, 1, 1, 1, 1, 1, 1, 1, 1, 1, 11, 1, 2, 1, 1, 10, 1, 1, 1, 2, 1, 1, 1, 1, 1, 2, 2, 1, 1, 251, 4, 1, 2, 2, 1, 1, 3, 2, 1, 4, 1, 1, 1, 1, 1, 1, 1, 1, 66, 1, 1, 1, 1, 3, 4, 1, 1, 1, 1, 1], \"xaxis\": \"x\", \"yaxis\": \"y\"}],                        {\"barmode\": \"relative\", \"legend\": {\"tracegroupgap\": 0}, \"template\": {\"data\": {\"bar\": [{\"error_x\": {\"color\": \"#2a3f5f\"}, \"error_y\": {\"color\": \"#2a3f5f\"}, \"marker\": {\"line\": {\"color\": \"#E5ECF6\", \"width\": 0.5}}, \"type\": \"bar\"}], \"barpolar\": [{\"marker\": {\"line\": {\"color\": \"#E5ECF6\", \"width\": 0.5}}, \"type\": \"barpolar\"}], \"carpet\": [{\"aaxis\": {\"endlinecolor\": \"#2a3f5f\", \"gridcolor\": \"white\", \"linecolor\": \"white\", \"minorgridcolor\": \"white\", \"startlinecolor\": \"#2a3f5f\"}, \"baxis\": {\"endlinecolor\": \"#2a3f5f\", \"gridcolor\": \"white\", \"linecolor\": \"white\", \"minorgridcolor\": \"white\", \"startlinecolor\": \"#2a3f5f\"}, \"type\": \"carpet\"}], \"choropleth\": [{\"colorbar\": {\"outlinewidth\": 0, \"ticks\": \"\"}, \"type\": \"choropleth\"}], \"contour\": [{\"colorbar\": {\"outlinewidth\": 0, \"ticks\": \"\"}, \"colorscale\": [[0.0, \"#0d0887\"], [0.1111111111111111, \"#46039f\"], [0.2222222222222222, \"#7201a8\"], [0.3333333333333333, \"#9c179e\"], [0.4444444444444444, \"#bd3786\"], [0.5555555555555556, \"#d8576b\"], [0.6666666666666666, \"#ed7953\"], [0.7777777777777778, \"#fb9f3a\"], [0.8888888888888888, \"#fdca26\"], [1.0, \"#f0f921\"]], \"type\": \"contour\"}], \"contourcarpet\": [{\"colorbar\": {\"outlinewidth\": 0, \"ticks\": \"\"}, \"type\": \"contourcarpet\"}], \"heatmap\": [{\"colorbar\": {\"outlinewidth\": 0, \"ticks\": \"\"}, \"colorscale\": [[0.0, \"#0d0887\"], [0.1111111111111111, \"#46039f\"], [0.2222222222222222, \"#7201a8\"], [0.3333333333333333, \"#9c179e\"], [0.4444444444444444, \"#bd3786\"], [0.5555555555555556, \"#d8576b\"], [0.6666666666666666, \"#ed7953\"], [0.7777777777777778, \"#fb9f3a\"], [0.8888888888888888, \"#fdca26\"], [1.0, \"#f0f921\"]], \"type\": \"heatmap\"}], \"heatmapgl\": [{\"colorbar\": {\"outlinewidth\": 0, \"ticks\": \"\"}, \"colorscale\": [[0.0, \"#0d0887\"], [0.1111111111111111, \"#46039f\"], [0.2222222222222222, \"#7201a8\"], [0.3333333333333333, \"#9c179e\"], [0.4444444444444444, \"#bd3786\"], [0.5555555555555556, \"#d8576b\"], [0.6666666666666666, \"#ed7953\"], [0.7777777777777778, \"#fb9f3a\"], [0.8888888888888888, \"#fdca26\"], [1.0, \"#f0f921\"]], \"type\": \"heatmapgl\"}], \"histogram\": [{\"marker\": {\"colorbar\": {\"outlinewidth\": 0, \"ticks\": \"\"}}, \"type\": \"histogram\"}], \"histogram2d\": [{\"colorbar\": {\"outlinewidth\": 0, \"ticks\": \"\"}, \"colorscale\": [[0.0, \"#0d0887\"], [0.1111111111111111, \"#46039f\"], [0.2222222222222222, \"#7201a8\"], [0.3333333333333333, \"#9c179e\"], [0.4444444444444444, \"#bd3786\"], [0.5555555555555556, \"#d8576b\"], [0.6666666666666666, \"#ed7953\"], [0.7777777777777778, \"#fb9f3a\"], [0.8888888888888888, \"#fdca26\"], [1.0, \"#f0f921\"]], \"type\": \"histogram2d\"}], \"histogram2dcontour\": [{\"colorbar\": {\"outlinewidth\": 0, \"ticks\": \"\"}, \"colorscale\": [[0.0, \"#0d0887\"], [0.1111111111111111, \"#46039f\"], [0.2222222222222222, \"#7201a8\"], [0.3333333333333333, \"#9c179e\"], [0.4444444444444444, \"#bd3786\"], [0.5555555555555556, \"#d8576b\"], [0.6666666666666666, \"#ed7953\"], [0.7777777777777778, \"#fb9f3a\"], [0.8888888888888888, \"#fdca26\"], [1.0, \"#f0f921\"]], \"type\": \"histogram2dcontour\"}], \"mesh3d\": [{\"colorbar\": {\"outlinewidth\": 0, \"ticks\": \"\"}, \"type\": \"mesh3d\"}], \"parcoords\": [{\"line\": {\"colorbar\": {\"outlinewidth\": 0, \"ticks\": \"\"}}, \"type\": \"parcoords\"}], \"pie\": [{\"automargin\": true, \"type\": \"pie\"}], \"scatter\": [{\"marker\": {\"colorbar\": {\"outlinewidth\": 0, \"ticks\": \"\"}}, \"type\": \"scatter\"}], \"scatter3d\": [{\"line\": {\"colorbar\": {\"outlinewidth\": 0, \"ticks\": \"\"}}, \"marker\": {\"colorbar\": {\"outlinewidth\": 0, \"ticks\": \"\"}}, \"type\": \"scatter3d\"}], \"scattercarpet\": [{\"marker\": {\"colorbar\": {\"outlinewidth\": 0, \"ticks\": \"\"}}, \"type\": \"scattercarpet\"}], \"scattergeo\": [{\"marker\": {\"colorbar\": {\"outlinewidth\": 0, \"ticks\": \"\"}}, \"type\": \"scattergeo\"}], \"scattergl\": [{\"marker\": {\"colorbar\": {\"outlinewidth\": 0, \"ticks\": \"\"}}, \"type\": \"scattergl\"}], \"scattermapbox\": [{\"marker\": {\"colorbar\": {\"outlinewidth\": 0, \"ticks\": \"\"}}, \"type\": \"scattermapbox\"}], \"scatterpolar\": [{\"marker\": {\"colorbar\": {\"outlinewidth\": 0, \"ticks\": \"\"}}, \"type\": \"scatterpolar\"}], \"scatterpolargl\": [{\"marker\": {\"colorbar\": {\"outlinewidth\": 0, \"ticks\": \"\"}}, \"type\": \"scatterpolargl\"}], \"scatterternary\": [{\"marker\": {\"colorbar\": {\"outlinewidth\": 0, \"ticks\": \"\"}}, \"type\": \"scatterternary\"}], \"surface\": [{\"colorbar\": {\"outlinewidth\": 0, \"ticks\": \"\"}, \"colorscale\": [[0.0, \"#0d0887\"], [0.1111111111111111, \"#46039f\"], [0.2222222222222222, \"#7201a8\"], [0.3333333333333333, \"#9c179e\"], [0.4444444444444444, \"#bd3786\"], [0.5555555555555556, \"#d8576b\"], [0.6666666666666666, \"#ed7953\"], [0.7777777777777778, \"#fb9f3a\"], [0.8888888888888888, \"#fdca26\"], [1.0, \"#f0f921\"]], \"type\": \"surface\"}], \"table\": [{\"cells\": {\"fill\": {\"color\": \"#EBF0F8\"}, \"line\": {\"color\": \"white\"}}, \"header\": {\"fill\": {\"color\": \"#C8D4E3\"}, \"line\": {\"color\": \"white\"}}, \"type\": \"table\"}]}, \"layout\": {\"annotationdefaults\": {\"arrowcolor\": \"#2a3f5f\", \"arrowhead\": 0, \"arrowwidth\": 1}, \"autotypenumbers\": \"strict\", \"coloraxis\": {\"colorbar\": {\"outlinewidth\": 0, \"ticks\": \"\"}}, \"colorscale\": {\"diverging\": [[0, \"#8e0152\"], [0.1, \"#c51b7d\"], [0.2, \"#de77ae\"], [0.3, \"#f1b6da\"], [0.4, \"#fde0ef\"], [0.5, \"#f7f7f7\"], [0.6, \"#e6f5d0\"], [0.7, \"#b8e186\"], [0.8, \"#7fbc41\"], [0.9, \"#4d9221\"], [1, \"#276419\"]], \"sequential\": [[0.0, \"#0d0887\"], [0.1111111111111111, \"#46039f\"], [0.2222222222222222, \"#7201a8\"], [0.3333333333333333, \"#9c179e\"], [0.4444444444444444, \"#bd3786\"], [0.5555555555555556, \"#d8576b\"], [0.6666666666666666, \"#ed7953\"], [0.7777777777777778, \"#fb9f3a\"], [0.8888888888888888, \"#fdca26\"], [1.0, \"#f0f921\"]], \"sequentialminus\": [[0.0, \"#0d0887\"], [0.1111111111111111, \"#46039f\"], [0.2222222222222222, \"#7201a8\"], [0.3333333333333333, \"#9c179e\"], [0.4444444444444444, \"#bd3786\"], [0.5555555555555556, \"#d8576b\"], [0.6666666666666666, \"#ed7953\"], [0.7777777777777778, \"#fb9f3a\"], [0.8888888888888888, \"#fdca26\"], [1.0, \"#f0f921\"]]}, \"colorway\": [\"#636efa\", \"#EF553B\", \"#00cc96\", \"#ab63fa\", \"#FFA15A\", \"#19d3f3\", \"#FF6692\", \"#B6E880\", \"#FF97FF\", \"#FECB52\"], \"font\": {\"color\": \"#2a3f5f\"}, \"geo\": {\"bgcolor\": \"white\", \"lakecolor\": \"white\", \"landcolor\": \"#E5ECF6\", \"showlakes\": true, \"showland\": true, \"subunitcolor\": \"white\"}, \"hoverlabel\": {\"align\": \"left\"}, \"hovermode\": \"closest\", \"mapbox\": {\"style\": \"light\"}, \"paper_bgcolor\": \"white\", \"plot_bgcolor\": \"#E5ECF6\", \"polar\": {\"angularaxis\": {\"gridcolor\": \"white\", \"linecolor\": \"white\", \"ticks\": \"\"}, \"bgcolor\": \"#E5ECF6\", \"radialaxis\": {\"gridcolor\": \"white\", \"linecolor\": \"white\", \"ticks\": \"\"}}, \"scene\": {\"xaxis\": {\"backgroundcolor\": \"#E5ECF6\", \"gridcolor\": \"white\", \"gridwidth\": 2, \"linecolor\": \"white\", \"showbackground\": true, \"ticks\": \"\", \"zerolinecolor\": \"white\"}, \"yaxis\": {\"backgroundcolor\": \"#E5ECF6\", \"gridcolor\": \"white\", \"gridwidth\": 2, \"linecolor\": \"white\", \"showbackground\": true, \"ticks\": \"\", \"zerolinecolor\": \"white\"}, \"zaxis\": {\"backgroundcolor\": \"#E5ECF6\", \"gridcolor\": \"white\", \"gridwidth\": 2, \"linecolor\": \"white\", \"showbackground\": true, \"ticks\": \"\", \"zerolinecolor\": \"white\"}}, \"shapedefaults\": {\"line\": {\"color\": \"#2a3f5f\"}}, \"ternary\": {\"aaxis\": {\"gridcolor\": \"white\", \"linecolor\": \"white\", \"ticks\": \"\"}, \"baxis\": {\"gridcolor\": \"white\", \"linecolor\": \"white\", \"ticks\": \"\"}, \"bgcolor\": \"#E5ECF6\", \"caxis\": {\"gridcolor\": \"white\", \"linecolor\": \"white\", \"ticks\": \"\"}}, \"title\": {\"x\": 0.05}, \"xaxis\": {\"automargin\": true, \"gridcolor\": \"white\", \"linecolor\": \"white\", \"ticks\": \"\", \"title\": {\"standoff\": 15}, \"zerolinecolor\": \"white\", \"zerolinewidth\": 2}, \"yaxis\": {\"automargin\": true, \"gridcolor\": \"white\", \"linecolor\": \"white\", \"ticks\": \"\", \"title\": {\"standoff\": 15}, \"zerolinecolor\": \"white\", \"zerolinewidth\": 2}}}, \"title\": {\"text\": \"2020 Certifications Histogram of Certs by Party\"}, \"xaxis\": {\"anchor\": \"y\", \"domain\": [0.0, 1.0], \"title\": {\"text\": \"oshwaUid\"}}, \"yaxis\": {\"anchor\": \"x\", \"domain\": [0.0, 1.0], \"title\": {\"text\": \"count\"}}},                        {\"responsive\": true}                    ).then(function(){\n",
       "                            \n",
       "var gd = document.getElementById('301e6e9d-1094-46a0-9989-8d72a8a23b33');\n",
       "var x = new MutationObserver(function (mutations, observer) {{\n",
       "        var display = window.getComputedStyle(gd).display;\n",
       "        if (!display || display === 'none') {{\n",
       "            console.log([gd, 'removed!']);\n",
       "            Plotly.purge(gd);\n",
       "            observer.disconnect();\n",
       "        }}\n",
       "}});\n",
       "\n",
       "// Listen for the removal of the full notebook cells\n",
       "var notebookContainer = gd.closest('#notebook-container');\n",
       "if (notebookContainer) {{\n",
       "    x.observe(notebookContainer, {childList: true});\n",
       "}}\n",
       "\n",
       "// Listen for the clearing of the current output cell\n",
       "var outputEl = gd.closest('.output');\n",
       "if (outputEl) {{\n",
       "    x.observe(outputEl, {childList: true});\n",
       "}}\n",
       "\n",
       "                        })                };                });            </script>        </div>"
      ]
     },
     "metadata": {},
     "output_type": "display_data"
    }
   ],
   "source": [
    "rp_data = df2020.groupby(\"responsibleParty\").count()\n",
    "fig = px.histogram(rp_data,x=\"oshwaUid\",nbins=10,title=\"2020 Certifications Histogram of Certs by Party\")\n",
    "fig.show()"
   ]
  },
  {
   "cell_type": "code",
   "execution_count": 43,
   "metadata": {},
   "outputs": [
    {
     "data": {
      "application/vnd.plotly.v1+json": {
       "config": {
        "plotlyServerURL": "https://plot.ly"
       },
       "data": [
        {
         "alignmentgroup": "True",
         "hovertemplate": "responsibleParty=%{x}<br>oshwaUid=%{y}<extra></extra>",
         "legendgroup": "",
         "marker": {
          "color": "#636efa"
         },
         "name": "",
         "offsetgroup": "",
         "orientation": "v",
         "showlegend": false,
         "textposition": "auto",
         "type": "bar",
         "x": [
          "3mdeb Embedded Systems Consulting",
          "Adafruit Industries, LLC",
          "Amal Mathew",
          "BeagleBoard.org Foundation",
          "Brian Lough",
          "CHIRIMEN OPEN HARDWARE COMMUNITY",
          "ELECTRONIC CATS SAPI DE CV",
          "ELECTRONIC CATS SAPI DE CV mail",
          "Envox d.o.o.",
          "Field Ready",
          "Franzininho",
          "Great Scott Gadgets",
          "Greg Steiert",
          "Jedidiah Hodson",
          "Lalindra Jayatilleke",
          "OLIMEX Ltd",
          "Orkhan AmirAslan",
          "Pi Supply",
          "ProtoCentral Electronics",
          "SENTSOR ELECTRONICS",
          "SENTSOR Electronics",
          "SparkFun Electronics",
          "Staudt Technologies GmbH",
          "Suhail P",
          "Sven Gregori",
          "TECKNOLOGG",
          "Tesla Lab",
          "Thore Krug",
          "Watterott electronic",
          "arturo182",
          "bmc::labs GmbH"
         ],
         "xaxis": "x",
         "y": [
          3,
          407,
          2,
          2,
          2,
          3,
          12,
          2,
          2,
          34,
          3,
          4,
          2,
          2,
          2,
          11,
          2,
          10,
          2,
          2,
          2,
          251,
          4,
          2,
          2,
          3,
          2,
          4,
          66,
          3,
          4
         ],
         "yaxis": "y"
        }
       ],
       "layout": {
        "barmode": "relative",
        "legend": {
         "tracegroupgap": 0
        },
        "template": {
         "data": {
          "bar": [
           {
            "error_x": {
             "color": "#2a3f5f"
            },
            "error_y": {
             "color": "#2a3f5f"
            },
            "marker": {
             "line": {
              "color": "#E5ECF6",
              "width": 0.5
             }
            },
            "type": "bar"
           }
          ],
          "barpolar": [
           {
            "marker": {
             "line": {
              "color": "#E5ECF6",
              "width": 0.5
             }
            },
            "type": "barpolar"
           }
          ],
          "carpet": [
           {
            "aaxis": {
             "endlinecolor": "#2a3f5f",
             "gridcolor": "white",
             "linecolor": "white",
             "minorgridcolor": "white",
             "startlinecolor": "#2a3f5f"
            },
            "baxis": {
             "endlinecolor": "#2a3f5f",
             "gridcolor": "white",
             "linecolor": "white",
             "minorgridcolor": "white",
             "startlinecolor": "#2a3f5f"
            },
            "type": "carpet"
           }
          ],
          "choropleth": [
           {
            "colorbar": {
             "outlinewidth": 0,
             "ticks": ""
            },
            "type": "choropleth"
           }
          ],
          "contour": [
           {
            "colorbar": {
             "outlinewidth": 0,
             "ticks": ""
            },
            "colorscale": [
             [
              0,
              "#0d0887"
             ],
             [
              0.1111111111111111,
              "#46039f"
             ],
             [
              0.2222222222222222,
              "#7201a8"
             ],
             [
              0.3333333333333333,
              "#9c179e"
             ],
             [
              0.4444444444444444,
              "#bd3786"
             ],
             [
              0.5555555555555556,
              "#d8576b"
             ],
             [
              0.6666666666666666,
              "#ed7953"
             ],
             [
              0.7777777777777778,
              "#fb9f3a"
             ],
             [
              0.8888888888888888,
              "#fdca26"
             ],
             [
              1,
              "#f0f921"
             ]
            ],
            "type": "contour"
           }
          ],
          "contourcarpet": [
           {
            "colorbar": {
             "outlinewidth": 0,
             "ticks": ""
            },
            "type": "contourcarpet"
           }
          ],
          "heatmap": [
           {
            "colorbar": {
             "outlinewidth": 0,
             "ticks": ""
            },
            "colorscale": [
             [
              0,
              "#0d0887"
             ],
             [
              0.1111111111111111,
              "#46039f"
             ],
             [
              0.2222222222222222,
              "#7201a8"
             ],
             [
              0.3333333333333333,
              "#9c179e"
             ],
             [
              0.4444444444444444,
              "#bd3786"
             ],
             [
              0.5555555555555556,
              "#d8576b"
             ],
             [
              0.6666666666666666,
              "#ed7953"
             ],
             [
              0.7777777777777778,
              "#fb9f3a"
             ],
             [
              0.8888888888888888,
              "#fdca26"
             ],
             [
              1,
              "#f0f921"
             ]
            ],
            "type": "heatmap"
           }
          ],
          "heatmapgl": [
           {
            "colorbar": {
             "outlinewidth": 0,
             "ticks": ""
            },
            "colorscale": [
             [
              0,
              "#0d0887"
             ],
             [
              0.1111111111111111,
              "#46039f"
             ],
             [
              0.2222222222222222,
              "#7201a8"
             ],
             [
              0.3333333333333333,
              "#9c179e"
             ],
             [
              0.4444444444444444,
              "#bd3786"
             ],
             [
              0.5555555555555556,
              "#d8576b"
             ],
             [
              0.6666666666666666,
              "#ed7953"
             ],
             [
              0.7777777777777778,
              "#fb9f3a"
             ],
             [
              0.8888888888888888,
              "#fdca26"
             ],
             [
              1,
              "#f0f921"
             ]
            ],
            "type": "heatmapgl"
           }
          ],
          "histogram": [
           {
            "marker": {
             "colorbar": {
              "outlinewidth": 0,
              "ticks": ""
             }
            },
            "type": "histogram"
           }
          ],
          "histogram2d": [
           {
            "colorbar": {
             "outlinewidth": 0,
             "ticks": ""
            },
            "colorscale": [
             [
              0,
              "#0d0887"
             ],
             [
              0.1111111111111111,
              "#46039f"
             ],
             [
              0.2222222222222222,
              "#7201a8"
             ],
             [
              0.3333333333333333,
              "#9c179e"
             ],
             [
              0.4444444444444444,
              "#bd3786"
             ],
             [
              0.5555555555555556,
              "#d8576b"
             ],
             [
              0.6666666666666666,
              "#ed7953"
             ],
             [
              0.7777777777777778,
              "#fb9f3a"
             ],
             [
              0.8888888888888888,
              "#fdca26"
             ],
             [
              1,
              "#f0f921"
             ]
            ],
            "type": "histogram2d"
           }
          ],
          "histogram2dcontour": [
           {
            "colorbar": {
             "outlinewidth": 0,
             "ticks": ""
            },
            "colorscale": [
             [
              0,
              "#0d0887"
             ],
             [
              0.1111111111111111,
              "#46039f"
             ],
             [
              0.2222222222222222,
              "#7201a8"
             ],
             [
              0.3333333333333333,
              "#9c179e"
             ],
             [
              0.4444444444444444,
              "#bd3786"
             ],
             [
              0.5555555555555556,
              "#d8576b"
             ],
             [
              0.6666666666666666,
              "#ed7953"
             ],
             [
              0.7777777777777778,
              "#fb9f3a"
             ],
             [
              0.8888888888888888,
              "#fdca26"
             ],
             [
              1,
              "#f0f921"
             ]
            ],
            "type": "histogram2dcontour"
           }
          ],
          "mesh3d": [
           {
            "colorbar": {
             "outlinewidth": 0,
             "ticks": ""
            },
            "type": "mesh3d"
           }
          ],
          "parcoords": [
           {
            "line": {
             "colorbar": {
              "outlinewidth": 0,
              "ticks": ""
             }
            },
            "type": "parcoords"
           }
          ],
          "pie": [
           {
            "automargin": true,
            "type": "pie"
           }
          ],
          "scatter": [
           {
            "marker": {
             "colorbar": {
              "outlinewidth": 0,
              "ticks": ""
             }
            },
            "type": "scatter"
           }
          ],
          "scatter3d": [
           {
            "line": {
             "colorbar": {
              "outlinewidth": 0,
              "ticks": ""
             }
            },
            "marker": {
             "colorbar": {
              "outlinewidth": 0,
              "ticks": ""
             }
            },
            "type": "scatter3d"
           }
          ],
          "scattercarpet": [
           {
            "marker": {
             "colorbar": {
              "outlinewidth": 0,
              "ticks": ""
             }
            },
            "type": "scattercarpet"
           }
          ],
          "scattergeo": [
           {
            "marker": {
             "colorbar": {
              "outlinewidth": 0,
              "ticks": ""
             }
            },
            "type": "scattergeo"
           }
          ],
          "scattergl": [
           {
            "marker": {
             "colorbar": {
              "outlinewidth": 0,
              "ticks": ""
             }
            },
            "type": "scattergl"
           }
          ],
          "scattermapbox": [
           {
            "marker": {
             "colorbar": {
              "outlinewidth": 0,
              "ticks": ""
             }
            },
            "type": "scattermapbox"
           }
          ],
          "scatterpolar": [
           {
            "marker": {
             "colorbar": {
              "outlinewidth": 0,
              "ticks": ""
             }
            },
            "type": "scatterpolar"
           }
          ],
          "scatterpolargl": [
           {
            "marker": {
             "colorbar": {
              "outlinewidth": 0,
              "ticks": ""
             }
            },
            "type": "scatterpolargl"
           }
          ],
          "scatterternary": [
           {
            "marker": {
             "colorbar": {
              "outlinewidth": 0,
              "ticks": ""
             }
            },
            "type": "scatterternary"
           }
          ],
          "surface": [
           {
            "colorbar": {
             "outlinewidth": 0,
             "ticks": ""
            },
            "colorscale": [
             [
              0,
              "#0d0887"
             ],
             [
              0.1111111111111111,
              "#46039f"
             ],
             [
              0.2222222222222222,
              "#7201a8"
             ],
             [
              0.3333333333333333,
              "#9c179e"
             ],
             [
              0.4444444444444444,
              "#bd3786"
             ],
             [
              0.5555555555555556,
              "#d8576b"
             ],
             [
              0.6666666666666666,
              "#ed7953"
             ],
             [
              0.7777777777777778,
              "#fb9f3a"
             ],
             [
              0.8888888888888888,
              "#fdca26"
             ],
             [
              1,
              "#f0f921"
             ]
            ],
            "type": "surface"
           }
          ],
          "table": [
           {
            "cells": {
             "fill": {
              "color": "#EBF0F8"
             },
             "line": {
              "color": "white"
             }
            },
            "header": {
             "fill": {
              "color": "#C8D4E3"
             },
             "line": {
              "color": "white"
             }
            },
            "type": "table"
           }
          ]
         },
         "layout": {
          "annotationdefaults": {
           "arrowcolor": "#2a3f5f",
           "arrowhead": 0,
           "arrowwidth": 1
          },
          "autotypenumbers": "strict",
          "coloraxis": {
           "colorbar": {
            "outlinewidth": 0,
            "ticks": ""
           }
          },
          "colorscale": {
           "diverging": [
            [
             0,
             "#8e0152"
            ],
            [
             0.1,
             "#c51b7d"
            ],
            [
             0.2,
             "#de77ae"
            ],
            [
             0.3,
             "#f1b6da"
            ],
            [
             0.4,
             "#fde0ef"
            ],
            [
             0.5,
             "#f7f7f7"
            ],
            [
             0.6,
             "#e6f5d0"
            ],
            [
             0.7,
             "#b8e186"
            ],
            [
             0.8,
             "#7fbc41"
            ],
            [
             0.9,
             "#4d9221"
            ],
            [
             1,
             "#276419"
            ]
           ],
           "sequential": [
            [
             0,
             "#0d0887"
            ],
            [
             0.1111111111111111,
             "#46039f"
            ],
            [
             0.2222222222222222,
             "#7201a8"
            ],
            [
             0.3333333333333333,
             "#9c179e"
            ],
            [
             0.4444444444444444,
             "#bd3786"
            ],
            [
             0.5555555555555556,
             "#d8576b"
            ],
            [
             0.6666666666666666,
             "#ed7953"
            ],
            [
             0.7777777777777778,
             "#fb9f3a"
            ],
            [
             0.8888888888888888,
             "#fdca26"
            ],
            [
             1,
             "#f0f921"
            ]
           ],
           "sequentialminus": [
            [
             0,
             "#0d0887"
            ],
            [
             0.1111111111111111,
             "#46039f"
            ],
            [
             0.2222222222222222,
             "#7201a8"
            ],
            [
             0.3333333333333333,
             "#9c179e"
            ],
            [
             0.4444444444444444,
             "#bd3786"
            ],
            [
             0.5555555555555556,
             "#d8576b"
            ],
            [
             0.6666666666666666,
             "#ed7953"
            ],
            [
             0.7777777777777778,
             "#fb9f3a"
            ],
            [
             0.8888888888888888,
             "#fdca26"
            ],
            [
             1,
             "#f0f921"
            ]
           ]
          },
          "colorway": [
           "#636efa",
           "#EF553B",
           "#00cc96",
           "#ab63fa",
           "#FFA15A",
           "#19d3f3",
           "#FF6692",
           "#B6E880",
           "#FF97FF",
           "#FECB52"
          ],
          "font": {
           "color": "#2a3f5f"
          },
          "geo": {
           "bgcolor": "white",
           "lakecolor": "white",
           "landcolor": "#E5ECF6",
           "showlakes": true,
           "showland": true,
           "subunitcolor": "white"
          },
          "hoverlabel": {
           "align": "left"
          },
          "hovermode": "closest",
          "mapbox": {
           "style": "light"
          },
          "paper_bgcolor": "white",
          "plot_bgcolor": "#E5ECF6",
          "polar": {
           "angularaxis": {
            "gridcolor": "white",
            "linecolor": "white",
            "ticks": ""
           },
           "bgcolor": "#E5ECF6",
           "radialaxis": {
            "gridcolor": "white",
            "linecolor": "white",
            "ticks": ""
           }
          },
          "scene": {
           "xaxis": {
            "backgroundcolor": "#E5ECF6",
            "gridcolor": "white",
            "gridwidth": 2,
            "linecolor": "white",
            "showbackground": true,
            "ticks": "",
            "zerolinecolor": "white"
           },
           "yaxis": {
            "backgroundcolor": "#E5ECF6",
            "gridcolor": "white",
            "gridwidth": 2,
            "linecolor": "white",
            "showbackground": true,
            "ticks": "",
            "zerolinecolor": "white"
           },
           "zaxis": {
            "backgroundcolor": "#E5ECF6",
            "gridcolor": "white",
            "gridwidth": 2,
            "linecolor": "white",
            "showbackground": true,
            "ticks": "",
            "zerolinecolor": "white"
           }
          },
          "shapedefaults": {
           "line": {
            "color": "#2a3f5f"
           }
          },
          "ternary": {
           "aaxis": {
            "gridcolor": "white",
            "linecolor": "white",
            "ticks": ""
           },
           "baxis": {
            "gridcolor": "white",
            "linecolor": "white",
            "ticks": ""
           },
           "bgcolor": "#E5ECF6",
           "caxis": {
            "gridcolor": "white",
            "linecolor": "white",
            "ticks": ""
           }
          },
          "title": {
           "x": 0.05
          },
          "xaxis": {
           "automargin": true,
           "gridcolor": "white",
           "linecolor": "white",
           "ticks": "",
           "title": {
            "standoff": 15
           },
           "zerolinecolor": "white",
           "zerolinewidth": 2
          },
          "yaxis": {
           "automargin": true,
           "gridcolor": "white",
           "linecolor": "white",
           "ticks": "",
           "title": {
            "standoff": 15
           },
           "zerolinecolor": "white",
           "zerolinewidth": 2
          }
         }
        },
        "title": {
         "text": "2020 Certifications by Person/Org"
        },
        "xaxis": {
         "anchor": "y",
         "domain": [
          0,
          1
         ],
         "title": {
          "text": "responsibleParty"
         }
        },
        "yaxis": {
         "anchor": "x",
         "domain": [
          0,
          1
         ],
         "title": {
          "text": "oshwaUid"
         }
        }
       }
      },
      "text/html": [
       "<div>                            <div id=\"4123ab63-7788-4bb7-bd27-d560795e4e5c\" class=\"plotly-graph-div\" style=\"height:525px; width:100%;\"></div>            <script type=\"text/javascript\">                require([\"plotly\"], function(Plotly) {                    window.PLOTLYENV=window.PLOTLYENV || {};                                    if (document.getElementById(\"4123ab63-7788-4bb7-bd27-d560795e4e5c\")) {                    Plotly.newPlot(                        \"4123ab63-7788-4bb7-bd27-d560795e4e5c\",                        [{\"alignmentgroup\": \"True\", \"hovertemplate\": \"responsibleParty=%{x}<br>oshwaUid=%{y}<extra></extra>\", \"legendgroup\": \"\", \"marker\": {\"color\": \"#636efa\"}, \"name\": \"\", \"offsetgroup\": \"\", \"orientation\": \"v\", \"showlegend\": false, \"textposition\": \"auto\", \"type\": \"bar\", \"x\": [\"3mdeb Embedded Systems Consulting\", \"Adafruit Industries, LLC\", \"Amal Mathew\", \"BeagleBoard.org Foundation\", \"Brian Lough\", \"CHIRIMEN OPEN HARDWARE COMMUNITY\", \"ELECTRONIC CATS SAPI DE CV\", \"ELECTRONIC CATS SAPI DE CV mail\", \"Envox d.o.o.\", \"Field Ready\", \"Franzininho\", \"Great Scott Gadgets\", \"Greg Steiert\", \"Jedidiah Hodson\", \"Lalindra Jayatilleke\", \"OLIMEX Ltd\", \"Orkhan AmirAslan\", \"Pi Supply\", \"ProtoCentral Electronics\", \"SENTSOR ELECTRONICS\", \"SENTSOR Electronics\", \"SparkFun Electronics\", \"Staudt Technologies GmbH\", \"Suhail P\", \"Sven Gregori\", \"TECKNOLOGG\", \"Tesla Lab\", \"Thore Krug\", \"Watterott electronic\", \"arturo182\", \"bmc::labs GmbH\"], \"xaxis\": \"x\", \"y\": [3, 407, 2, 2, 2, 3, 12, 2, 2, 34, 3, 4, 2, 2, 2, 11, 2, 10, 2, 2, 2, 251, 4, 2, 2, 3, 2, 4, 66, 3, 4], \"yaxis\": \"y\"}],                        {\"barmode\": \"relative\", \"legend\": {\"tracegroupgap\": 0}, \"template\": {\"data\": {\"bar\": [{\"error_x\": {\"color\": \"#2a3f5f\"}, \"error_y\": {\"color\": \"#2a3f5f\"}, \"marker\": {\"line\": {\"color\": \"#E5ECF6\", \"width\": 0.5}}, \"type\": \"bar\"}], \"barpolar\": [{\"marker\": {\"line\": {\"color\": \"#E5ECF6\", \"width\": 0.5}}, \"type\": \"barpolar\"}], \"carpet\": [{\"aaxis\": {\"endlinecolor\": \"#2a3f5f\", \"gridcolor\": \"white\", \"linecolor\": \"white\", \"minorgridcolor\": \"white\", \"startlinecolor\": \"#2a3f5f\"}, \"baxis\": {\"endlinecolor\": \"#2a3f5f\", \"gridcolor\": \"white\", \"linecolor\": \"white\", \"minorgridcolor\": \"white\", \"startlinecolor\": \"#2a3f5f\"}, \"type\": \"carpet\"}], \"choropleth\": [{\"colorbar\": {\"outlinewidth\": 0, \"ticks\": \"\"}, \"type\": \"choropleth\"}], \"contour\": [{\"colorbar\": {\"outlinewidth\": 0, \"ticks\": \"\"}, \"colorscale\": [[0.0, \"#0d0887\"], [0.1111111111111111, \"#46039f\"], [0.2222222222222222, \"#7201a8\"], [0.3333333333333333, \"#9c179e\"], [0.4444444444444444, \"#bd3786\"], [0.5555555555555556, \"#d8576b\"], [0.6666666666666666, \"#ed7953\"], [0.7777777777777778, \"#fb9f3a\"], [0.8888888888888888, \"#fdca26\"], [1.0, \"#f0f921\"]], \"type\": \"contour\"}], \"contourcarpet\": [{\"colorbar\": {\"outlinewidth\": 0, \"ticks\": \"\"}, \"type\": \"contourcarpet\"}], \"heatmap\": [{\"colorbar\": {\"outlinewidth\": 0, \"ticks\": \"\"}, \"colorscale\": [[0.0, \"#0d0887\"], [0.1111111111111111, \"#46039f\"], [0.2222222222222222, \"#7201a8\"], [0.3333333333333333, \"#9c179e\"], [0.4444444444444444, \"#bd3786\"], [0.5555555555555556, \"#d8576b\"], [0.6666666666666666, \"#ed7953\"], [0.7777777777777778, \"#fb9f3a\"], [0.8888888888888888, \"#fdca26\"], [1.0, \"#f0f921\"]], \"type\": \"heatmap\"}], \"heatmapgl\": [{\"colorbar\": {\"outlinewidth\": 0, \"ticks\": \"\"}, \"colorscale\": [[0.0, \"#0d0887\"], [0.1111111111111111, \"#46039f\"], [0.2222222222222222, \"#7201a8\"], [0.3333333333333333, \"#9c179e\"], [0.4444444444444444, \"#bd3786\"], [0.5555555555555556, \"#d8576b\"], [0.6666666666666666, \"#ed7953\"], [0.7777777777777778, \"#fb9f3a\"], [0.8888888888888888, \"#fdca26\"], [1.0, \"#f0f921\"]], \"type\": \"heatmapgl\"}], \"histogram\": [{\"marker\": {\"colorbar\": {\"outlinewidth\": 0, \"ticks\": \"\"}}, \"type\": \"histogram\"}], \"histogram2d\": [{\"colorbar\": {\"outlinewidth\": 0, \"ticks\": \"\"}, \"colorscale\": [[0.0, \"#0d0887\"], [0.1111111111111111, \"#46039f\"], [0.2222222222222222, \"#7201a8\"], [0.3333333333333333, \"#9c179e\"], [0.4444444444444444, \"#bd3786\"], [0.5555555555555556, \"#d8576b\"], [0.6666666666666666, \"#ed7953\"], [0.7777777777777778, \"#fb9f3a\"], [0.8888888888888888, \"#fdca26\"], [1.0, \"#f0f921\"]], \"type\": \"histogram2d\"}], \"histogram2dcontour\": [{\"colorbar\": {\"outlinewidth\": 0, \"ticks\": \"\"}, \"colorscale\": [[0.0, \"#0d0887\"], [0.1111111111111111, \"#46039f\"], [0.2222222222222222, \"#7201a8\"], [0.3333333333333333, \"#9c179e\"], [0.4444444444444444, \"#bd3786\"], [0.5555555555555556, \"#d8576b\"], [0.6666666666666666, \"#ed7953\"], [0.7777777777777778, \"#fb9f3a\"], [0.8888888888888888, \"#fdca26\"], [1.0, \"#f0f921\"]], \"type\": \"histogram2dcontour\"}], \"mesh3d\": [{\"colorbar\": {\"outlinewidth\": 0, \"ticks\": \"\"}, \"type\": \"mesh3d\"}], \"parcoords\": [{\"line\": {\"colorbar\": {\"outlinewidth\": 0, \"ticks\": \"\"}}, \"type\": \"parcoords\"}], \"pie\": [{\"automargin\": true, \"type\": \"pie\"}], \"scatter\": [{\"marker\": {\"colorbar\": {\"outlinewidth\": 0, \"ticks\": \"\"}}, \"type\": \"scatter\"}], \"scatter3d\": [{\"line\": {\"colorbar\": {\"outlinewidth\": 0, \"ticks\": \"\"}}, \"marker\": {\"colorbar\": {\"outlinewidth\": 0, \"ticks\": \"\"}}, \"type\": \"scatter3d\"}], \"scattercarpet\": [{\"marker\": {\"colorbar\": {\"outlinewidth\": 0, \"ticks\": \"\"}}, \"type\": \"scattercarpet\"}], \"scattergeo\": [{\"marker\": {\"colorbar\": {\"outlinewidth\": 0, \"ticks\": \"\"}}, \"type\": \"scattergeo\"}], \"scattergl\": [{\"marker\": {\"colorbar\": {\"outlinewidth\": 0, \"ticks\": \"\"}}, \"type\": \"scattergl\"}], \"scattermapbox\": [{\"marker\": {\"colorbar\": {\"outlinewidth\": 0, \"ticks\": \"\"}}, \"type\": \"scattermapbox\"}], \"scatterpolar\": [{\"marker\": {\"colorbar\": {\"outlinewidth\": 0, \"ticks\": \"\"}}, \"type\": \"scatterpolar\"}], \"scatterpolargl\": [{\"marker\": {\"colorbar\": {\"outlinewidth\": 0, \"ticks\": \"\"}}, \"type\": \"scatterpolargl\"}], \"scatterternary\": [{\"marker\": {\"colorbar\": {\"outlinewidth\": 0, \"ticks\": \"\"}}, \"type\": \"scatterternary\"}], \"surface\": [{\"colorbar\": {\"outlinewidth\": 0, \"ticks\": \"\"}, \"colorscale\": [[0.0, \"#0d0887\"], [0.1111111111111111, \"#46039f\"], [0.2222222222222222, \"#7201a8\"], [0.3333333333333333, \"#9c179e\"], [0.4444444444444444, \"#bd3786\"], [0.5555555555555556, \"#d8576b\"], [0.6666666666666666, \"#ed7953\"], [0.7777777777777778, \"#fb9f3a\"], [0.8888888888888888, \"#fdca26\"], [1.0, \"#f0f921\"]], \"type\": \"surface\"}], \"table\": [{\"cells\": {\"fill\": {\"color\": \"#EBF0F8\"}, \"line\": {\"color\": \"white\"}}, \"header\": {\"fill\": {\"color\": \"#C8D4E3\"}, \"line\": {\"color\": \"white\"}}, \"type\": \"table\"}]}, \"layout\": {\"annotationdefaults\": {\"arrowcolor\": \"#2a3f5f\", \"arrowhead\": 0, \"arrowwidth\": 1}, \"autotypenumbers\": \"strict\", \"coloraxis\": {\"colorbar\": {\"outlinewidth\": 0, \"ticks\": \"\"}}, \"colorscale\": {\"diverging\": [[0, \"#8e0152\"], [0.1, \"#c51b7d\"], [0.2, \"#de77ae\"], [0.3, \"#f1b6da\"], [0.4, \"#fde0ef\"], [0.5, \"#f7f7f7\"], [0.6, \"#e6f5d0\"], [0.7, \"#b8e186\"], [0.8, \"#7fbc41\"], [0.9, \"#4d9221\"], [1, \"#276419\"]], \"sequential\": [[0.0, \"#0d0887\"], [0.1111111111111111, \"#46039f\"], [0.2222222222222222, \"#7201a8\"], [0.3333333333333333, \"#9c179e\"], [0.4444444444444444, \"#bd3786\"], [0.5555555555555556, \"#d8576b\"], [0.6666666666666666, \"#ed7953\"], [0.7777777777777778, \"#fb9f3a\"], [0.8888888888888888, \"#fdca26\"], [1.0, \"#f0f921\"]], \"sequentialminus\": [[0.0, \"#0d0887\"], [0.1111111111111111, \"#46039f\"], [0.2222222222222222, \"#7201a8\"], [0.3333333333333333, \"#9c179e\"], [0.4444444444444444, \"#bd3786\"], [0.5555555555555556, \"#d8576b\"], [0.6666666666666666, \"#ed7953\"], [0.7777777777777778, \"#fb9f3a\"], [0.8888888888888888, \"#fdca26\"], [1.0, \"#f0f921\"]]}, \"colorway\": [\"#636efa\", \"#EF553B\", \"#00cc96\", \"#ab63fa\", \"#FFA15A\", \"#19d3f3\", \"#FF6692\", \"#B6E880\", \"#FF97FF\", \"#FECB52\"], \"font\": {\"color\": \"#2a3f5f\"}, \"geo\": {\"bgcolor\": \"white\", \"lakecolor\": \"white\", \"landcolor\": \"#E5ECF6\", \"showlakes\": true, \"showland\": true, \"subunitcolor\": \"white\"}, \"hoverlabel\": {\"align\": \"left\"}, \"hovermode\": \"closest\", \"mapbox\": {\"style\": \"light\"}, \"paper_bgcolor\": \"white\", \"plot_bgcolor\": \"#E5ECF6\", \"polar\": {\"angularaxis\": {\"gridcolor\": \"white\", \"linecolor\": \"white\", \"ticks\": \"\"}, \"bgcolor\": \"#E5ECF6\", \"radialaxis\": {\"gridcolor\": \"white\", \"linecolor\": \"white\", \"ticks\": \"\"}}, \"scene\": {\"xaxis\": {\"backgroundcolor\": \"#E5ECF6\", \"gridcolor\": \"white\", \"gridwidth\": 2, \"linecolor\": \"white\", \"showbackground\": true, \"ticks\": \"\", \"zerolinecolor\": \"white\"}, \"yaxis\": {\"backgroundcolor\": \"#E5ECF6\", \"gridcolor\": \"white\", \"gridwidth\": 2, \"linecolor\": \"white\", \"showbackground\": true, \"ticks\": \"\", \"zerolinecolor\": \"white\"}, \"zaxis\": {\"backgroundcolor\": \"#E5ECF6\", \"gridcolor\": \"white\", \"gridwidth\": 2, \"linecolor\": \"white\", \"showbackground\": true, \"ticks\": \"\", \"zerolinecolor\": \"white\"}}, \"shapedefaults\": {\"line\": {\"color\": \"#2a3f5f\"}}, \"ternary\": {\"aaxis\": {\"gridcolor\": \"white\", \"linecolor\": \"white\", \"ticks\": \"\"}, \"baxis\": {\"gridcolor\": \"white\", \"linecolor\": \"white\", \"ticks\": \"\"}, \"bgcolor\": \"#E5ECF6\", \"caxis\": {\"gridcolor\": \"white\", \"linecolor\": \"white\", \"ticks\": \"\"}}, \"title\": {\"x\": 0.05}, \"xaxis\": {\"automargin\": true, \"gridcolor\": \"white\", \"linecolor\": \"white\", \"ticks\": \"\", \"title\": {\"standoff\": 15}, \"zerolinecolor\": \"white\", \"zerolinewidth\": 2}, \"yaxis\": {\"automargin\": true, \"gridcolor\": \"white\", \"linecolor\": \"white\", \"ticks\": \"\", \"title\": {\"standoff\": 15}, \"zerolinecolor\": \"white\", \"zerolinewidth\": 2}}}, \"title\": {\"text\": \"2020 Certifications by Person/Org\"}, \"xaxis\": {\"anchor\": \"y\", \"domain\": [0.0, 1.0], \"title\": {\"text\": \"responsibleParty\"}}, \"yaxis\": {\"anchor\": \"x\", \"domain\": [0.0, 1.0], \"title\": {\"text\": \"oshwaUid\"}}},                        {\"responsive\": true}                    ).then(function(){\n",
       "                            \n",
       "var gd = document.getElementById('4123ab63-7788-4bb7-bd27-d560795e4e5c');\n",
       "var x = new MutationObserver(function (mutations, observer) {{\n",
       "        var display = window.getComputedStyle(gd).display;\n",
       "        if (!display || display === 'none') {{\n",
       "            console.log([gd, 'removed!']);\n",
       "            Plotly.purge(gd);\n",
       "            observer.disconnect();\n",
       "        }}\n",
       "}});\n",
       "\n",
       "// Listen for the removal of the full notebook cells\n",
       "var notebookContainer = gd.closest('#notebook-container');\n",
       "if (notebookContainer) {{\n",
       "    x.observe(notebookContainer, {childList: true});\n",
       "}}\n",
       "\n",
       "// Listen for the clearing of the current output cell\n",
       "var outputEl = gd.closest('.output');\n",
       "if (outputEl) {{\n",
       "    x.observe(outputEl, {childList: true});\n",
       "}}\n",
       "\n",
       "                        })                };                });            </script>        </div>"
      ]
     },
     "metadata": {},
     "output_type": "display_data"
    }
   ],
   "source": [
    "rp_data = rp_data[rp_data[\"oshwaUid\"]>1]\n",
    "fig = px.bar(rp_data,y=\"oshwaUid\",title=\"2020 Certifications by Person/Org\")\n",
    "fig.show()"
   ]
  },
  {
   "cell_type": "code",
   "execution_count": 44,
   "metadata": {},
   "outputs": [
    {
     "data": {
      "application/vnd.plotly.v1+json": {
       "config": {
        "plotlyServerURL": "https://plot.ly"
       },
       "data": [
        {
         "hovertemplate": "certificationDate=%{x}<br>certification_number=%{y}<extra></extra>",
         "legendgroup": "",
         "line": {
          "color": "#636efa"
         },
         "mode": "lines",
         "name": "",
         "orientation": "v",
         "showlegend": false,
         "stackgroup": "1",
         "type": "scatter",
         "x": [
          "2020-01-03T00:00:00-05:00",
          "2020-01-03T00:00:00-05:00",
          "2020-01-03T00:00:00-05:00",
          "2020-01-03T00:00:00-05:00",
          "2020-01-03T00:00:00-05:00",
          "2020-01-03T00:00:00-05:00",
          "2020-01-03T00:00:00-05:00",
          "2020-01-03T00:00:00-05:00",
          "2020-01-03T00:00:00-05:00",
          "2020-01-03T00:00:00-05:00",
          "2020-01-03T00:00:00-05:00",
          "2020-01-03T00:00:00-05:00",
          "2020-01-03T00:00:00-05:00",
          "2020-01-04T00:00:00-05:00",
          "2020-01-12T00:00:00-05:00",
          "2020-01-13T00:00:00-05:00",
          "2020-01-26T00:00:00-05:00",
          "2020-01-26T00:00:00-05:00",
          "2020-01-26T00:00:00-05:00",
          "2020-01-26T00:00:00-05:00",
          "2020-01-27T00:00:00-05:00",
          "2020-01-27T00:00:00-05:00",
          "2020-01-27T00:00:00-05:00",
          "2020-01-30T00:00:00-05:00",
          "2020-02-12T00:00:00-05:00",
          "2020-02-16T00:00:00-05:00",
          "2020-02-16T00:00:00-05:00",
          "2020-02-16T00:00:00-05:00",
          "2020-02-16T00:00:00-05:00",
          "2020-02-16T00:00:00-05:00",
          "2020-02-16T00:00:00-05:00",
          "2020-02-16T00:00:00-05:00",
          "2020-02-16T00:00:00-05:00",
          "2020-02-16T00:00:00-05:00",
          "2020-02-16T00:00:00-05:00",
          "2020-02-16T00:00:00-05:00",
          "2020-02-16T00:00:00-05:00",
          "2020-02-16T00:00:00-05:00",
          "2020-02-25T00:00:00-05:00",
          "2020-02-25T00:00:00-05:00",
          "2020-02-25T00:00:00-05:00",
          "2020-02-25T00:00:00-05:00",
          "2020-02-25T00:00:00-05:00",
          "2020-02-25T00:00:00-05:00",
          "2020-02-26T00:00:00-05:00",
          "2020-03-04T00:00:00-05:00",
          "2020-03-06T00:00:00-05:00",
          "2020-03-11T00:00:00-04:00",
          "2020-03-11T00:00:00-04:00",
          "2020-03-17T00:00:00-04:00",
          "2020-03-17T00:00:00-04:00",
          "2020-03-18T00:00:00-04:00",
          "2020-04-02T00:00:00-04:00",
          "2020-04-03T00:00:00-04:00",
          "2020-04-03T00:00:00-04:00",
          "2020-04-03T00:00:00-04:00",
          "2020-04-03T00:00:00-04:00",
          "2020-04-03T00:00:00-04:00",
          "2020-04-03T00:00:00-04:00",
          "2020-04-03T00:00:00-04:00",
          "2020-04-03T00:00:00-04:00",
          "2020-04-03T00:00:00-04:00",
          "2020-04-05T00:00:00-04:00",
          "2020-04-05T00:00:00-04:00",
          "2020-04-05T00:00:00-04:00",
          "2020-04-05T00:00:00-04:00",
          "2020-04-05T00:00:00-04:00",
          "2020-04-06T00:00:00-04:00",
          "2020-04-06T00:00:00-04:00",
          "2020-04-06T00:00:00-04:00",
          "2020-04-06T00:00:00-04:00",
          "2020-04-06T00:00:00-04:00",
          "2020-04-07T00:00:00-04:00",
          "2020-04-07T00:00:00-04:00",
          "2020-04-07T00:00:00-04:00",
          "2020-04-07T00:00:00-04:00",
          "2020-04-07T00:00:00-04:00",
          "2020-04-07T00:00:00-04:00",
          "2020-04-08T00:00:00-04:00",
          "2020-04-09T00:00:00-04:00",
          "2020-04-09T00:00:00-04:00",
          "2020-04-09T00:00:00-04:00",
          "2020-04-09T00:00:00-04:00",
          "2020-04-09T00:00:00-04:00",
          "2020-04-09T00:00:00-04:00",
          "2020-04-10T00:00:00-04:00",
          "2020-04-10T00:00:00-04:00",
          "2020-04-10T00:00:00-04:00",
          "2020-04-10T00:00:00-04:00",
          "2020-04-10T00:00:00-04:00",
          "2020-04-10T00:00:00-04:00",
          "2020-04-10T00:00:00-04:00",
          "2020-04-10T00:00:00-04:00",
          "2020-04-13T00:00:00-04:00",
          "2020-04-13T00:00:00-04:00",
          "2020-04-13T00:00:00-04:00",
          "2020-04-13T00:00:00-04:00",
          "2020-04-13T00:00:00-04:00",
          "2020-04-15T00:00:00-04:00",
          "2020-04-15T00:00:00-04:00",
          "2020-04-15T00:00:00-04:00",
          "2020-04-15T00:00:00-04:00",
          "2020-04-16T00:00:00-04:00",
          "2020-04-16T00:00:00-04:00",
          "2020-04-16T00:00:00-04:00",
          "2020-04-17T00:00:00-04:00",
          "2020-04-20T00:00:00-04:00",
          "2020-04-20T00:00:00-04:00",
          "2020-04-20T00:00:00-04:00",
          "2020-04-20T00:00:00-04:00",
          "2020-04-20T00:00:00-04:00",
          "2020-04-20T00:00:00-04:00",
          "2020-04-20T00:00:00-04:00",
          "2020-04-20T00:00:00-04:00",
          "2020-04-20T00:00:00-04:00",
          "2020-04-21T00:00:00-04:00",
          "2020-04-21T00:00:00-04:00",
          "2020-04-21T00:00:00-04:00",
          "2020-04-21T00:00:00-04:00",
          "2020-04-21T00:00:00-04:00",
          "2020-04-21T00:00:00-04:00",
          "2020-04-21T00:00:00-04:00",
          "2020-04-21T00:00:00-04:00",
          "2020-04-21T00:00:00-04:00",
          "2020-04-21T00:00:00-04:00",
          "2020-04-21T00:00:00-04:00",
          "2020-04-21T00:00:00-04:00",
          "2020-04-21T00:00:00-04:00",
          "2020-04-21T00:00:00-04:00",
          "2020-04-21T00:00:00-04:00",
          "2020-04-22T00:00:00-04:00",
          "2020-04-22T00:00:00-04:00",
          "2020-04-22T00:00:00-04:00",
          "2020-04-22T00:00:00-04:00",
          "2020-04-22T00:00:00-04:00",
          "2020-04-22T00:00:00-04:00",
          "2020-04-22T00:00:00-04:00",
          "2020-04-22T00:00:00-04:00",
          "2020-04-22T00:00:00-04:00",
          "2020-04-22T00:00:00-04:00",
          "2020-04-24T00:00:00-04:00",
          "2020-04-24T00:00:00-04:00",
          "2020-04-24T00:00:00-04:00",
          "2020-04-24T00:00:00-04:00",
          "2020-04-24T00:00:00-04:00",
          "2020-04-24T00:00:00-04:00",
          "2020-04-24T00:00:00-04:00",
          "2020-04-24T00:00:00-04:00",
          "2020-04-24T00:00:00-04:00",
          "2020-04-24T00:00:00-04:00",
          "2020-04-24T00:00:00-04:00",
          "2020-04-24T00:00:00-04:00",
          "2020-04-24T00:00:00-04:00",
          "2020-04-24T00:00:00-04:00",
          "2020-04-24T00:00:00-04:00",
          "2020-04-24T00:00:00-04:00",
          "2020-04-24T00:00:00-04:00",
          "2020-04-24T00:00:00-04:00",
          "2020-04-24T00:00:00-04:00",
          "2020-04-27T00:00:00-04:00",
          "2020-04-27T00:00:00-04:00",
          "2020-04-28T00:00:00-04:00",
          "2020-04-28T00:00:00-04:00",
          "2020-04-28T00:00:00-04:00",
          "2020-04-28T00:00:00-04:00",
          "2020-04-28T00:00:00-04:00",
          "2020-04-28T00:00:00-04:00",
          "2020-04-28T00:00:00-04:00",
          "2020-04-28T00:00:00-04:00",
          "2020-04-28T00:00:00-04:00",
          "2020-04-28T00:00:00-04:00",
          "2020-04-28T00:00:00-04:00",
          "2020-04-28T00:00:00-04:00",
          "2020-04-28T00:00:00-04:00",
          "2020-04-28T00:00:00-04:00",
          "2020-04-28T00:00:00-04:00",
          "2020-04-28T00:00:00-04:00",
          "2020-04-28T00:00:00-04:00",
          "2020-04-28T00:00:00-04:00",
          "2020-04-28T00:00:00-04:00",
          "2020-04-28T00:00:00-04:00",
          "2020-04-28T00:00:00-04:00",
          "2020-04-28T00:00:00-04:00",
          "2020-04-28T00:00:00-04:00",
          "2020-04-29T00:00:00-04:00",
          "2020-04-29T00:00:00-04:00",
          "2020-04-29T00:00:00-04:00",
          "2020-04-29T00:00:00-04:00",
          "2020-04-29T00:00:00-04:00",
          "2020-04-29T00:00:00-04:00",
          "2020-04-29T00:00:00-04:00",
          "2020-04-29T00:00:00-04:00",
          "2020-04-29T00:00:00-04:00",
          "2020-04-29T00:00:00-04:00",
          "2020-04-29T00:00:00-04:00",
          "2020-04-29T00:00:00-04:00",
          "2020-04-29T00:00:00-04:00",
          "2020-04-29T00:00:00-04:00",
          "2020-04-29T00:00:00-04:00",
          "2020-04-29T00:00:00-04:00",
          "2020-04-29T00:00:00-04:00",
          "2020-04-29T00:00:00-04:00",
          "2020-04-29T00:00:00-04:00",
          "2020-04-29T00:00:00-04:00",
          "2020-04-29T00:00:00-04:00",
          "2020-04-29T00:00:00-04:00",
          "2020-04-29T00:00:00-04:00",
          "2020-04-29T00:00:00-04:00",
          "2020-04-29T00:00:00-04:00",
          "2020-04-30T00:00:00-04:00",
          "2020-04-30T00:00:00-04:00",
          "2020-04-30T00:00:00-04:00",
          "2020-04-30T00:00:00-04:00",
          "2020-04-30T00:00:00-04:00",
          "2020-04-30T00:00:00-04:00",
          "2020-04-30T00:00:00-04:00",
          "2020-04-30T00:00:00-04:00",
          "2020-04-30T00:00:00-04:00",
          "2020-04-30T00:00:00-04:00",
          "2020-04-30T00:00:00-04:00",
          "2020-04-30T00:00:00-04:00",
          "2020-04-30T00:00:00-04:00",
          "2020-04-30T00:00:00-04:00",
          "2020-04-30T00:00:00-04:00",
          "2020-04-30T00:00:00-04:00",
          "2020-04-30T00:00:00-04:00",
          "2020-04-30T00:00:00-04:00",
          "2020-04-30T00:00:00-04:00",
          "2020-04-30T00:00:00-04:00",
          "2020-04-30T00:00:00-04:00",
          "2020-04-30T00:00:00-04:00",
          "2020-04-30T00:00:00-04:00",
          "2020-04-30T00:00:00-04:00",
          "2020-04-30T00:00:00-04:00",
          "2020-04-30T00:00:00-04:00",
          "2020-04-30T00:00:00-04:00",
          "2020-04-30T00:00:00-04:00",
          "2020-04-30T00:00:00-04:00",
          "2020-04-30T00:00:00-04:00",
          "2020-04-30T00:00:00-04:00",
          "2020-04-30T00:00:00-04:00",
          "2020-04-30T00:00:00-04:00",
          "2020-04-30T00:00:00-04:00",
          "2020-04-30T00:00:00-04:00",
          "2020-04-30T00:00:00-04:00",
          "2020-04-30T00:00:00-04:00",
          "2020-04-30T00:00:00-04:00",
          "2020-04-30T00:00:00-04:00",
          "2020-04-30T00:00:00-04:00",
          "2020-04-30T00:00:00-04:00",
          "2020-04-30T00:00:00-04:00",
          "2020-04-30T00:00:00-04:00",
          "2020-04-30T00:00:00-04:00",
          "2020-04-30T00:00:00-04:00",
          "2020-04-30T00:00:00-04:00",
          "2020-04-30T00:00:00-04:00",
          "2020-04-30T00:00:00-04:00",
          "2020-04-30T00:00:00-04:00",
          "2020-04-30T00:00:00-04:00",
          "2020-04-30T00:00:00-04:00",
          "2020-04-30T00:00:00-04:00",
          "2020-04-30T00:00:00-04:00",
          "2020-04-30T00:00:00-04:00",
          "2020-04-30T00:00:00-04:00",
          "2020-04-30T00:00:00-04:00",
          "2020-04-30T00:00:00-04:00",
          "2020-04-30T00:00:00-04:00",
          "2020-04-30T00:00:00-04:00",
          "2020-04-30T00:00:00-04:00",
          "2020-04-30T00:00:00-04:00",
          "2020-04-30T00:00:00-04:00",
          "2020-04-30T00:00:00-04:00",
          "2020-04-30T00:00:00-04:00",
          "2020-04-30T00:00:00-04:00",
          "2020-04-30T00:00:00-04:00",
          "2020-04-30T00:00:00-04:00",
          "2020-04-30T00:00:00-04:00",
          "2020-04-30T00:00:00-04:00",
          "2020-04-30T00:00:00-04:00",
          "2020-04-30T00:00:00-04:00",
          "2020-04-30T00:00:00-04:00",
          "2020-04-30T00:00:00-04:00",
          "2020-04-30T00:00:00-04:00",
          "2020-04-30T00:00:00-04:00",
          "2020-04-30T00:00:00-04:00",
          "2020-04-30T00:00:00-04:00",
          "2020-04-30T00:00:00-04:00",
          "2020-04-30T00:00:00-04:00",
          "2020-04-30T00:00:00-04:00",
          "2020-04-30T00:00:00-04:00",
          "2020-04-30T00:00:00-04:00",
          "2020-04-30T00:00:00-04:00",
          "2020-04-30T00:00:00-04:00",
          "2020-04-30T00:00:00-04:00",
          "2020-04-30T00:00:00-04:00",
          "2020-04-30T00:00:00-04:00",
          "2020-04-30T00:00:00-04:00",
          "2020-04-30T00:00:00-04:00",
          "2020-04-30T00:00:00-04:00",
          "2020-04-30T00:00:00-04:00",
          "2020-04-30T00:00:00-04:00",
          "2020-04-30T00:00:00-04:00",
          "2020-04-30T00:00:00-04:00",
          "2020-04-30T00:00:00-04:00",
          "2020-04-30T00:00:00-04:00",
          "2020-04-30T00:00:00-04:00",
          "2020-04-30T00:00:00-04:00",
          "2020-04-30T00:00:00-04:00",
          "2020-04-30T00:00:00-04:00",
          "2020-04-30T00:00:00-04:00",
          "2020-04-30T00:00:00-04:00",
          "2020-04-30T00:00:00-04:00",
          "2020-04-30T00:00:00-04:00",
          "2020-04-30T00:00:00-04:00",
          "2020-05-03T00:00:00-04:00",
          "2020-05-03T00:00:00-04:00",
          "2020-05-03T00:00:00-04:00",
          "2020-05-03T00:00:00-04:00",
          "2020-05-03T00:00:00-04:00",
          "2020-05-03T00:00:00-04:00",
          "2020-05-03T00:00:00-04:00",
          "2020-05-03T00:00:00-04:00",
          "2020-05-04T00:00:00-04:00",
          "2020-05-04T00:00:00-04:00",
          "2020-05-04T00:00:00-04:00",
          "2020-05-04T00:00:00-04:00",
          "2020-05-04T00:00:00-04:00",
          "2020-05-04T00:00:00-04:00",
          "2020-05-04T00:00:00-04:00",
          "2020-05-04T00:00:00-04:00",
          "2020-05-04T00:00:00-04:00",
          "2020-05-04T00:00:00-04:00",
          "2020-05-04T00:00:00-04:00",
          "2020-05-04T00:00:00-04:00",
          "2020-05-04T00:00:00-04:00",
          "2020-05-04T00:00:00-04:00",
          "2020-05-04T00:00:00-04:00",
          "2020-05-04T00:00:00-04:00",
          "2020-05-04T00:00:00-04:00",
          "2020-05-05T00:00:00-04:00",
          "2020-05-05T00:00:00-04:00",
          "2020-05-05T00:00:00-04:00",
          "2020-05-05T00:00:00-04:00",
          "2020-05-05T00:00:00-04:00",
          "2020-05-05T00:00:00-04:00",
          "2020-05-05T00:00:00-04:00",
          "2020-05-05T00:00:00-04:00",
          "2020-05-05T00:00:00-04:00",
          "2020-05-05T00:00:00-04:00",
          "2020-05-05T00:00:00-04:00",
          "2020-05-05T00:00:00-04:00",
          "2020-05-05T00:00:00-04:00",
          "2020-05-05T00:00:00-04:00",
          "2020-05-05T00:00:00-04:00",
          "2020-05-05T00:00:00-04:00",
          "2020-05-05T00:00:00-04:00",
          "2020-05-05T00:00:00-04:00",
          "2020-05-05T00:00:00-04:00",
          "2020-05-05T00:00:00-04:00",
          "2020-05-05T00:00:00-04:00",
          "2020-05-05T00:00:00-04:00",
          "2020-05-05T00:00:00-04:00",
          "2020-05-05T00:00:00-04:00",
          "2020-05-07T00:00:00-04:00",
          "2020-05-07T00:00:00-04:00",
          "2020-05-07T00:00:00-04:00",
          "2020-05-07T00:00:00-04:00",
          "2020-05-07T00:00:00-04:00",
          "2020-05-07T00:00:00-04:00",
          "2020-05-07T00:00:00-04:00",
          "2020-05-07T00:00:00-04:00",
          "2020-05-07T00:00:00-04:00",
          "2020-05-07T00:00:00-04:00",
          "2020-05-07T00:00:00-04:00",
          "2020-05-07T00:00:00-04:00",
          "2020-05-08T00:00:00-04:00",
          "2020-05-08T00:00:00-04:00",
          "2020-05-08T00:00:00-04:00",
          "2020-05-08T00:00:00-04:00",
          "2020-05-08T00:00:00-04:00",
          "2020-05-08T00:00:00-04:00",
          "2020-05-08T00:00:00-04:00",
          "2020-05-08T00:00:00-04:00",
          "2020-05-08T00:00:00-04:00",
          "2020-05-08T00:00:00-04:00",
          "2020-05-08T00:00:00-04:00",
          "2020-05-08T00:00:00-04:00",
          "2020-05-08T00:00:00-04:00",
          "2020-05-08T00:00:00-04:00",
          "2020-05-08T00:00:00-04:00",
          "2020-05-08T00:00:00-04:00",
          "2020-05-08T00:00:00-04:00",
          "2020-05-08T00:00:00-04:00",
          "2020-05-08T00:00:00-04:00",
          "2020-05-08T00:00:00-04:00",
          "2020-05-09T00:00:00-04:00",
          "2020-05-09T00:00:00-04:00",
          "2020-05-09T00:00:00-04:00",
          "2020-05-09T00:00:00-04:00",
          "2020-05-09T00:00:00-04:00",
          "2020-05-09T00:00:00-04:00",
          "2020-05-09T00:00:00-04:00",
          "2020-05-09T00:00:00-04:00",
          "2020-05-09T00:00:00-04:00",
          "2020-05-09T00:00:00-04:00",
          "2020-05-09T00:00:00-04:00",
          "2020-05-09T00:00:00-04:00",
          "2020-05-09T00:00:00-04:00",
          "2020-05-09T00:00:00-04:00",
          "2020-05-09T00:00:00-04:00",
          "2020-05-09T00:00:00-04:00",
          "2020-05-09T00:00:00-04:00",
          "2020-05-09T00:00:00-04:00",
          "2020-05-09T00:00:00-04:00",
          "2020-05-09T00:00:00-04:00",
          "2020-05-09T00:00:00-04:00",
          "2020-05-09T00:00:00-04:00",
          "2020-05-09T00:00:00-04:00",
          "2020-05-09T00:00:00-04:00",
          "2020-05-09T00:00:00-04:00",
          "2020-05-09T00:00:00-04:00",
          "2020-05-09T00:00:00-04:00",
          "2020-05-09T00:00:00-04:00",
          "2020-05-09T00:00:00-04:00",
          "2020-05-09T00:00:00-04:00",
          "2020-05-09T00:00:00-04:00",
          "2020-05-09T00:00:00-04:00",
          "2020-05-09T00:00:00-04:00",
          "2020-05-09T00:00:00-04:00",
          "2020-05-09T00:00:00-04:00",
          "2020-05-09T00:00:00-04:00",
          "2020-05-09T00:00:00-04:00",
          "2020-05-09T00:00:00-04:00",
          "2020-05-09T00:00:00-04:00",
          "2020-05-09T00:00:00-04:00",
          "2020-05-09T00:00:00-04:00",
          "2020-05-09T00:00:00-04:00",
          "2020-05-09T00:00:00-04:00",
          "2020-05-09T00:00:00-04:00",
          "2020-05-09T00:00:00-04:00",
          "2020-05-09T00:00:00-04:00",
          "2020-05-09T00:00:00-04:00",
          "2020-05-09T00:00:00-04:00",
          "2020-05-09T00:00:00-04:00",
          "2020-05-09T00:00:00-04:00",
          "2020-05-09T00:00:00-04:00",
          "2020-05-09T00:00:00-04:00",
          "2020-05-09T00:00:00-04:00",
          "2020-05-09T00:00:00-04:00",
          "2020-05-09T00:00:00-04:00",
          "2020-05-10T00:00:00-04:00",
          "2020-05-10T00:00:00-04:00",
          "2020-05-10T00:00:00-04:00",
          "2020-05-10T00:00:00-04:00",
          "2020-05-10T00:00:00-04:00",
          "2020-05-10T00:00:00-04:00",
          "2020-05-10T00:00:00-04:00",
          "2020-05-11T00:00:00-04:00",
          "2020-05-11T00:00:00-04:00",
          "2020-05-11T00:00:00-04:00",
          "2020-05-11T00:00:00-04:00",
          "2020-05-11T00:00:00-04:00",
          "2020-05-11T00:00:00-04:00",
          "2020-05-11T00:00:00-04:00",
          "2020-05-11T00:00:00-04:00",
          "2020-05-12T00:00:00-04:00",
          "2020-05-12T00:00:00-04:00",
          "2020-05-12T00:00:00-04:00",
          "2020-05-12T00:00:00-04:00",
          "2020-05-12T00:00:00-04:00",
          "2020-05-16T00:00:00-04:00",
          "2020-05-16T00:00:00-04:00",
          "2020-05-16T00:00:00-04:00",
          "2020-05-16T00:00:00-04:00",
          "2020-05-16T00:00:00-04:00",
          "2020-05-16T00:00:00-04:00",
          "2020-05-16T00:00:00-04:00",
          "2020-05-16T00:00:00-04:00",
          "2020-05-16T00:00:00-04:00",
          "2020-05-16T00:00:00-04:00",
          "2020-05-16T00:00:00-04:00",
          "2020-05-16T00:00:00-04:00",
          "2020-05-16T00:00:00-04:00",
          "2020-05-16T00:00:00-04:00",
          "2020-05-16T00:00:00-04:00",
          "2020-05-16T00:00:00-04:00",
          "2020-05-19T00:00:00-04:00",
          "2020-05-19T00:00:00-04:00",
          "2020-05-19T00:00:00-04:00",
          "2020-05-19T00:00:00-04:00",
          "2020-05-19T00:00:00-04:00",
          "2020-05-19T00:00:00-04:00",
          "2020-05-19T00:00:00-04:00",
          "2020-05-19T00:00:00-04:00",
          "2020-05-19T00:00:00-04:00",
          "2020-05-19T00:00:00-04:00",
          "2020-05-20T00:00:00-04:00",
          "2020-05-20T00:00:00-04:00",
          "2020-05-20T00:00:00-04:00",
          "2020-05-20T00:00:00-04:00",
          "2020-05-20T00:00:00-04:00",
          "2020-05-20T00:00:00-04:00",
          "2020-05-20T00:00:00-04:00",
          "2020-05-20T00:00:00-04:00",
          "2020-05-20T00:00:00-04:00",
          "2020-05-20T00:00:00-04:00",
          "2020-05-20T00:00:00-04:00",
          "2020-05-20T00:00:00-04:00",
          "2020-05-20T00:00:00-04:00",
          "2020-05-23T00:00:00-04:00",
          "2020-05-23T00:00:00-04:00",
          "2020-05-23T00:00:00-04:00",
          "2020-05-23T00:00:00-04:00",
          "2020-05-23T00:00:00-04:00",
          "2020-05-23T00:00:00-04:00",
          "2020-05-23T00:00:00-04:00",
          "2020-05-23T00:00:00-04:00",
          "2020-05-23T00:00:00-04:00",
          "2020-05-23T00:00:00-04:00",
          "2020-05-23T00:00:00-04:00",
          "2020-05-23T00:00:00-04:00",
          "2020-05-23T00:00:00-04:00",
          "2020-05-23T00:00:00-04:00",
          "2020-05-23T00:00:00-04:00",
          "2020-05-23T00:00:00-04:00",
          "2020-05-26T00:00:00-04:00",
          "2020-05-28T00:00:00-04:00",
          "2020-05-28T00:00:00-04:00",
          "2020-05-28T00:00:00-04:00",
          "2020-05-28T00:00:00-04:00",
          "2020-05-28T00:00:00-04:00",
          "2020-05-28T00:00:00-04:00",
          "2020-05-28T00:00:00-04:00",
          "2020-05-28T00:00:00-04:00",
          "2020-05-28T00:00:00-04:00",
          "2020-05-28T00:00:00-04:00",
          "2020-05-28T00:00:00-04:00",
          "2020-05-28T00:00:00-04:00",
          "2020-05-28T00:00:00-04:00",
          "2020-05-28T00:00:00-04:00",
          "2020-05-28T00:00:00-04:00",
          "2020-05-28T00:00:00-04:00",
          "2020-05-28T00:00:00-04:00",
          "2020-05-28T00:00:00-04:00",
          "2020-05-28T00:00:00-04:00",
          "2020-05-28T00:00:00-04:00",
          "2020-05-28T00:00:00-04:00",
          "2020-06-01T00:00:00-04:00",
          "2020-06-05T00:00:00-04:00",
          "2020-06-05T00:00:00-04:00",
          "2020-06-05T00:00:00-04:00",
          "2020-06-05T00:00:00-04:00",
          "2020-06-05T00:00:00-04:00",
          "2020-06-05T00:00:00-04:00",
          "2020-06-09T00:00:00-04:00",
          "2020-06-09T00:00:00-04:00",
          "2020-06-09T00:00:00-04:00",
          "2020-06-09T00:00:00-04:00",
          "2020-06-19T00:00:00-04:00",
          "2020-06-19T00:00:00-04:00",
          "2020-06-19T00:00:00-04:00",
          "2020-06-23T00:00:00-04:00",
          "2020-06-29T00:00:00-04:00",
          "2020-07-01T00:00:00-04:00",
          "2020-07-01T00:00:00-04:00",
          "2020-07-01T00:00:00-04:00",
          "2020-07-07T00:00:00-04:00",
          "2020-07-13T00:00:00-04:00",
          "2020-07-13T00:00:00-04:00",
          "2020-07-13T00:00:00-04:00",
          "2020-07-16T00:00:00-04:00",
          "2020-07-16T00:00:00-04:00",
          "2020-07-16T00:00:00-04:00",
          "2020-07-16T00:00:00-04:00",
          "2020-07-16T00:00:00-04:00",
          "2020-07-20T00:00:00-04:00",
          "2020-07-28T00:00:00-04:00",
          "2020-07-28T00:00:00-04:00",
          "2020-07-28T00:00:00-04:00",
          "2020-08-06T00:00:00-04:00",
          "2020-08-06T00:00:00-04:00",
          "2020-08-07T00:00:00-04:00",
          "2020-08-14T00:00:00-04:00",
          "2020-08-14T00:00:00-04:00",
          "2020-08-14T00:00:00-04:00",
          "2020-08-14T00:00:00-04:00",
          "2020-08-20T00:00:00-04:00",
          "2020-08-20T00:00:00-04:00",
          "2020-08-20T00:00:00-04:00",
          "2020-08-27T00:00:00-04:00",
          "2020-08-27T00:00:00-04:00",
          "2020-08-27T00:00:00-04:00",
          "2020-08-27T00:00:00-04:00",
          "2020-09-01T00:00:00-04:00",
          "2020-09-12T00:00:00-04:00",
          "2020-09-12T00:00:00-04:00",
          "2020-09-12T00:00:00-04:00",
          "2020-09-12T00:00:00-04:00",
          "2020-09-12T00:00:00-04:00",
          "2020-09-12T00:00:00-04:00",
          "2020-09-12T00:00:00-04:00",
          "2020-09-12T00:00:00-04:00",
          "2020-09-12T00:00:00-04:00",
          "2020-09-12T00:00:00-04:00",
          "2020-09-12T00:00:00-04:00",
          "2020-09-12T00:00:00-04:00",
          "2020-09-12T00:00:00-04:00",
          "2020-09-12T00:00:00-04:00",
          "2020-09-12T00:00:00-04:00",
          "2020-09-12T00:00:00-04:00",
          "2020-09-12T00:00:00-04:00",
          "2020-09-12T00:00:00-04:00",
          "2020-09-12T00:00:00-04:00",
          "2020-09-12T00:00:00-04:00",
          "2020-09-12T00:00:00-04:00",
          "2020-09-12T00:00:00-04:00",
          "2020-09-12T00:00:00-04:00",
          "2020-09-12T00:00:00-04:00",
          "2020-09-12T00:00:00-04:00",
          "2020-09-12T00:00:00-04:00",
          "2020-09-12T00:00:00-04:00",
          "2020-09-19T00:00:00-04:00",
          "2020-09-19T00:00:00-04:00",
          "2020-09-19T00:00:00-04:00",
          "2020-09-19T00:00:00-04:00",
          "2020-09-19T00:00:00-04:00",
          "2020-09-19T00:00:00-04:00",
          "2020-09-19T00:00:00-04:00",
          "2020-09-19T00:00:00-04:00",
          "2020-09-19T00:00:00-04:00",
          "2020-09-19T00:00:00-04:00",
          "2020-09-19T00:00:00-04:00",
          "2020-09-19T00:00:00-04:00",
          "2020-09-25T00:00:00-04:00",
          "2020-09-25T00:00:00-04:00",
          "2020-09-25T00:00:00-04:00",
          "2020-10-02T00:00:00-04:00",
          "2020-10-02T00:00:00-04:00",
          "2020-10-02T00:00:00-04:00",
          "2020-10-02T00:00:00-04:00",
          "2020-10-02T00:00:00-04:00",
          "2020-10-02T00:00:00-04:00",
          "2020-10-02T00:00:00-04:00",
          "2020-10-02T00:00:00-04:00",
          "2020-10-11T00:00:00-04:00",
          "2020-10-11T00:00:00-04:00",
          "2020-10-11T00:00:00-04:00",
          "2020-10-12T00:00:00-04:00",
          "2020-10-12T00:00:00-04:00",
          "2020-10-13T00:00:00-04:00",
          "2020-10-16T00:00:00-04:00",
          "2020-10-16T00:00:00-04:00",
          "2020-10-22T00:00:00-04:00",
          "2020-10-22T00:00:00-04:00",
          "2020-10-22T00:00:00-04:00",
          "2020-10-22T00:00:00-04:00",
          "2020-10-22T00:00:00-04:00",
          "2020-10-23T00:00:00-04:00",
          "2020-10-29T00:00:00-04:00",
          "2020-10-29T00:00:00-04:00",
          "2020-10-29T00:00:00-04:00",
          "2020-10-29T00:00:00-04:00",
          "2020-10-29T00:00:00-04:00",
          "2020-10-30T00:00:00-04:00",
          "2020-10-30T00:00:00-04:00",
          "2020-11-06T00:00:00-05:00",
          "2020-11-06T00:00:00-05:00",
          "2020-11-06T00:00:00-05:00",
          "2020-11-06T00:00:00-05:00",
          "2020-11-06T00:00:00-05:00",
          "2020-11-13T00:00:00-05:00",
          "2020-11-13T00:00:00-05:00",
          "2020-11-13T00:00:00-05:00",
          "2020-11-13T00:00:00-05:00",
          "2020-11-13T00:00:00-05:00",
          "2020-11-13T00:00:00-05:00",
          "2020-11-13T00:00:00-05:00",
          "2020-11-17T00:00:00-05:00",
          "2020-11-17T00:00:00-05:00",
          "2020-11-17T00:00:00-05:00",
          "2020-11-19T00:00:00-05:00",
          "2020-11-19T00:00:00-05:00",
          "2020-11-19T00:00:00-05:00",
          "2020-11-19T00:00:00-05:00",
          "2020-11-19T00:00:00-05:00",
          "2020-11-19T00:00:00-05:00",
          "2020-11-19T00:00:00-05:00",
          "2020-11-19T00:00:00-05:00",
          "2020-11-19T00:00:00-05:00",
          "2020-11-19T00:00:00-05:00",
          "2020-11-19T00:00:00-05:00",
          "2020-11-19T00:00:00-05:00",
          "2020-11-19T00:00:00-05:00",
          "2020-11-19T00:00:00-05:00",
          "2020-11-19T00:00:00-05:00",
          "2020-11-19T00:00:00-05:00",
          "2020-11-19T00:00:00-05:00",
          "2020-11-19T00:00:00-05:00",
          "2020-11-19T00:00:00-05:00",
          "2020-11-19T00:00:00-05:00",
          "2020-11-19T00:00:00-05:00",
          "2020-11-21T00:00:00-05:00",
          "2020-11-21T00:00:00-05:00",
          "2020-11-21T00:00:00-05:00",
          "2020-11-21T00:00:00-05:00",
          "2020-11-21T00:00:00-05:00",
          "2020-11-21T00:00:00-05:00",
          "2020-11-21T00:00:00-05:00",
          "2020-11-21T00:00:00-05:00",
          "2020-11-23T00:00:00-05:00",
          "2020-11-23T00:00:00-05:00",
          "2020-11-23T00:00:00-05:00",
          "2020-11-23T00:00:00-05:00",
          "2020-11-23T00:00:00-05:00",
          "2020-11-23T00:00:00-05:00",
          "2020-11-23T00:00:00-05:00",
          "2020-11-24T00:00:00-05:00",
          "2020-11-24T00:00:00-05:00",
          "2020-11-24T00:00:00-05:00",
          "2020-11-24T00:00:00-05:00",
          "2020-11-24T00:00:00-05:00",
          "2020-11-24T00:00:00-05:00",
          "2020-11-30T00:00:00-05:00",
          "2020-11-30T00:00:00-05:00",
          "2020-11-30T00:00:00-05:00",
          "2020-11-30T00:00:00-05:00",
          "2020-11-30T00:00:00-05:00",
          "2020-11-30T00:00:00-05:00",
          "2020-11-30T00:00:00-05:00",
          "2020-11-30T00:00:00-05:00",
          "2020-11-30T00:00:00-05:00",
          "2020-11-30T00:00:00-05:00",
          "2020-11-30T00:00:00-05:00",
          "2020-11-30T00:00:00-05:00",
          "2020-11-30T00:00:00-05:00",
          "2020-11-30T00:00:00-05:00",
          "2020-11-30T00:00:00-05:00",
          "2020-11-30T00:00:00-05:00",
          "2020-11-30T00:00:00-05:00",
          "2020-12-02T00:00:00-05:00",
          "2020-12-02T00:00:00-05:00",
          "2020-12-02T00:00:00-05:00",
          "2020-12-02T00:00:00-05:00",
          "2020-12-02T00:00:00-05:00",
          "2020-12-02T00:00:00-05:00",
          "2020-12-02T00:00:00-05:00",
          "2020-12-02T00:00:00-05:00",
          "2020-12-02T00:00:00-05:00",
          "2020-12-02T00:00:00-05:00",
          "2020-12-02T00:00:00-05:00",
          "2020-12-02T00:00:00-05:00",
          "2020-12-03T00:00:00-05:00",
          "2020-12-03T00:00:00-05:00",
          "2020-12-03T00:00:00-05:00",
          "2020-12-03T00:00:00-05:00",
          "2020-12-03T00:00:00-05:00",
          "2020-12-03T00:00:00-05:00",
          "2020-12-04T00:00:00-05:00",
          "2020-12-04T00:00:00-05:00",
          "2020-12-04T00:00:00-05:00",
          "2020-12-04T00:00:00-05:00",
          "2020-12-04T00:00:00-05:00",
          "2020-12-04T00:00:00-05:00",
          "2020-12-04T00:00:00-05:00",
          "2020-12-04T00:00:00-05:00",
          "2020-12-04T00:00:00-05:00",
          "2020-12-04T00:00:00-05:00",
          "2020-12-04T00:00:00-05:00",
          "2020-12-04T00:00:00-05:00",
          "2020-12-04T00:00:00-05:00",
          "2020-12-04T00:00:00-05:00",
          "2020-12-04T00:00:00-05:00",
          "2020-12-04T00:00:00-05:00",
          "2020-12-04T00:00:00-05:00",
          "2020-12-05T00:00:00-05:00",
          "2020-12-05T00:00:00-05:00",
          "2020-12-05T00:00:00-05:00",
          "2020-12-05T00:00:00-05:00",
          "2020-12-05T00:00:00-05:00",
          "2020-12-05T00:00:00-05:00",
          "2020-12-07T00:00:00-05:00",
          "2020-12-07T00:00:00-05:00",
          "2020-12-07T00:00:00-05:00",
          "2020-12-07T00:00:00-05:00",
          "2020-12-07T00:00:00-05:00",
          "2020-12-07T00:00:00-05:00",
          "2020-12-07T00:00:00-05:00",
          "2020-12-07T00:00:00-05:00",
          "2020-12-07T00:00:00-05:00",
          "2020-12-07T00:00:00-05:00",
          "2020-12-07T00:00:00-05:00",
          "2020-12-07T00:00:00-05:00",
          "2020-12-07T00:00:00-05:00",
          "2020-12-07T00:00:00-05:00",
          "2020-12-07T00:00:00-05:00",
          "2020-12-07T00:00:00-05:00",
          "2020-12-07T00:00:00-05:00",
          "2020-12-07T00:00:00-05:00",
          "2020-12-07T00:00:00-05:00",
          "2020-12-07T00:00:00-05:00",
          "2020-12-07T00:00:00-05:00",
          "2020-12-07T00:00:00-05:00",
          "2020-12-07T00:00:00-05:00",
          "2020-12-07T00:00:00-05:00",
          "2020-12-08T00:00:00-05:00",
          "2020-12-08T00:00:00-05:00",
          "2020-12-08T00:00:00-05:00",
          "2020-12-08T00:00:00-05:00",
          "2020-12-08T00:00:00-05:00",
          "2020-12-08T00:00:00-05:00",
          "2020-12-08T00:00:00-05:00",
          "2020-12-08T00:00:00-05:00",
          "2020-12-08T00:00:00-05:00",
          "2020-12-08T00:00:00-05:00",
          "2020-12-08T00:00:00-05:00",
          "2020-12-08T00:00:00-05:00",
          "2020-12-08T00:00:00-05:00",
          "2020-12-08T00:00:00-05:00",
          "2020-12-08T00:00:00-05:00",
          "2020-12-08T00:00:00-05:00",
          "2020-12-08T00:00:00-05:00",
          "2020-12-08T00:00:00-05:00",
          "2020-12-08T00:00:00-05:00",
          "2020-12-08T00:00:00-05:00",
          "2020-12-08T00:00:00-05:00",
          "2020-12-08T00:00:00-05:00",
          "2020-12-08T00:00:00-05:00",
          "2020-12-08T00:00:00-05:00",
          "2020-12-08T00:00:00-05:00",
          "2020-12-11T00:00:00-05:00",
          "2020-12-11T00:00:00-05:00",
          "2020-12-11T00:00:00-05:00",
          "2020-12-14T00:00:00-05:00",
          "2020-12-14T00:00:00-05:00",
          "2020-12-14T00:00:00-05:00",
          "2020-12-14T00:00:00-05:00",
          "2020-12-14T00:00:00-05:00",
          "2020-12-14T00:00:00-05:00",
          "2020-12-14T00:00:00-05:00",
          "2020-12-14T00:00:00-05:00",
          "2020-12-14T00:00:00-05:00",
          "2020-12-14T00:00:00-05:00",
          "2020-12-14T00:00:00-05:00",
          "2020-12-14T00:00:00-05:00",
          "2020-12-14T00:00:00-05:00",
          "2020-12-14T00:00:00-05:00",
          "2020-12-14T00:00:00-05:00",
          "2020-12-14T00:00:00-05:00",
          "2020-12-14T00:00:00-05:00",
          "2020-12-14T00:00:00-05:00",
          "2020-12-14T00:00:00-05:00",
          "2020-12-14T00:00:00-05:00",
          "2020-12-14T00:00:00-05:00",
          "2020-12-14T00:00:00-05:00",
          "2020-12-14T00:00:00-05:00",
          "2020-12-14T00:00:00-05:00",
          "2020-12-14T00:00:00-05:00",
          "2020-12-14T00:00:00-05:00",
          "2020-12-14T00:00:00-05:00",
          "2020-12-14T00:00:00-05:00",
          "2020-12-14T00:00:00-05:00",
          "2020-12-14T00:00:00-05:00",
          "2020-12-14T00:00:00-05:00",
          "2020-12-14T00:00:00-05:00",
          "2020-12-14T00:00:00-05:00",
          "2020-12-14T00:00:00-05:00",
          "2020-12-14T00:00:00-05:00",
          "2020-12-16T00:00:00-05:00",
          "2020-12-16T00:00:00-05:00",
          "2020-12-16T00:00:00-05:00",
          "2020-12-16T00:00:00-05:00",
          "2020-12-16T00:00:00-05:00",
          "2020-12-16T00:00:00-05:00",
          "2020-12-16T00:00:00-05:00",
          "2020-12-16T00:00:00-05:00",
          "2020-12-16T00:00:00-05:00",
          "2020-12-16T00:00:00-05:00",
          "2020-12-16T00:00:00-05:00",
          "2020-12-16T00:00:00-05:00",
          "2020-12-16T00:00:00-05:00",
          "2020-12-16T00:00:00-05:00",
          "2020-12-16T00:00:00-05:00",
          "2020-12-16T00:00:00-05:00",
          "2020-12-16T00:00:00-05:00",
          "2020-12-16T00:00:00-05:00",
          "2020-12-17T00:00:00-05:00",
          "2020-12-17T00:00:00-05:00",
          "2020-12-17T00:00:00-05:00",
          "2020-12-17T00:00:00-05:00",
          "2020-12-17T00:00:00-05:00",
          "2020-12-17T00:00:00-05:00",
          "2020-12-17T00:00:00-05:00",
          "2020-12-17T00:00:00-05:00",
          "2020-12-17T00:00:00-05:00",
          "2020-12-17T00:00:00-05:00",
          "2020-12-17T00:00:00-05:00",
          "2020-12-17T00:00:00-05:00",
          "2020-12-17T00:00:00-05:00",
          "2020-12-17T00:00:00-05:00",
          "2020-12-17T00:00:00-05:00",
          "2020-12-17T00:00:00-05:00",
          "2020-12-17T00:00:00-05:00",
          "2020-12-17T00:00:00-05:00",
          "2020-12-17T00:00:00-05:00",
          "2020-12-17T00:00:00-05:00",
          "2020-12-17T00:00:00-05:00",
          "2020-12-17T00:00:00-05:00",
          "2020-12-17T00:00:00-05:00",
          "2020-12-17T00:00:00-05:00",
          "2020-12-17T00:00:00-05:00",
          "2020-12-17T00:00:00-05:00",
          "2020-12-17T00:00:00-05:00",
          "2020-12-17T00:00:00-05:00",
          "2020-12-17T00:00:00-05:00",
          "2020-12-17T00:00:00-05:00",
          "2020-12-17T00:00:00-05:00",
          "2020-12-17T00:00:00-05:00",
          "2020-12-17T00:00:00-05:00",
          "2020-12-17T00:00:00-05:00",
          "2020-12-17T00:00:00-05:00",
          "2020-12-17T00:00:00-05:00",
          "2020-12-17T00:00:00-05:00",
          "2020-12-17T00:00:00-05:00",
          "2020-12-17T00:00:00-05:00",
          "2020-12-17T00:00:00-05:00",
          "2020-12-17T00:00:00-05:00",
          "2020-12-17T00:00:00-05:00",
          "2020-12-17T00:00:00-05:00",
          "2020-12-17T00:00:00-05:00",
          "2020-12-17T00:00:00-05:00",
          "2020-12-17T00:00:00-05:00",
          "2020-12-17T00:00:00-05:00",
          "2020-12-17T00:00:00-05:00",
          "2020-12-17T00:00:00-05:00",
          "2020-12-18T00:00:00-05:00",
          "2020-12-18T00:00:00-05:00",
          "2020-12-18T00:00:00-05:00",
          "2020-12-18T00:00:00-05:00",
          "2020-12-18T00:00:00-05:00",
          "2020-12-18T00:00:00-05:00",
          "2020-12-18T00:00:00-05:00",
          "2020-12-18T00:00:00-05:00",
          "2020-12-18T00:00:00-05:00",
          "2020-12-18T00:00:00-05:00",
          "2020-12-18T00:00:00-05:00",
          "2020-12-18T00:00:00-05:00",
          "2020-12-18T00:00:00-05:00",
          "2020-12-18T00:00:00-05:00",
          "2020-12-18T00:00:00-05:00"
         ],
         "xaxis": "x",
         "y": [
          0,
          1,
          2,
          3,
          4,
          5,
          6,
          7,
          8,
          9,
          10,
          11,
          12,
          13,
          14,
          15,
          16,
          17,
          18,
          19,
          20,
          21,
          22,
          23,
          24,
          25,
          26,
          27,
          28,
          29,
          30,
          31,
          32,
          33,
          34,
          35,
          36,
          37,
          38,
          39,
          40,
          41,
          42,
          43,
          44,
          45,
          46,
          47,
          48,
          49,
          50,
          51,
          52,
          53,
          54,
          55,
          56,
          57,
          58,
          59,
          60,
          61,
          62,
          63,
          64,
          65,
          66,
          67,
          68,
          69,
          70,
          71,
          72,
          73,
          74,
          75,
          76,
          77,
          78,
          79,
          80,
          81,
          82,
          83,
          84,
          85,
          86,
          87,
          88,
          89,
          90,
          91,
          92,
          93,
          94,
          95,
          96,
          97,
          98,
          99,
          100,
          101,
          102,
          103,
          104,
          105,
          106,
          107,
          108,
          109,
          110,
          111,
          112,
          113,
          114,
          115,
          116,
          117,
          118,
          119,
          120,
          121,
          122,
          123,
          124,
          125,
          126,
          127,
          128,
          129,
          130,
          131,
          132,
          133,
          134,
          135,
          136,
          137,
          138,
          139,
          140,
          141,
          142,
          143,
          144,
          145,
          146,
          147,
          148,
          149,
          150,
          151,
          152,
          153,
          154,
          155,
          156,
          157,
          158,
          159,
          160,
          161,
          162,
          163,
          164,
          165,
          166,
          167,
          168,
          169,
          170,
          171,
          172,
          173,
          174,
          175,
          176,
          177,
          178,
          179,
          180,
          181,
          182,
          183,
          184,
          185,
          186,
          187,
          188,
          189,
          190,
          191,
          192,
          193,
          194,
          195,
          196,
          197,
          198,
          199,
          200,
          201,
          202,
          203,
          204,
          205,
          206,
          207,
          208,
          209,
          210,
          211,
          212,
          213,
          214,
          215,
          216,
          217,
          218,
          219,
          220,
          221,
          222,
          223,
          224,
          225,
          226,
          227,
          228,
          229,
          230,
          231,
          232,
          233,
          234,
          235,
          236,
          237,
          238,
          239,
          240,
          241,
          242,
          243,
          244,
          245,
          246,
          247,
          248,
          249,
          250,
          251,
          252,
          253,
          254,
          255,
          256,
          257,
          258,
          259,
          260,
          261,
          262,
          263,
          264,
          265,
          266,
          267,
          268,
          269,
          270,
          271,
          272,
          273,
          274,
          275,
          276,
          277,
          278,
          279,
          280,
          281,
          282,
          283,
          284,
          285,
          286,
          287,
          288,
          289,
          290,
          291,
          292,
          293,
          294,
          295,
          296,
          297,
          298,
          299,
          300,
          301,
          302,
          303,
          304,
          305,
          306,
          307,
          308,
          309,
          310,
          311,
          312,
          313,
          314,
          315,
          316,
          317,
          318,
          319,
          320,
          321,
          322,
          323,
          324,
          325,
          326,
          327,
          328,
          329,
          330,
          331,
          332,
          333,
          334,
          335,
          336,
          337,
          338,
          339,
          340,
          341,
          342,
          343,
          344,
          345,
          346,
          347,
          348,
          349,
          350,
          351,
          352,
          353,
          354,
          355,
          356,
          357,
          358,
          359,
          360,
          361,
          362,
          363,
          364,
          365,
          366,
          367,
          368,
          369,
          370,
          371,
          372,
          373,
          374,
          375,
          376,
          377,
          378,
          379,
          380,
          381,
          382,
          383,
          384,
          385,
          386,
          387,
          388,
          389,
          390,
          391,
          392,
          393,
          394,
          395,
          396,
          397,
          398,
          399,
          400,
          401,
          402,
          403,
          404,
          405,
          406,
          407,
          408,
          409,
          410,
          411,
          412,
          413,
          414,
          415,
          416,
          417,
          418,
          419,
          420,
          421,
          422,
          423,
          424,
          425,
          426,
          427,
          428,
          429,
          430,
          431,
          432,
          433,
          434,
          435,
          436,
          437,
          438,
          439,
          440,
          441,
          442,
          443,
          444,
          445,
          446,
          447,
          448,
          449,
          450,
          451,
          452,
          453,
          454,
          455,
          456,
          457,
          458,
          459,
          460,
          461,
          462,
          463,
          464,
          465,
          466,
          467,
          468,
          469,
          470,
          471,
          472,
          473,
          474,
          475,
          476,
          477,
          478,
          479,
          480,
          481,
          482,
          483,
          484,
          485,
          486,
          487,
          488,
          489,
          490,
          491,
          492,
          493,
          494,
          495,
          496,
          497,
          498,
          499,
          500,
          501,
          502,
          503,
          504,
          505,
          506,
          507,
          508,
          509,
          510,
          511,
          512,
          513,
          514,
          515,
          516,
          517,
          518,
          519,
          520,
          521,
          522,
          523,
          524,
          525,
          526,
          527,
          528,
          529,
          530,
          531,
          532,
          533,
          534,
          535,
          536,
          537,
          538,
          539,
          540,
          541,
          542,
          543,
          544,
          545,
          546,
          547,
          548,
          549,
          550,
          551,
          552,
          553,
          554,
          555,
          556,
          557,
          558,
          559,
          560,
          561,
          562,
          563,
          564,
          565,
          566,
          567,
          568,
          569,
          570,
          571,
          572,
          573,
          574,
          575,
          576,
          577,
          578,
          579,
          580,
          581,
          582,
          583,
          584,
          585,
          586,
          587,
          588,
          589,
          590,
          591,
          592,
          593,
          594,
          595,
          596,
          597,
          598,
          599,
          600,
          601,
          602,
          603,
          604,
          605,
          606,
          607,
          608,
          609,
          610,
          611,
          612,
          613,
          614,
          615,
          616,
          617,
          618,
          619,
          620,
          621,
          622,
          623,
          624,
          625,
          626,
          627,
          628,
          629,
          630,
          631,
          632,
          633,
          634,
          635,
          636,
          637,
          638,
          639,
          640,
          641,
          642,
          643,
          644,
          645,
          646,
          647,
          648,
          649,
          650,
          651,
          652,
          653,
          654,
          655,
          656,
          657,
          658,
          659,
          660,
          661,
          662,
          663,
          664,
          665,
          666,
          667,
          668,
          669,
          670,
          671,
          672,
          673,
          674,
          675,
          676,
          677,
          678,
          679,
          680,
          681,
          682,
          683,
          684,
          685,
          686,
          687,
          688,
          689,
          690,
          691,
          692,
          693,
          694,
          695,
          696,
          697,
          698,
          699,
          700,
          701,
          702,
          703,
          704,
          705,
          706,
          707,
          708,
          709,
          710,
          711,
          712,
          713,
          714,
          715,
          716,
          717,
          718,
          719,
          720,
          721,
          722,
          723,
          724,
          725,
          726,
          727,
          728,
          729,
          730,
          731,
          732,
          733,
          734,
          735,
          736,
          737,
          738,
          739,
          740,
          741,
          742,
          743,
          744,
          745,
          746,
          747,
          748,
          749,
          750,
          751,
          752,
          753,
          754,
          755,
          756,
          757,
          758,
          759,
          760,
          761,
          762,
          763,
          764,
          765,
          766,
          767,
          768,
          769,
          770,
          771,
          772,
          773,
          774,
          775,
          776,
          777,
          778,
          779,
          780,
          781,
          782,
          783,
          784,
          785,
          786,
          787,
          788,
          789,
          790,
          791,
          792,
          793,
          794,
          795,
          796,
          797,
          798,
          799,
          800,
          801,
          802,
          803,
          804,
          805,
          806,
          807,
          808,
          809,
          810,
          811,
          812,
          813,
          814,
          815,
          816,
          817,
          818,
          819,
          820,
          821,
          822,
          823,
          824,
          825,
          826,
          827,
          828,
          829,
          830,
          831,
          832,
          833,
          834,
          835,
          836,
          837,
          838,
          839,
          840,
          841,
          842,
          843,
          844,
          845,
          846,
          847,
          848,
          849,
          850,
          851,
          852,
          853,
          854,
          855,
          856,
          857,
          858,
          859,
          860,
          861,
          862,
          863,
          864,
          865,
          866,
          867,
          868,
          869,
          870,
          871,
          872,
          873,
          874,
          875,
          876,
          877,
          878,
          879,
          880,
          881,
          882,
          883,
          884,
          885,
          886,
          887,
          888,
          889,
          890,
          891,
          892,
          893,
          894,
          895,
          896,
          897,
          898,
          899,
          900,
          901,
          902,
          903,
          904,
          905,
          906,
          907,
          908,
          909,
          910,
          911,
          912,
          913,
          914,
          915,
          916,
          917,
          918,
          919,
          920,
          921,
          922,
          923,
          924,
          925,
          926,
          927,
          928,
          929,
          930,
          931,
          932,
          933,
          934,
          935,
          936,
          937,
          938,
          939,
          940,
          941,
          942,
          943,
          944,
          945,
          946,
          947,
          948
         ],
         "yaxis": "y"
        }
       ],
       "layout": {
        "legend": {
         "tracegroupgap": 0
        },
        "template": {
         "data": {
          "bar": [
           {
            "error_x": {
             "color": "#2a3f5f"
            },
            "error_y": {
             "color": "#2a3f5f"
            },
            "marker": {
             "line": {
              "color": "#E5ECF6",
              "width": 0.5
             }
            },
            "type": "bar"
           }
          ],
          "barpolar": [
           {
            "marker": {
             "line": {
              "color": "#E5ECF6",
              "width": 0.5
             }
            },
            "type": "barpolar"
           }
          ],
          "carpet": [
           {
            "aaxis": {
             "endlinecolor": "#2a3f5f",
             "gridcolor": "white",
             "linecolor": "white",
             "minorgridcolor": "white",
             "startlinecolor": "#2a3f5f"
            },
            "baxis": {
             "endlinecolor": "#2a3f5f",
             "gridcolor": "white",
             "linecolor": "white",
             "minorgridcolor": "white",
             "startlinecolor": "#2a3f5f"
            },
            "type": "carpet"
           }
          ],
          "choropleth": [
           {
            "colorbar": {
             "outlinewidth": 0,
             "ticks": ""
            },
            "type": "choropleth"
           }
          ],
          "contour": [
           {
            "colorbar": {
             "outlinewidth": 0,
             "ticks": ""
            },
            "colorscale": [
             [
              0,
              "#0d0887"
             ],
             [
              0.1111111111111111,
              "#46039f"
             ],
             [
              0.2222222222222222,
              "#7201a8"
             ],
             [
              0.3333333333333333,
              "#9c179e"
             ],
             [
              0.4444444444444444,
              "#bd3786"
             ],
             [
              0.5555555555555556,
              "#d8576b"
             ],
             [
              0.6666666666666666,
              "#ed7953"
             ],
             [
              0.7777777777777778,
              "#fb9f3a"
             ],
             [
              0.8888888888888888,
              "#fdca26"
             ],
             [
              1,
              "#f0f921"
             ]
            ],
            "type": "contour"
           }
          ],
          "contourcarpet": [
           {
            "colorbar": {
             "outlinewidth": 0,
             "ticks": ""
            },
            "type": "contourcarpet"
           }
          ],
          "heatmap": [
           {
            "colorbar": {
             "outlinewidth": 0,
             "ticks": ""
            },
            "colorscale": [
             [
              0,
              "#0d0887"
             ],
             [
              0.1111111111111111,
              "#46039f"
             ],
             [
              0.2222222222222222,
              "#7201a8"
             ],
             [
              0.3333333333333333,
              "#9c179e"
             ],
             [
              0.4444444444444444,
              "#bd3786"
             ],
             [
              0.5555555555555556,
              "#d8576b"
             ],
             [
              0.6666666666666666,
              "#ed7953"
             ],
             [
              0.7777777777777778,
              "#fb9f3a"
             ],
             [
              0.8888888888888888,
              "#fdca26"
             ],
             [
              1,
              "#f0f921"
             ]
            ],
            "type": "heatmap"
           }
          ],
          "heatmapgl": [
           {
            "colorbar": {
             "outlinewidth": 0,
             "ticks": ""
            },
            "colorscale": [
             [
              0,
              "#0d0887"
             ],
             [
              0.1111111111111111,
              "#46039f"
             ],
             [
              0.2222222222222222,
              "#7201a8"
             ],
             [
              0.3333333333333333,
              "#9c179e"
             ],
             [
              0.4444444444444444,
              "#bd3786"
             ],
             [
              0.5555555555555556,
              "#d8576b"
             ],
             [
              0.6666666666666666,
              "#ed7953"
             ],
             [
              0.7777777777777778,
              "#fb9f3a"
             ],
             [
              0.8888888888888888,
              "#fdca26"
             ],
             [
              1,
              "#f0f921"
             ]
            ],
            "type": "heatmapgl"
           }
          ],
          "histogram": [
           {
            "marker": {
             "colorbar": {
              "outlinewidth": 0,
              "ticks": ""
             }
            },
            "type": "histogram"
           }
          ],
          "histogram2d": [
           {
            "colorbar": {
             "outlinewidth": 0,
             "ticks": ""
            },
            "colorscale": [
             [
              0,
              "#0d0887"
             ],
             [
              0.1111111111111111,
              "#46039f"
             ],
             [
              0.2222222222222222,
              "#7201a8"
             ],
             [
              0.3333333333333333,
              "#9c179e"
             ],
             [
              0.4444444444444444,
              "#bd3786"
             ],
             [
              0.5555555555555556,
              "#d8576b"
             ],
             [
              0.6666666666666666,
              "#ed7953"
             ],
             [
              0.7777777777777778,
              "#fb9f3a"
             ],
             [
              0.8888888888888888,
              "#fdca26"
             ],
             [
              1,
              "#f0f921"
             ]
            ],
            "type": "histogram2d"
           }
          ],
          "histogram2dcontour": [
           {
            "colorbar": {
             "outlinewidth": 0,
             "ticks": ""
            },
            "colorscale": [
             [
              0,
              "#0d0887"
             ],
             [
              0.1111111111111111,
              "#46039f"
             ],
             [
              0.2222222222222222,
              "#7201a8"
             ],
             [
              0.3333333333333333,
              "#9c179e"
             ],
             [
              0.4444444444444444,
              "#bd3786"
             ],
             [
              0.5555555555555556,
              "#d8576b"
             ],
             [
              0.6666666666666666,
              "#ed7953"
             ],
             [
              0.7777777777777778,
              "#fb9f3a"
             ],
             [
              0.8888888888888888,
              "#fdca26"
             ],
             [
              1,
              "#f0f921"
             ]
            ],
            "type": "histogram2dcontour"
           }
          ],
          "mesh3d": [
           {
            "colorbar": {
             "outlinewidth": 0,
             "ticks": ""
            },
            "type": "mesh3d"
           }
          ],
          "parcoords": [
           {
            "line": {
             "colorbar": {
              "outlinewidth": 0,
              "ticks": ""
             }
            },
            "type": "parcoords"
           }
          ],
          "pie": [
           {
            "automargin": true,
            "type": "pie"
           }
          ],
          "scatter": [
           {
            "marker": {
             "colorbar": {
              "outlinewidth": 0,
              "ticks": ""
             }
            },
            "type": "scatter"
           }
          ],
          "scatter3d": [
           {
            "line": {
             "colorbar": {
              "outlinewidth": 0,
              "ticks": ""
             }
            },
            "marker": {
             "colorbar": {
              "outlinewidth": 0,
              "ticks": ""
             }
            },
            "type": "scatter3d"
           }
          ],
          "scattercarpet": [
           {
            "marker": {
             "colorbar": {
              "outlinewidth": 0,
              "ticks": ""
             }
            },
            "type": "scattercarpet"
           }
          ],
          "scattergeo": [
           {
            "marker": {
             "colorbar": {
              "outlinewidth": 0,
              "ticks": ""
             }
            },
            "type": "scattergeo"
           }
          ],
          "scattergl": [
           {
            "marker": {
             "colorbar": {
              "outlinewidth": 0,
              "ticks": ""
             }
            },
            "type": "scattergl"
           }
          ],
          "scattermapbox": [
           {
            "marker": {
             "colorbar": {
              "outlinewidth": 0,
              "ticks": ""
             }
            },
            "type": "scattermapbox"
           }
          ],
          "scatterpolar": [
           {
            "marker": {
             "colorbar": {
              "outlinewidth": 0,
              "ticks": ""
             }
            },
            "type": "scatterpolar"
           }
          ],
          "scatterpolargl": [
           {
            "marker": {
             "colorbar": {
              "outlinewidth": 0,
              "ticks": ""
             }
            },
            "type": "scatterpolargl"
           }
          ],
          "scatterternary": [
           {
            "marker": {
             "colorbar": {
              "outlinewidth": 0,
              "ticks": ""
             }
            },
            "type": "scatterternary"
           }
          ],
          "surface": [
           {
            "colorbar": {
             "outlinewidth": 0,
             "ticks": ""
            },
            "colorscale": [
             [
              0,
              "#0d0887"
             ],
             [
              0.1111111111111111,
              "#46039f"
             ],
             [
              0.2222222222222222,
              "#7201a8"
             ],
             [
              0.3333333333333333,
              "#9c179e"
             ],
             [
              0.4444444444444444,
              "#bd3786"
             ],
             [
              0.5555555555555556,
              "#d8576b"
             ],
             [
              0.6666666666666666,
              "#ed7953"
             ],
             [
              0.7777777777777778,
              "#fb9f3a"
             ],
             [
              0.8888888888888888,
              "#fdca26"
             ],
             [
              1,
              "#f0f921"
             ]
            ],
            "type": "surface"
           }
          ],
          "table": [
           {
            "cells": {
             "fill": {
              "color": "#EBF0F8"
             },
             "line": {
              "color": "white"
             }
            },
            "header": {
             "fill": {
              "color": "#C8D4E3"
             },
             "line": {
              "color": "white"
             }
            },
            "type": "table"
           }
          ]
         },
         "layout": {
          "annotationdefaults": {
           "arrowcolor": "#2a3f5f",
           "arrowhead": 0,
           "arrowwidth": 1
          },
          "autotypenumbers": "strict",
          "coloraxis": {
           "colorbar": {
            "outlinewidth": 0,
            "ticks": ""
           }
          },
          "colorscale": {
           "diverging": [
            [
             0,
             "#8e0152"
            ],
            [
             0.1,
             "#c51b7d"
            ],
            [
             0.2,
             "#de77ae"
            ],
            [
             0.3,
             "#f1b6da"
            ],
            [
             0.4,
             "#fde0ef"
            ],
            [
             0.5,
             "#f7f7f7"
            ],
            [
             0.6,
             "#e6f5d0"
            ],
            [
             0.7,
             "#b8e186"
            ],
            [
             0.8,
             "#7fbc41"
            ],
            [
             0.9,
             "#4d9221"
            ],
            [
             1,
             "#276419"
            ]
           ],
           "sequential": [
            [
             0,
             "#0d0887"
            ],
            [
             0.1111111111111111,
             "#46039f"
            ],
            [
             0.2222222222222222,
             "#7201a8"
            ],
            [
             0.3333333333333333,
             "#9c179e"
            ],
            [
             0.4444444444444444,
             "#bd3786"
            ],
            [
             0.5555555555555556,
             "#d8576b"
            ],
            [
             0.6666666666666666,
             "#ed7953"
            ],
            [
             0.7777777777777778,
             "#fb9f3a"
            ],
            [
             0.8888888888888888,
             "#fdca26"
            ],
            [
             1,
             "#f0f921"
            ]
           ],
           "sequentialminus": [
            [
             0,
             "#0d0887"
            ],
            [
             0.1111111111111111,
             "#46039f"
            ],
            [
             0.2222222222222222,
             "#7201a8"
            ],
            [
             0.3333333333333333,
             "#9c179e"
            ],
            [
             0.4444444444444444,
             "#bd3786"
            ],
            [
             0.5555555555555556,
             "#d8576b"
            ],
            [
             0.6666666666666666,
             "#ed7953"
            ],
            [
             0.7777777777777778,
             "#fb9f3a"
            ],
            [
             0.8888888888888888,
             "#fdca26"
            ],
            [
             1,
             "#f0f921"
            ]
           ]
          },
          "colorway": [
           "#636efa",
           "#EF553B",
           "#00cc96",
           "#ab63fa",
           "#FFA15A",
           "#19d3f3",
           "#FF6692",
           "#B6E880",
           "#FF97FF",
           "#FECB52"
          ],
          "font": {
           "color": "#2a3f5f"
          },
          "geo": {
           "bgcolor": "white",
           "lakecolor": "white",
           "landcolor": "#E5ECF6",
           "showlakes": true,
           "showland": true,
           "subunitcolor": "white"
          },
          "hoverlabel": {
           "align": "left"
          },
          "hovermode": "closest",
          "mapbox": {
           "style": "light"
          },
          "paper_bgcolor": "white",
          "plot_bgcolor": "#E5ECF6",
          "polar": {
           "angularaxis": {
            "gridcolor": "white",
            "linecolor": "white",
            "ticks": ""
           },
           "bgcolor": "#E5ECF6",
           "radialaxis": {
            "gridcolor": "white",
            "linecolor": "white",
            "ticks": ""
           }
          },
          "scene": {
           "xaxis": {
            "backgroundcolor": "#E5ECF6",
            "gridcolor": "white",
            "gridwidth": 2,
            "linecolor": "white",
            "showbackground": true,
            "ticks": "",
            "zerolinecolor": "white"
           },
           "yaxis": {
            "backgroundcolor": "#E5ECF6",
            "gridcolor": "white",
            "gridwidth": 2,
            "linecolor": "white",
            "showbackground": true,
            "ticks": "",
            "zerolinecolor": "white"
           },
           "zaxis": {
            "backgroundcolor": "#E5ECF6",
            "gridcolor": "white",
            "gridwidth": 2,
            "linecolor": "white",
            "showbackground": true,
            "ticks": "",
            "zerolinecolor": "white"
           }
          },
          "shapedefaults": {
           "line": {
            "color": "#2a3f5f"
           }
          },
          "ternary": {
           "aaxis": {
            "gridcolor": "white",
            "linecolor": "white",
            "ticks": ""
           },
           "baxis": {
            "gridcolor": "white",
            "linecolor": "white",
            "ticks": ""
           },
           "bgcolor": "#E5ECF6",
           "caxis": {
            "gridcolor": "white",
            "linecolor": "white",
            "ticks": ""
           }
          },
          "title": {
           "x": 0.05
          },
          "xaxis": {
           "automargin": true,
           "gridcolor": "white",
           "linecolor": "white",
           "ticks": "",
           "title": {
            "standoff": 15
           },
           "zerolinecolor": "white",
           "zerolinewidth": 2
          },
          "yaxis": {
           "automargin": true,
           "gridcolor": "white",
           "linecolor": "white",
           "ticks": "",
           "title": {
            "standoff": 15
           },
           "zerolinecolor": "white",
           "zerolinewidth": 2
          }
         }
        },
        "title": {
         "text": "Certification by Day 2020"
        },
        "xaxis": {
         "anchor": "y",
         "domain": [
          0,
          1
         ],
         "title": {
          "text": "certificationDate"
         }
        },
        "yaxis": {
         "anchor": "x",
         "domain": [
          0,
          1
         ],
         "title": {
          "text": "certification_number"
         }
        }
       }
      },
      "text/html": [
       "<div>                            <div id=\"83441875-2cf0-4ee7-a4f5-4ad194517846\" class=\"plotly-graph-div\" style=\"height:525px; width:100%;\"></div>            <script type=\"text/javascript\">                require([\"plotly\"], function(Plotly) {                    window.PLOTLYENV=window.PLOTLYENV || {};                                    if (document.getElementById(\"83441875-2cf0-4ee7-a4f5-4ad194517846\")) {                    Plotly.newPlot(                        \"83441875-2cf0-4ee7-a4f5-4ad194517846\",                        [{\"hovertemplate\": \"certificationDate=%{x}<br>certification_number=%{y}<extra></extra>\", \"legendgroup\": \"\", \"line\": {\"color\": \"#636efa\"}, \"mode\": \"lines\", \"name\": \"\", \"orientation\": \"v\", \"showlegend\": false, \"stackgroup\": \"1\", \"type\": \"scatter\", \"x\": [\"2020-01-03T00:00:00-05:00\", \"2020-01-03T00:00:00-05:00\", \"2020-01-03T00:00:00-05:00\", \"2020-01-03T00:00:00-05:00\", \"2020-01-03T00:00:00-05:00\", \"2020-01-03T00:00:00-05:00\", \"2020-01-03T00:00:00-05:00\", \"2020-01-03T00:00:00-05:00\", \"2020-01-03T00:00:00-05:00\", \"2020-01-03T00:00:00-05:00\", \"2020-01-03T00:00:00-05:00\", \"2020-01-03T00:00:00-05:00\", \"2020-01-03T00:00:00-05:00\", \"2020-01-04T00:00:00-05:00\", \"2020-01-12T00:00:00-05:00\", \"2020-01-13T00:00:00-05:00\", \"2020-01-26T00:00:00-05:00\", \"2020-01-26T00:00:00-05:00\", \"2020-01-26T00:00:00-05:00\", \"2020-01-26T00:00:00-05:00\", \"2020-01-27T00:00:00-05:00\", \"2020-01-27T00:00:00-05:00\", \"2020-01-27T00:00:00-05:00\", \"2020-01-30T00:00:00-05:00\", \"2020-02-12T00:00:00-05:00\", \"2020-02-16T00:00:00-05:00\", \"2020-02-16T00:00:00-05:00\", \"2020-02-16T00:00:00-05:00\", \"2020-02-16T00:00:00-05:00\", \"2020-02-16T00:00:00-05:00\", \"2020-02-16T00:00:00-05:00\", \"2020-02-16T00:00:00-05:00\", \"2020-02-16T00:00:00-05:00\", \"2020-02-16T00:00:00-05:00\", \"2020-02-16T00:00:00-05:00\", \"2020-02-16T00:00:00-05:00\", \"2020-02-16T00:00:00-05:00\", \"2020-02-16T00:00:00-05:00\", \"2020-02-25T00:00:00-05:00\", \"2020-02-25T00:00:00-05:00\", \"2020-02-25T00:00:00-05:00\", \"2020-02-25T00:00:00-05:00\", \"2020-02-25T00:00:00-05:00\", \"2020-02-25T00:00:00-05:00\", \"2020-02-26T00:00:00-05:00\", \"2020-03-04T00:00:00-05:00\", \"2020-03-06T00:00:00-05:00\", \"2020-03-11T00:00:00-04:00\", \"2020-03-11T00:00:00-04:00\", \"2020-03-17T00:00:00-04:00\", \"2020-03-17T00:00:00-04:00\", \"2020-03-18T00:00:00-04:00\", \"2020-04-02T00:00:00-04:00\", \"2020-04-03T00:00:00-04:00\", \"2020-04-03T00:00:00-04:00\", \"2020-04-03T00:00:00-04:00\", \"2020-04-03T00:00:00-04:00\", \"2020-04-03T00:00:00-04:00\", \"2020-04-03T00:00:00-04:00\", \"2020-04-03T00:00:00-04:00\", \"2020-04-03T00:00:00-04:00\", \"2020-04-03T00:00:00-04:00\", \"2020-04-05T00:00:00-04:00\", \"2020-04-05T00:00:00-04:00\", \"2020-04-05T00:00:00-04:00\", \"2020-04-05T00:00:00-04:00\", \"2020-04-05T00:00:00-04:00\", \"2020-04-06T00:00:00-04:00\", \"2020-04-06T00:00:00-04:00\", \"2020-04-06T00:00:00-04:00\", \"2020-04-06T00:00:00-04:00\", \"2020-04-06T00:00:00-04:00\", \"2020-04-07T00:00:00-04:00\", \"2020-04-07T00:00:00-04:00\", \"2020-04-07T00:00:00-04:00\", \"2020-04-07T00:00:00-04:00\", \"2020-04-07T00:00:00-04:00\", \"2020-04-07T00:00:00-04:00\", \"2020-04-08T00:00:00-04:00\", \"2020-04-09T00:00:00-04:00\", \"2020-04-09T00:00:00-04:00\", \"2020-04-09T00:00:00-04:00\", \"2020-04-09T00:00:00-04:00\", \"2020-04-09T00:00:00-04:00\", \"2020-04-09T00:00:00-04:00\", \"2020-04-10T00:00:00-04:00\", \"2020-04-10T00:00:00-04:00\", \"2020-04-10T00:00:00-04:00\", \"2020-04-10T00:00:00-04:00\", \"2020-04-10T00:00:00-04:00\", \"2020-04-10T00:00:00-04:00\", \"2020-04-10T00:00:00-04:00\", \"2020-04-10T00:00:00-04:00\", \"2020-04-13T00:00:00-04:00\", \"2020-04-13T00:00:00-04:00\", \"2020-04-13T00:00:00-04:00\", \"2020-04-13T00:00:00-04:00\", \"2020-04-13T00:00:00-04:00\", \"2020-04-15T00:00:00-04:00\", \"2020-04-15T00:00:00-04:00\", \"2020-04-15T00:00:00-04:00\", \"2020-04-15T00:00:00-04:00\", \"2020-04-16T00:00:00-04:00\", \"2020-04-16T00:00:00-04:00\", \"2020-04-16T00:00:00-04:00\", \"2020-04-17T00:00:00-04:00\", \"2020-04-20T00:00:00-04:00\", \"2020-04-20T00:00:00-04:00\", \"2020-04-20T00:00:00-04:00\", \"2020-04-20T00:00:00-04:00\", \"2020-04-20T00:00:00-04:00\", \"2020-04-20T00:00:00-04:00\", \"2020-04-20T00:00:00-04:00\", \"2020-04-20T00:00:00-04:00\", \"2020-04-20T00:00:00-04:00\", \"2020-04-21T00:00:00-04:00\", \"2020-04-21T00:00:00-04:00\", \"2020-04-21T00:00:00-04:00\", \"2020-04-21T00:00:00-04:00\", \"2020-04-21T00:00:00-04:00\", \"2020-04-21T00:00:00-04:00\", \"2020-04-21T00:00:00-04:00\", \"2020-04-21T00:00:00-04:00\", \"2020-04-21T00:00:00-04:00\", \"2020-04-21T00:00:00-04:00\", \"2020-04-21T00:00:00-04:00\", \"2020-04-21T00:00:00-04:00\", \"2020-04-21T00:00:00-04:00\", \"2020-04-21T00:00:00-04:00\", \"2020-04-21T00:00:00-04:00\", \"2020-04-22T00:00:00-04:00\", \"2020-04-22T00:00:00-04:00\", \"2020-04-22T00:00:00-04:00\", \"2020-04-22T00:00:00-04:00\", \"2020-04-22T00:00:00-04:00\", \"2020-04-22T00:00:00-04:00\", \"2020-04-22T00:00:00-04:00\", \"2020-04-22T00:00:00-04:00\", \"2020-04-22T00:00:00-04:00\", \"2020-04-22T00:00:00-04:00\", \"2020-04-24T00:00:00-04:00\", \"2020-04-24T00:00:00-04:00\", \"2020-04-24T00:00:00-04:00\", \"2020-04-24T00:00:00-04:00\", \"2020-04-24T00:00:00-04:00\", \"2020-04-24T00:00:00-04:00\", \"2020-04-24T00:00:00-04:00\", \"2020-04-24T00:00:00-04:00\", \"2020-04-24T00:00:00-04:00\", \"2020-04-24T00:00:00-04:00\", \"2020-04-24T00:00:00-04:00\", \"2020-04-24T00:00:00-04:00\", \"2020-04-24T00:00:00-04:00\", \"2020-04-24T00:00:00-04:00\", \"2020-04-24T00:00:00-04:00\", \"2020-04-24T00:00:00-04:00\", \"2020-04-24T00:00:00-04:00\", \"2020-04-24T00:00:00-04:00\", \"2020-04-24T00:00:00-04:00\", \"2020-04-27T00:00:00-04:00\", \"2020-04-27T00:00:00-04:00\", \"2020-04-28T00:00:00-04:00\", \"2020-04-28T00:00:00-04:00\", \"2020-04-28T00:00:00-04:00\", \"2020-04-28T00:00:00-04:00\", \"2020-04-28T00:00:00-04:00\", \"2020-04-28T00:00:00-04:00\", \"2020-04-28T00:00:00-04:00\", \"2020-04-28T00:00:00-04:00\", \"2020-04-28T00:00:00-04:00\", \"2020-04-28T00:00:00-04:00\", \"2020-04-28T00:00:00-04:00\", \"2020-04-28T00:00:00-04:00\", \"2020-04-28T00:00:00-04:00\", \"2020-04-28T00:00:00-04:00\", \"2020-04-28T00:00:00-04:00\", \"2020-04-28T00:00:00-04:00\", \"2020-04-28T00:00:00-04:00\", \"2020-04-28T00:00:00-04:00\", \"2020-04-28T00:00:00-04:00\", \"2020-04-28T00:00:00-04:00\", \"2020-04-28T00:00:00-04:00\", \"2020-04-28T00:00:00-04:00\", \"2020-04-28T00:00:00-04:00\", \"2020-04-29T00:00:00-04:00\", \"2020-04-29T00:00:00-04:00\", \"2020-04-29T00:00:00-04:00\", \"2020-04-29T00:00:00-04:00\", \"2020-04-29T00:00:00-04:00\", \"2020-04-29T00:00:00-04:00\", \"2020-04-29T00:00:00-04:00\", \"2020-04-29T00:00:00-04:00\", \"2020-04-29T00:00:00-04:00\", \"2020-04-29T00:00:00-04:00\", \"2020-04-29T00:00:00-04:00\", \"2020-04-29T00:00:00-04:00\", \"2020-04-29T00:00:00-04:00\", \"2020-04-29T00:00:00-04:00\", \"2020-04-29T00:00:00-04:00\", \"2020-04-29T00:00:00-04:00\", \"2020-04-29T00:00:00-04:00\", \"2020-04-29T00:00:00-04:00\", \"2020-04-29T00:00:00-04:00\", \"2020-04-29T00:00:00-04:00\", \"2020-04-29T00:00:00-04:00\", \"2020-04-29T00:00:00-04:00\", \"2020-04-29T00:00:00-04:00\", \"2020-04-29T00:00:00-04:00\", \"2020-04-29T00:00:00-04:00\", \"2020-04-30T00:00:00-04:00\", \"2020-04-30T00:00:00-04:00\", \"2020-04-30T00:00:00-04:00\", \"2020-04-30T00:00:00-04:00\", \"2020-04-30T00:00:00-04:00\", \"2020-04-30T00:00:00-04:00\", \"2020-04-30T00:00:00-04:00\", \"2020-04-30T00:00:00-04:00\", \"2020-04-30T00:00:00-04:00\", \"2020-04-30T00:00:00-04:00\", \"2020-04-30T00:00:00-04:00\", \"2020-04-30T00:00:00-04:00\", \"2020-04-30T00:00:00-04:00\", \"2020-04-30T00:00:00-04:00\", \"2020-04-30T00:00:00-04:00\", \"2020-04-30T00:00:00-04:00\", \"2020-04-30T00:00:00-04:00\", \"2020-04-30T00:00:00-04:00\", \"2020-04-30T00:00:00-04:00\", \"2020-04-30T00:00:00-04:00\", \"2020-04-30T00:00:00-04:00\", \"2020-04-30T00:00:00-04:00\", \"2020-04-30T00:00:00-04:00\", \"2020-04-30T00:00:00-04:00\", \"2020-04-30T00:00:00-04:00\", \"2020-04-30T00:00:00-04:00\", \"2020-04-30T00:00:00-04:00\", \"2020-04-30T00:00:00-04:00\", \"2020-04-30T00:00:00-04:00\", \"2020-04-30T00:00:00-04:00\", \"2020-04-30T00:00:00-04:00\", \"2020-04-30T00:00:00-04:00\", \"2020-04-30T00:00:00-04:00\", \"2020-04-30T00:00:00-04:00\", \"2020-04-30T00:00:00-04:00\", \"2020-04-30T00:00:00-04:00\", \"2020-04-30T00:00:00-04:00\", \"2020-04-30T00:00:00-04:00\", \"2020-04-30T00:00:00-04:00\", \"2020-04-30T00:00:00-04:00\", \"2020-04-30T00:00:00-04:00\", \"2020-04-30T00:00:00-04:00\", \"2020-04-30T00:00:00-04:00\", \"2020-04-30T00:00:00-04:00\", \"2020-04-30T00:00:00-04:00\", \"2020-04-30T00:00:00-04:00\", \"2020-04-30T00:00:00-04:00\", \"2020-04-30T00:00:00-04:00\", \"2020-04-30T00:00:00-04:00\", \"2020-04-30T00:00:00-04:00\", \"2020-04-30T00:00:00-04:00\", \"2020-04-30T00:00:00-04:00\", \"2020-04-30T00:00:00-04:00\", \"2020-04-30T00:00:00-04:00\", \"2020-04-30T00:00:00-04:00\", \"2020-04-30T00:00:00-04:00\", \"2020-04-30T00:00:00-04:00\", \"2020-04-30T00:00:00-04:00\", \"2020-04-30T00:00:00-04:00\", \"2020-04-30T00:00:00-04:00\", \"2020-04-30T00:00:00-04:00\", \"2020-04-30T00:00:00-04:00\", \"2020-04-30T00:00:00-04:00\", \"2020-04-30T00:00:00-04:00\", \"2020-04-30T00:00:00-04:00\", \"2020-04-30T00:00:00-04:00\", \"2020-04-30T00:00:00-04:00\", \"2020-04-30T00:00:00-04:00\", \"2020-04-30T00:00:00-04:00\", \"2020-04-30T00:00:00-04:00\", \"2020-04-30T00:00:00-04:00\", \"2020-04-30T00:00:00-04:00\", \"2020-04-30T00:00:00-04:00\", \"2020-04-30T00:00:00-04:00\", \"2020-04-30T00:00:00-04:00\", \"2020-04-30T00:00:00-04:00\", \"2020-04-30T00:00:00-04:00\", \"2020-04-30T00:00:00-04:00\", \"2020-04-30T00:00:00-04:00\", \"2020-04-30T00:00:00-04:00\", \"2020-04-30T00:00:00-04:00\", \"2020-04-30T00:00:00-04:00\", \"2020-04-30T00:00:00-04:00\", \"2020-04-30T00:00:00-04:00\", \"2020-04-30T00:00:00-04:00\", \"2020-04-30T00:00:00-04:00\", \"2020-04-30T00:00:00-04:00\", \"2020-04-30T00:00:00-04:00\", \"2020-04-30T00:00:00-04:00\", \"2020-04-30T00:00:00-04:00\", \"2020-04-30T00:00:00-04:00\", \"2020-04-30T00:00:00-04:00\", \"2020-04-30T00:00:00-04:00\", \"2020-04-30T00:00:00-04:00\", \"2020-04-30T00:00:00-04:00\", \"2020-04-30T00:00:00-04:00\", \"2020-04-30T00:00:00-04:00\", \"2020-04-30T00:00:00-04:00\", \"2020-04-30T00:00:00-04:00\", \"2020-04-30T00:00:00-04:00\", \"2020-04-30T00:00:00-04:00\", \"2020-04-30T00:00:00-04:00\", \"2020-04-30T00:00:00-04:00\", \"2020-04-30T00:00:00-04:00\", \"2020-04-30T00:00:00-04:00\", \"2020-05-03T00:00:00-04:00\", \"2020-05-03T00:00:00-04:00\", \"2020-05-03T00:00:00-04:00\", \"2020-05-03T00:00:00-04:00\", \"2020-05-03T00:00:00-04:00\", \"2020-05-03T00:00:00-04:00\", \"2020-05-03T00:00:00-04:00\", \"2020-05-03T00:00:00-04:00\", \"2020-05-04T00:00:00-04:00\", \"2020-05-04T00:00:00-04:00\", \"2020-05-04T00:00:00-04:00\", \"2020-05-04T00:00:00-04:00\", \"2020-05-04T00:00:00-04:00\", \"2020-05-04T00:00:00-04:00\", \"2020-05-04T00:00:00-04:00\", \"2020-05-04T00:00:00-04:00\", \"2020-05-04T00:00:00-04:00\", \"2020-05-04T00:00:00-04:00\", \"2020-05-04T00:00:00-04:00\", \"2020-05-04T00:00:00-04:00\", \"2020-05-04T00:00:00-04:00\", \"2020-05-04T00:00:00-04:00\", \"2020-05-04T00:00:00-04:00\", \"2020-05-04T00:00:00-04:00\", \"2020-05-04T00:00:00-04:00\", \"2020-05-05T00:00:00-04:00\", \"2020-05-05T00:00:00-04:00\", \"2020-05-05T00:00:00-04:00\", \"2020-05-05T00:00:00-04:00\", \"2020-05-05T00:00:00-04:00\", \"2020-05-05T00:00:00-04:00\", \"2020-05-05T00:00:00-04:00\", \"2020-05-05T00:00:00-04:00\", \"2020-05-05T00:00:00-04:00\", \"2020-05-05T00:00:00-04:00\", \"2020-05-05T00:00:00-04:00\", \"2020-05-05T00:00:00-04:00\", \"2020-05-05T00:00:00-04:00\", \"2020-05-05T00:00:00-04:00\", \"2020-05-05T00:00:00-04:00\", \"2020-05-05T00:00:00-04:00\", \"2020-05-05T00:00:00-04:00\", \"2020-05-05T00:00:00-04:00\", \"2020-05-05T00:00:00-04:00\", \"2020-05-05T00:00:00-04:00\", \"2020-05-05T00:00:00-04:00\", \"2020-05-05T00:00:00-04:00\", \"2020-05-05T00:00:00-04:00\", \"2020-05-05T00:00:00-04:00\", \"2020-05-07T00:00:00-04:00\", \"2020-05-07T00:00:00-04:00\", \"2020-05-07T00:00:00-04:00\", \"2020-05-07T00:00:00-04:00\", \"2020-05-07T00:00:00-04:00\", \"2020-05-07T00:00:00-04:00\", \"2020-05-07T00:00:00-04:00\", \"2020-05-07T00:00:00-04:00\", \"2020-05-07T00:00:00-04:00\", \"2020-05-07T00:00:00-04:00\", \"2020-05-07T00:00:00-04:00\", \"2020-05-07T00:00:00-04:00\", \"2020-05-08T00:00:00-04:00\", \"2020-05-08T00:00:00-04:00\", \"2020-05-08T00:00:00-04:00\", \"2020-05-08T00:00:00-04:00\", \"2020-05-08T00:00:00-04:00\", \"2020-05-08T00:00:00-04:00\", \"2020-05-08T00:00:00-04:00\", \"2020-05-08T00:00:00-04:00\", \"2020-05-08T00:00:00-04:00\", \"2020-05-08T00:00:00-04:00\", \"2020-05-08T00:00:00-04:00\", \"2020-05-08T00:00:00-04:00\", \"2020-05-08T00:00:00-04:00\", \"2020-05-08T00:00:00-04:00\", \"2020-05-08T00:00:00-04:00\", \"2020-05-08T00:00:00-04:00\", \"2020-05-08T00:00:00-04:00\", \"2020-05-08T00:00:00-04:00\", \"2020-05-08T00:00:00-04:00\", \"2020-05-08T00:00:00-04:00\", \"2020-05-09T00:00:00-04:00\", \"2020-05-09T00:00:00-04:00\", \"2020-05-09T00:00:00-04:00\", \"2020-05-09T00:00:00-04:00\", \"2020-05-09T00:00:00-04:00\", \"2020-05-09T00:00:00-04:00\", \"2020-05-09T00:00:00-04:00\", \"2020-05-09T00:00:00-04:00\", \"2020-05-09T00:00:00-04:00\", \"2020-05-09T00:00:00-04:00\", \"2020-05-09T00:00:00-04:00\", \"2020-05-09T00:00:00-04:00\", \"2020-05-09T00:00:00-04:00\", \"2020-05-09T00:00:00-04:00\", \"2020-05-09T00:00:00-04:00\", \"2020-05-09T00:00:00-04:00\", \"2020-05-09T00:00:00-04:00\", \"2020-05-09T00:00:00-04:00\", \"2020-05-09T00:00:00-04:00\", \"2020-05-09T00:00:00-04:00\", \"2020-05-09T00:00:00-04:00\", \"2020-05-09T00:00:00-04:00\", \"2020-05-09T00:00:00-04:00\", \"2020-05-09T00:00:00-04:00\", \"2020-05-09T00:00:00-04:00\", \"2020-05-09T00:00:00-04:00\", \"2020-05-09T00:00:00-04:00\", \"2020-05-09T00:00:00-04:00\", \"2020-05-09T00:00:00-04:00\", \"2020-05-09T00:00:00-04:00\", \"2020-05-09T00:00:00-04:00\", \"2020-05-09T00:00:00-04:00\", \"2020-05-09T00:00:00-04:00\", \"2020-05-09T00:00:00-04:00\", \"2020-05-09T00:00:00-04:00\", \"2020-05-09T00:00:00-04:00\", \"2020-05-09T00:00:00-04:00\", \"2020-05-09T00:00:00-04:00\", \"2020-05-09T00:00:00-04:00\", \"2020-05-09T00:00:00-04:00\", \"2020-05-09T00:00:00-04:00\", \"2020-05-09T00:00:00-04:00\", \"2020-05-09T00:00:00-04:00\", \"2020-05-09T00:00:00-04:00\", \"2020-05-09T00:00:00-04:00\", \"2020-05-09T00:00:00-04:00\", \"2020-05-09T00:00:00-04:00\", \"2020-05-09T00:00:00-04:00\", \"2020-05-09T00:00:00-04:00\", \"2020-05-09T00:00:00-04:00\", \"2020-05-09T00:00:00-04:00\", \"2020-05-09T00:00:00-04:00\", \"2020-05-09T00:00:00-04:00\", \"2020-05-09T00:00:00-04:00\", \"2020-05-09T00:00:00-04:00\", \"2020-05-10T00:00:00-04:00\", \"2020-05-10T00:00:00-04:00\", \"2020-05-10T00:00:00-04:00\", \"2020-05-10T00:00:00-04:00\", \"2020-05-10T00:00:00-04:00\", \"2020-05-10T00:00:00-04:00\", \"2020-05-10T00:00:00-04:00\", \"2020-05-11T00:00:00-04:00\", \"2020-05-11T00:00:00-04:00\", \"2020-05-11T00:00:00-04:00\", \"2020-05-11T00:00:00-04:00\", \"2020-05-11T00:00:00-04:00\", \"2020-05-11T00:00:00-04:00\", \"2020-05-11T00:00:00-04:00\", \"2020-05-11T00:00:00-04:00\", \"2020-05-12T00:00:00-04:00\", \"2020-05-12T00:00:00-04:00\", \"2020-05-12T00:00:00-04:00\", \"2020-05-12T00:00:00-04:00\", \"2020-05-12T00:00:00-04:00\", \"2020-05-16T00:00:00-04:00\", \"2020-05-16T00:00:00-04:00\", \"2020-05-16T00:00:00-04:00\", \"2020-05-16T00:00:00-04:00\", \"2020-05-16T00:00:00-04:00\", \"2020-05-16T00:00:00-04:00\", \"2020-05-16T00:00:00-04:00\", \"2020-05-16T00:00:00-04:00\", \"2020-05-16T00:00:00-04:00\", \"2020-05-16T00:00:00-04:00\", \"2020-05-16T00:00:00-04:00\", \"2020-05-16T00:00:00-04:00\", \"2020-05-16T00:00:00-04:00\", \"2020-05-16T00:00:00-04:00\", \"2020-05-16T00:00:00-04:00\", \"2020-05-16T00:00:00-04:00\", \"2020-05-19T00:00:00-04:00\", \"2020-05-19T00:00:00-04:00\", \"2020-05-19T00:00:00-04:00\", \"2020-05-19T00:00:00-04:00\", \"2020-05-19T00:00:00-04:00\", \"2020-05-19T00:00:00-04:00\", \"2020-05-19T00:00:00-04:00\", \"2020-05-19T00:00:00-04:00\", \"2020-05-19T00:00:00-04:00\", \"2020-05-19T00:00:00-04:00\", \"2020-05-20T00:00:00-04:00\", \"2020-05-20T00:00:00-04:00\", \"2020-05-20T00:00:00-04:00\", \"2020-05-20T00:00:00-04:00\", \"2020-05-20T00:00:00-04:00\", \"2020-05-20T00:00:00-04:00\", \"2020-05-20T00:00:00-04:00\", \"2020-05-20T00:00:00-04:00\", \"2020-05-20T00:00:00-04:00\", \"2020-05-20T00:00:00-04:00\", \"2020-05-20T00:00:00-04:00\", \"2020-05-20T00:00:00-04:00\", \"2020-05-20T00:00:00-04:00\", \"2020-05-23T00:00:00-04:00\", \"2020-05-23T00:00:00-04:00\", \"2020-05-23T00:00:00-04:00\", \"2020-05-23T00:00:00-04:00\", \"2020-05-23T00:00:00-04:00\", \"2020-05-23T00:00:00-04:00\", \"2020-05-23T00:00:00-04:00\", \"2020-05-23T00:00:00-04:00\", \"2020-05-23T00:00:00-04:00\", \"2020-05-23T00:00:00-04:00\", \"2020-05-23T00:00:00-04:00\", \"2020-05-23T00:00:00-04:00\", \"2020-05-23T00:00:00-04:00\", \"2020-05-23T00:00:00-04:00\", \"2020-05-23T00:00:00-04:00\", \"2020-05-23T00:00:00-04:00\", \"2020-05-26T00:00:00-04:00\", \"2020-05-28T00:00:00-04:00\", \"2020-05-28T00:00:00-04:00\", \"2020-05-28T00:00:00-04:00\", \"2020-05-28T00:00:00-04:00\", \"2020-05-28T00:00:00-04:00\", \"2020-05-28T00:00:00-04:00\", \"2020-05-28T00:00:00-04:00\", \"2020-05-28T00:00:00-04:00\", \"2020-05-28T00:00:00-04:00\", \"2020-05-28T00:00:00-04:00\", \"2020-05-28T00:00:00-04:00\", \"2020-05-28T00:00:00-04:00\", \"2020-05-28T00:00:00-04:00\", \"2020-05-28T00:00:00-04:00\", \"2020-05-28T00:00:00-04:00\", \"2020-05-28T00:00:00-04:00\", \"2020-05-28T00:00:00-04:00\", \"2020-05-28T00:00:00-04:00\", \"2020-05-28T00:00:00-04:00\", \"2020-05-28T00:00:00-04:00\", \"2020-05-28T00:00:00-04:00\", \"2020-06-01T00:00:00-04:00\", \"2020-06-05T00:00:00-04:00\", \"2020-06-05T00:00:00-04:00\", \"2020-06-05T00:00:00-04:00\", \"2020-06-05T00:00:00-04:00\", \"2020-06-05T00:00:00-04:00\", \"2020-06-05T00:00:00-04:00\", \"2020-06-09T00:00:00-04:00\", \"2020-06-09T00:00:00-04:00\", \"2020-06-09T00:00:00-04:00\", \"2020-06-09T00:00:00-04:00\", \"2020-06-19T00:00:00-04:00\", \"2020-06-19T00:00:00-04:00\", \"2020-06-19T00:00:00-04:00\", \"2020-06-23T00:00:00-04:00\", \"2020-06-29T00:00:00-04:00\", \"2020-07-01T00:00:00-04:00\", \"2020-07-01T00:00:00-04:00\", \"2020-07-01T00:00:00-04:00\", \"2020-07-07T00:00:00-04:00\", \"2020-07-13T00:00:00-04:00\", \"2020-07-13T00:00:00-04:00\", \"2020-07-13T00:00:00-04:00\", \"2020-07-16T00:00:00-04:00\", \"2020-07-16T00:00:00-04:00\", \"2020-07-16T00:00:00-04:00\", \"2020-07-16T00:00:00-04:00\", \"2020-07-16T00:00:00-04:00\", \"2020-07-20T00:00:00-04:00\", \"2020-07-28T00:00:00-04:00\", \"2020-07-28T00:00:00-04:00\", \"2020-07-28T00:00:00-04:00\", \"2020-08-06T00:00:00-04:00\", \"2020-08-06T00:00:00-04:00\", \"2020-08-07T00:00:00-04:00\", \"2020-08-14T00:00:00-04:00\", \"2020-08-14T00:00:00-04:00\", \"2020-08-14T00:00:00-04:00\", \"2020-08-14T00:00:00-04:00\", \"2020-08-20T00:00:00-04:00\", \"2020-08-20T00:00:00-04:00\", \"2020-08-20T00:00:00-04:00\", \"2020-08-27T00:00:00-04:00\", \"2020-08-27T00:00:00-04:00\", \"2020-08-27T00:00:00-04:00\", \"2020-08-27T00:00:00-04:00\", \"2020-09-01T00:00:00-04:00\", \"2020-09-12T00:00:00-04:00\", \"2020-09-12T00:00:00-04:00\", \"2020-09-12T00:00:00-04:00\", \"2020-09-12T00:00:00-04:00\", \"2020-09-12T00:00:00-04:00\", \"2020-09-12T00:00:00-04:00\", \"2020-09-12T00:00:00-04:00\", \"2020-09-12T00:00:00-04:00\", \"2020-09-12T00:00:00-04:00\", \"2020-09-12T00:00:00-04:00\", \"2020-09-12T00:00:00-04:00\", \"2020-09-12T00:00:00-04:00\", \"2020-09-12T00:00:00-04:00\", \"2020-09-12T00:00:00-04:00\", \"2020-09-12T00:00:00-04:00\", \"2020-09-12T00:00:00-04:00\", \"2020-09-12T00:00:00-04:00\", \"2020-09-12T00:00:00-04:00\", \"2020-09-12T00:00:00-04:00\", \"2020-09-12T00:00:00-04:00\", \"2020-09-12T00:00:00-04:00\", \"2020-09-12T00:00:00-04:00\", \"2020-09-12T00:00:00-04:00\", \"2020-09-12T00:00:00-04:00\", \"2020-09-12T00:00:00-04:00\", \"2020-09-12T00:00:00-04:00\", \"2020-09-12T00:00:00-04:00\", \"2020-09-19T00:00:00-04:00\", \"2020-09-19T00:00:00-04:00\", \"2020-09-19T00:00:00-04:00\", \"2020-09-19T00:00:00-04:00\", \"2020-09-19T00:00:00-04:00\", \"2020-09-19T00:00:00-04:00\", \"2020-09-19T00:00:00-04:00\", \"2020-09-19T00:00:00-04:00\", \"2020-09-19T00:00:00-04:00\", \"2020-09-19T00:00:00-04:00\", \"2020-09-19T00:00:00-04:00\", \"2020-09-19T00:00:00-04:00\", \"2020-09-25T00:00:00-04:00\", \"2020-09-25T00:00:00-04:00\", \"2020-09-25T00:00:00-04:00\", \"2020-10-02T00:00:00-04:00\", \"2020-10-02T00:00:00-04:00\", \"2020-10-02T00:00:00-04:00\", \"2020-10-02T00:00:00-04:00\", \"2020-10-02T00:00:00-04:00\", \"2020-10-02T00:00:00-04:00\", \"2020-10-02T00:00:00-04:00\", \"2020-10-02T00:00:00-04:00\", \"2020-10-11T00:00:00-04:00\", \"2020-10-11T00:00:00-04:00\", \"2020-10-11T00:00:00-04:00\", \"2020-10-12T00:00:00-04:00\", \"2020-10-12T00:00:00-04:00\", \"2020-10-13T00:00:00-04:00\", \"2020-10-16T00:00:00-04:00\", \"2020-10-16T00:00:00-04:00\", \"2020-10-22T00:00:00-04:00\", \"2020-10-22T00:00:00-04:00\", \"2020-10-22T00:00:00-04:00\", \"2020-10-22T00:00:00-04:00\", \"2020-10-22T00:00:00-04:00\", \"2020-10-23T00:00:00-04:00\", \"2020-10-29T00:00:00-04:00\", \"2020-10-29T00:00:00-04:00\", \"2020-10-29T00:00:00-04:00\", \"2020-10-29T00:00:00-04:00\", \"2020-10-29T00:00:00-04:00\", \"2020-10-30T00:00:00-04:00\", \"2020-10-30T00:00:00-04:00\", \"2020-11-06T00:00:00-05:00\", \"2020-11-06T00:00:00-05:00\", \"2020-11-06T00:00:00-05:00\", \"2020-11-06T00:00:00-05:00\", \"2020-11-06T00:00:00-05:00\", \"2020-11-13T00:00:00-05:00\", \"2020-11-13T00:00:00-05:00\", \"2020-11-13T00:00:00-05:00\", \"2020-11-13T00:00:00-05:00\", \"2020-11-13T00:00:00-05:00\", \"2020-11-13T00:00:00-05:00\", \"2020-11-13T00:00:00-05:00\", \"2020-11-17T00:00:00-05:00\", \"2020-11-17T00:00:00-05:00\", \"2020-11-17T00:00:00-05:00\", \"2020-11-19T00:00:00-05:00\", \"2020-11-19T00:00:00-05:00\", \"2020-11-19T00:00:00-05:00\", \"2020-11-19T00:00:00-05:00\", \"2020-11-19T00:00:00-05:00\", \"2020-11-19T00:00:00-05:00\", \"2020-11-19T00:00:00-05:00\", \"2020-11-19T00:00:00-05:00\", \"2020-11-19T00:00:00-05:00\", \"2020-11-19T00:00:00-05:00\", \"2020-11-19T00:00:00-05:00\", \"2020-11-19T00:00:00-05:00\", \"2020-11-19T00:00:00-05:00\", \"2020-11-19T00:00:00-05:00\", \"2020-11-19T00:00:00-05:00\", \"2020-11-19T00:00:00-05:00\", \"2020-11-19T00:00:00-05:00\", \"2020-11-19T00:00:00-05:00\", \"2020-11-19T00:00:00-05:00\", \"2020-11-19T00:00:00-05:00\", \"2020-11-19T00:00:00-05:00\", \"2020-11-21T00:00:00-05:00\", \"2020-11-21T00:00:00-05:00\", \"2020-11-21T00:00:00-05:00\", \"2020-11-21T00:00:00-05:00\", \"2020-11-21T00:00:00-05:00\", \"2020-11-21T00:00:00-05:00\", \"2020-11-21T00:00:00-05:00\", \"2020-11-21T00:00:00-05:00\", \"2020-11-23T00:00:00-05:00\", \"2020-11-23T00:00:00-05:00\", \"2020-11-23T00:00:00-05:00\", \"2020-11-23T00:00:00-05:00\", \"2020-11-23T00:00:00-05:00\", \"2020-11-23T00:00:00-05:00\", \"2020-11-23T00:00:00-05:00\", \"2020-11-24T00:00:00-05:00\", \"2020-11-24T00:00:00-05:00\", \"2020-11-24T00:00:00-05:00\", \"2020-11-24T00:00:00-05:00\", \"2020-11-24T00:00:00-05:00\", \"2020-11-24T00:00:00-05:00\", \"2020-11-30T00:00:00-05:00\", \"2020-11-30T00:00:00-05:00\", \"2020-11-30T00:00:00-05:00\", \"2020-11-30T00:00:00-05:00\", \"2020-11-30T00:00:00-05:00\", \"2020-11-30T00:00:00-05:00\", \"2020-11-30T00:00:00-05:00\", \"2020-11-30T00:00:00-05:00\", \"2020-11-30T00:00:00-05:00\", \"2020-11-30T00:00:00-05:00\", \"2020-11-30T00:00:00-05:00\", \"2020-11-30T00:00:00-05:00\", \"2020-11-30T00:00:00-05:00\", \"2020-11-30T00:00:00-05:00\", \"2020-11-30T00:00:00-05:00\", \"2020-11-30T00:00:00-05:00\", \"2020-11-30T00:00:00-05:00\", \"2020-12-02T00:00:00-05:00\", \"2020-12-02T00:00:00-05:00\", \"2020-12-02T00:00:00-05:00\", \"2020-12-02T00:00:00-05:00\", \"2020-12-02T00:00:00-05:00\", \"2020-12-02T00:00:00-05:00\", \"2020-12-02T00:00:00-05:00\", \"2020-12-02T00:00:00-05:00\", \"2020-12-02T00:00:00-05:00\", \"2020-12-02T00:00:00-05:00\", \"2020-12-02T00:00:00-05:00\", \"2020-12-02T00:00:00-05:00\", \"2020-12-03T00:00:00-05:00\", \"2020-12-03T00:00:00-05:00\", \"2020-12-03T00:00:00-05:00\", \"2020-12-03T00:00:00-05:00\", \"2020-12-03T00:00:00-05:00\", \"2020-12-03T00:00:00-05:00\", \"2020-12-04T00:00:00-05:00\", \"2020-12-04T00:00:00-05:00\", \"2020-12-04T00:00:00-05:00\", \"2020-12-04T00:00:00-05:00\", \"2020-12-04T00:00:00-05:00\", \"2020-12-04T00:00:00-05:00\", \"2020-12-04T00:00:00-05:00\", \"2020-12-04T00:00:00-05:00\", \"2020-12-04T00:00:00-05:00\", \"2020-12-04T00:00:00-05:00\", \"2020-12-04T00:00:00-05:00\", \"2020-12-04T00:00:00-05:00\", \"2020-12-04T00:00:00-05:00\", \"2020-12-04T00:00:00-05:00\", \"2020-12-04T00:00:00-05:00\", \"2020-12-04T00:00:00-05:00\", \"2020-12-04T00:00:00-05:00\", \"2020-12-05T00:00:00-05:00\", \"2020-12-05T00:00:00-05:00\", \"2020-12-05T00:00:00-05:00\", \"2020-12-05T00:00:00-05:00\", \"2020-12-05T00:00:00-05:00\", \"2020-12-05T00:00:00-05:00\", \"2020-12-07T00:00:00-05:00\", \"2020-12-07T00:00:00-05:00\", \"2020-12-07T00:00:00-05:00\", \"2020-12-07T00:00:00-05:00\", \"2020-12-07T00:00:00-05:00\", \"2020-12-07T00:00:00-05:00\", \"2020-12-07T00:00:00-05:00\", \"2020-12-07T00:00:00-05:00\", \"2020-12-07T00:00:00-05:00\", \"2020-12-07T00:00:00-05:00\", \"2020-12-07T00:00:00-05:00\", \"2020-12-07T00:00:00-05:00\", \"2020-12-07T00:00:00-05:00\", \"2020-12-07T00:00:00-05:00\", \"2020-12-07T00:00:00-05:00\", \"2020-12-07T00:00:00-05:00\", \"2020-12-07T00:00:00-05:00\", \"2020-12-07T00:00:00-05:00\", \"2020-12-07T00:00:00-05:00\", \"2020-12-07T00:00:00-05:00\", \"2020-12-07T00:00:00-05:00\", \"2020-12-07T00:00:00-05:00\", \"2020-12-07T00:00:00-05:00\", \"2020-12-07T00:00:00-05:00\", \"2020-12-08T00:00:00-05:00\", \"2020-12-08T00:00:00-05:00\", \"2020-12-08T00:00:00-05:00\", \"2020-12-08T00:00:00-05:00\", \"2020-12-08T00:00:00-05:00\", \"2020-12-08T00:00:00-05:00\", \"2020-12-08T00:00:00-05:00\", \"2020-12-08T00:00:00-05:00\", \"2020-12-08T00:00:00-05:00\", \"2020-12-08T00:00:00-05:00\", \"2020-12-08T00:00:00-05:00\", \"2020-12-08T00:00:00-05:00\", \"2020-12-08T00:00:00-05:00\", \"2020-12-08T00:00:00-05:00\", \"2020-12-08T00:00:00-05:00\", \"2020-12-08T00:00:00-05:00\", \"2020-12-08T00:00:00-05:00\", \"2020-12-08T00:00:00-05:00\", \"2020-12-08T00:00:00-05:00\", \"2020-12-08T00:00:00-05:00\", \"2020-12-08T00:00:00-05:00\", \"2020-12-08T00:00:00-05:00\", \"2020-12-08T00:00:00-05:00\", \"2020-12-08T00:00:00-05:00\", \"2020-12-08T00:00:00-05:00\", \"2020-12-11T00:00:00-05:00\", \"2020-12-11T00:00:00-05:00\", \"2020-12-11T00:00:00-05:00\", \"2020-12-14T00:00:00-05:00\", \"2020-12-14T00:00:00-05:00\", \"2020-12-14T00:00:00-05:00\", \"2020-12-14T00:00:00-05:00\", \"2020-12-14T00:00:00-05:00\", \"2020-12-14T00:00:00-05:00\", \"2020-12-14T00:00:00-05:00\", \"2020-12-14T00:00:00-05:00\", \"2020-12-14T00:00:00-05:00\", \"2020-12-14T00:00:00-05:00\", \"2020-12-14T00:00:00-05:00\", \"2020-12-14T00:00:00-05:00\", \"2020-12-14T00:00:00-05:00\", \"2020-12-14T00:00:00-05:00\", \"2020-12-14T00:00:00-05:00\", \"2020-12-14T00:00:00-05:00\", \"2020-12-14T00:00:00-05:00\", \"2020-12-14T00:00:00-05:00\", \"2020-12-14T00:00:00-05:00\", \"2020-12-14T00:00:00-05:00\", \"2020-12-14T00:00:00-05:00\", \"2020-12-14T00:00:00-05:00\", \"2020-12-14T00:00:00-05:00\", \"2020-12-14T00:00:00-05:00\", \"2020-12-14T00:00:00-05:00\", \"2020-12-14T00:00:00-05:00\", \"2020-12-14T00:00:00-05:00\", \"2020-12-14T00:00:00-05:00\", \"2020-12-14T00:00:00-05:00\", \"2020-12-14T00:00:00-05:00\", \"2020-12-14T00:00:00-05:00\", \"2020-12-14T00:00:00-05:00\", \"2020-12-14T00:00:00-05:00\", \"2020-12-14T00:00:00-05:00\", \"2020-12-14T00:00:00-05:00\", \"2020-12-16T00:00:00-05:00\", \"2020-12-16T00:00:00-05:00\", \"2020-12-16T00:00:00-05:00\", \"2020-12-16T00:00:00-05:00\", \"2020-12-16T00:00:00-05:00\", \"2020-12-16T00:00:00-05:00\", \"2020-12-16T00:00:00-05:00\", \"2020-12-16T00:00:00-05:00\", \"2020-12-16T00:00:00-05:00\", \"2020-12-16T00:00:00-05:00\", \"2020-12-16T00:00:00-05:00\", \"2020-12-16T00:00:00-05:00\", \"2020-12-16T00:00:00-05:00\", \"2020-12-16T00:00:00-05:00\", \"2020-12-16T00:00:00-05:00\", \"2020-12-16T00:00:00-05:00\", \"2020-12-16T00:00:00-05:00\", \"2020-12-16T00:00:00-05:00\", \"2020-12-17T00:00:00-05:00\", \"2020-12-17T00:00:00-05:00\", \"2020-12-17T00:00:00-05:00\", \"2020-12-17T00:00:00-05:00\", \"2020-12-17T00:00:00-05:00\", \"2020-12-17T00:00:00-05:00\", \"2020-12-17T00:00:00-05:00\", \"2020-12-17T00:00:00-05:00\", \"2020-12-17T00:00:00-05:00\", \"2020-12-17T00:00:00-05:00\", \"2020-12-17T00:00:00-05:00\", \"2020-12-17T00:00:00-05:00\", \"2020-12-17T00:00:00-05:00\", \"2020-12-17T00:00:00-05:00\", \"2020-12-17T00:00:00-05:00\", \"2020-12-17T00:00:00-05:00\", \"2020-12-17T00:00:00-05:00\", \"2020-12-17T00:00:00-05:00\", \"2020-12-17T00:00:00-05:00\", \"2020-12-17T00:00:00-05:00\", \"2020-12-17T00:00:00-05:00\", \"2020-12-17T00:00:00-05:00\", \"2020-12-17T00:00:00-05:00\", \"2020-12-17T00:00:00-05:00\", \"2020-12-17T00:00:00-05:00\", \"2020-12-17T00:00:00-05:00\", \"2020-12-17T00:00:00-05:00\", \"2020-12-17T00:00:00-05:00\", \"2020-12-17T00:00:00-05:00\", \"2020-12-17T00:00:00-05:00\", \"2020-12-17T00:00:00-05:00\", \"2020-12-17T00:00:00-05:00\", \"2020-12-17T00:00:00-05:00\", \"2020-12-17T00:00:00-05:00\", \"2020-12-17T00:00:00-05:00\", \"2020-12-17T00:00:00-05:00\", \"2020-12-17T00:00:00-05:00\", \"2020-12-17T00:00:00-05:00\", \"2020-12-17T00:00:00-05:00\", \"2020-12-17T00:00:00-05:00\", \"2020-12-17T00:00:00-05:00\", \"2020-12-17T00:00:00-05:00\", \"2020-12-17T00:00:00-05:00\", \"2020-12-17T00:00:00-05:00\", \"2020-12-17T00:00:00-05:00\", \"2020-12-17T00:00:00-05:00\", \"2020-12-17T00:00:00-05:00\", \"2020-12-17T00:00:00-05:00\", \"2020-12-17T00:00:00-05:00\", \"2020-12-18T00:00:00-05:00\", \"2020-12-18T00:00:00-05:00\", \"2020-12-18T00:00:00-05:00\", \"2020-12-18T00:00:00-05:00\", \"2020-12-18T00:00:00-05:00\", \"2020-12-18T00:00:00-05:00\", \"2020-12-18T00:00:00-05:00\", \"2020-12-18T00:00:00-05:00\", \"2020-12-18T00:00:00-05:00\", \"2020-12-18T00:00:00-05:00\", \"2020-12-18T00:00:00-05:00\", \"2020-12-18T00:00:00-05:00\", \"2020-12-18T00:00:00-05:00\", \"2020-12-18T00:00:00-05:00\", \"2020-12-18T00:00:00-05:00\"], \"xaxis\": \"x\", \"y\": [0, 1, 2, 3, 4, 5, 6, 7, 8, 9, 10, 11, 12, 13, 14, 15, 16, 17, 18, 19, 20, 21, 22, 23, 24, 25, 26, 27, 28, 29, 30, 31, 32, 33, 34, 35, 36, 37, 38, 39, 40, 41, 42, 43, 44, 45, 46, 47, 48, 49, 50, 51, 52, 53, 54, 55, 56, 57, 58, 59, 60, 61, 62, 63, 64, 65, 66, 67, 68, 69, 70, 71, 72, 73, 74, 75, 76, 77, 78, 79, 80, 81, 82, 83, 84, 85, 86, 87, 88, 89, 90, 91, 92, 93, 94, 95, 96, 97, 98, 99, 100, 101, 102, 103, 104, 105, 106, 107, 108, 109, 110, 111, 112, 113, 114, 115, 116, 117, 118, 119, 120, 121, 122, 123, 124, 125, 126, 127, 128, 129, 130, 131, 132, 133, 134, 135, 136, 137, 138, 139, 140, 141, 142, 143, 144, 145, 146, 147, 148, 149, 150, 151, 152, 153, 154, 155, 156, 157, 158, 159, 160, 161, 162, 163, 164, 165, 166, 167, 168, 169, 170, 171, 172, 173, 174, 175, 176, 177, 178, 179, 180, 181, 182, 183, 184, 185, 186, 187, 188, 189, 190, 191, 192, 193, 194, 195, 196, 197, 198, 199, 200, 201, 202, 203, 204, 205, 206, 207, 208, 209, 210, 211, 212, 213, 214, 215, 216, 217, 218, 219, 220, 221, 222, 223, 224, 225, 226, 227, 228, 229, 230, 231, 232, 233, 234, 235, 236, 237, 238, 239, 240, 241, 242, 243, 244, 245, 246, 247, 248, 249, 250, 251, 252, 253, 254, 255, 256, 257, 258, 259, 260, 261, 262, 263, 264, 265, 266, 267, 268, 269, 270, 271, 272, 273, 274, 275, 276, 277, 278, 279, 280, 281, 282, 283, 284, 285, 286, 287, 288, 289, 290, 291, 292, 293, 294, 295, 296, 297, 298, 299, 300, 301, 302, 303, 304, 305, 306, 307, 308, 309, 310, 311, 312, 313, 314, 315, 316, 317, 318, 319, 320, 321, 322, 323, 324, 325, 326, 327, 328, 329, 330, 331, 332, 333, 334, 335, 336, 337, 338, 339, 340, 341, 342, 343, 344, 345, 346, 347, 348, 349, 350, 351, 352, 353, 354, 355, 356, 357, 358, 359, 360, 361, 362, 363, 364, 365, 366, 367, 368, 369, 370, 371, 372, 373, 374, 375, 376, 377, 378, 379, 380, 381, 382, 383, 384, 385, 386, 387, 388, 389, 390, 391, 392, 393, 394, 395, 396, 397, 398, 399, 400, 401, 402, 403, 404, 405, 406, 407, 408, 409, 410, 411, 412, 413, 414, 415, 416, 417, 418, 419, 420, 421, 422, 423, 424, 425, 426, 427, 428, 429, 430, 431, 432, 433, 434, 435, 436, 437, 438, 439, 440, 441, 442, 443, 444, 445, 446, 447, 448, 449, 450, 451, 452, 453, 454, 455, 456, 457, 458, 459, 460, 461, 462, 463, 464, 465, 466, 467, 468, 469, 470, 471, 472, 473, 474, 475, 476, 477, 478, 479, 480, 481, 482, 483, 484, 485, 486, 487, 488, 489, 490, 491, 492, 493, 494, 495, 496, 497, 498, 499, 500, 501, 502, 503, 504, 505, 506, 507, 508, 509, 510, 511, 512, 513, 514, 515, 516, 517, 518, 519, 520, 521, 522, 523, 524, 525, 526, 527, 528, 529, 530, 531, 532, 533, 534, 535, 536, 537, 538, 539, 540, 541, 542, 543, 544, 545, 546, 547, 548, 549, 550, 551, 552, 553, 554, 555, 556, 557, 558, 559, 560, 561, 562, 563, 564, 565, 566, 567, 568, 569, 570, 571, 572, 573, 574, 575, 576, 577, 578, 579, 580, 581, 582, 583, 584, 585, 586, 587, 588, 589, 590, 591, 592, 593, 594, 595, 596, 597, 598, 599, 600, 601, 602, 603, 604, 605, 606, 607, 608, 609, 610, 611, 612, 613, 614, 615, 616, 617, 618, 619, 620, 621, 622, 623, 624, 625, 626, 627, 628, 629, 630, 631, 632, 633, 634, 635, 636, 637, 638, 639, 640, 641, 642, 643, 644, 645, 646, 647, 648, 649, 650, 651, 652, 653, 654, 655, 656, 657, 658, 659, 660, 661, 662, 663, 664, 665, 666, 667, 668, 669, 670, 671, 672, 673, 674, 675, 676, 677, 678, 679, 680, 681, 682, 683, 684, 685, 686, 687, 688, 689, 690, 691, 692, 693, 694, 695, 696, 697, 698, 699, 700, 701, 702, 703, 704, 705, 706, 707, 708, 709, 710, 711, 712, 713, 714, 715, 716, 717, 718, 719, 720, 721, 722, 723, 724, 725, 726, 727, 728, 729, 730, 731, 732, 733, 734, 735, 736, 737, 738, 739, 740, 741, 742, 743, 744, 745, 746, 747, 748, 749, 750, 751, 752, 753, 754, 755, 756, 757, 758, 759, 760, 761, 762, 763, 764, 765, 766, 767, 768, 769, 770, 771, 772, 773, 774, 775, 776, 777, 778, 779, 780, 781, 782, 783, 784, 785, 786, 787, 788, 789, 790, 791, 792, 793, 794, 795, 796, 797, 798, 799, 800, 801, 802, 803, 804, 805, 806, 807, 808, 809, 810, 811, 812, 813, 814, 815, 816, 817, 818, 819, 820, 821, 822, 823, 824, 825, 826, 827, 828, 829, 830, 831, 832, 833, 834, 835, 836, 837, 838, 839, 840, 841, 842, 843, 844, 845, 846, 847, 848, 849, 850, 851, 852, 853, 854, 855, 856, 857, 858, 859, 860, 861, 862, 863, 864, 865, 866, 867, 868, 869, 870, 871, 872, 873, 874, 875, 876, 877, 878, 879, 880, 881, 882, 883, 884, 885, 886, 887, 888, 889, 890, 891, 892, 893, 894, 895, 896, 897, 898, 899, 900, 901, 902, 903, 904, 905, 906, 907, 908, 909, 910, 911, 912, 913, 914, 915, 916, 917, 918, 919, 920, 921, 922, 923, 924, 925, 926, 927, 928, 929, 930, 931, 932, 933, 934, 935, 936, 937, 938, 939, 940, 941, 942, 943, 944, 945, 946, 947, 948], \"yaxis\": \"y\"}],                        {\"legend\": {\"tracegroupgap\": 0}, \"template\": {\"data\": {\"bar\": [{\"error_x\": {\"color\": \"#2a3f5f\"}, \"error_y\": {\"color\": \"#2a3f5f\"}, \"marker\": {\"line\": {\"color\": \"#E5ECF6\", \"width\": 0.5}}, \"type\": \"bar\"}], \"barpolar\": [{\"marker\": {\"line\": {\"color\": \"#E5ECF6\", \"width\": 0.5}}, \"type\": \"barpolar\"}], \"carpet\": [{\"aaxis\": {\"endlinecolor\": \"#2a3f5f\", \"gridcolor\": \"white\", \"linecolor\": \"white\", \"minorgridcolor\": \"white\", \"startlinecolor\": \"#2a3f5f\"}, \"baxis\": {\"endlinecolor\": \"#2a3f5f\", \"gridcolor\": \"white\", \"linecolor\": \"white\", \"minorgridcolor\": \"white\", \"startlinecolor\": \"#2a3f5f\"}, \"type\": \"carpet\"}], \"choropleth\": [{\"colorbar\": {\"outlinewidth\": 0, \"ticks\": \"\"}, \"type\": \"choropleth\"}], \"contour\": [{\"colorbar\": {\"outlinewidth\": 0, \"ticks\": \"\"}, \"colorscale\": [[0.0, \"#0d0887\"], [0.1111111111111111, \"#46039f\"], [0.2222222222222222, \"#7201a8\"], [0.3333333333333333, \"#9c179e\"], [0.4444444444444444, \"#bd3786\"], [0.5555555555555556, \"#d8576b\"], [0.6666666666666666, \"#ed7953\"], [0.7777777777777778, \"#fb9f3a\"], [0.8888888888888888, \"#fdca26\"], [1.0, \"#f0f921\"]], \"type\": \"contour\"}], \"contourcarpet\": [{\"colorbar\": {\"outlinewidth\": 0, \"ticks\": \"\"}, \"type\": \"contourcarpet\"}], \"heatmap\": [{\"colorbar\": {\"outlinewidth\": 0, \"ticks\": \"\"}, \"colorscale\": [[0.0, \"#0d0887\"], [0.1111111111111111, \"#46039f\"], [0.2222222222222222, \"#7201a8\"], [0.3333333333333333, \"#9c179e\"], [0.4444444444444444, \"#bd3786\"], [0.5555555555555556, \"#d8576b\"], [0.6666666666666666, \"#ed7953\"], [0.7777777777777778, \"#fb9f3a\"], [0.8888888888888888, \"#fdca26\"], [1.0, \"#f0f921\"]], \"type\": \"heatmap\"}], \"heatmapgl\": [{\"colorbar\": {\"outlinewidth\": 0, \"ticks\": \"\"}, \"colorscale\": [[0.0, \"#0d0887\"], [0.1111111111111111, \"#46039f\"], [0.2222222222222222, \"#7201a8\"], [0.3333333333333333, \"#9c179e\"], [0.4444444444444444, \"#bd3786\"], [0.5555555555555556, \"#d8576b\"], [0.6666666666666666, \"#ed7953\"], [0.7777777777777778, \"#fb9f3a\"], [0.8888888888888888, \"#fdca26\"], [1.0, \"#f0f921\"]], \"type\": \"heatmapgl\"}], \"histogram\": [{\"marker\": {\"colorbar\": {\"outlinewidth\": 0, \"ticks\": \"\"}}, \"type\": \"histogram\"}], \"histogram2d\": [{\"colorbar\": {\"outlinewidth\": 0, \"ticks\": \"\"}, \"colorscale\": [[0.0, \"#0d0887\"], [0.1111111111111111, \"#46039f\"], [0.2222222222222222, \"#7201a8\"], [0.3333333333333333, \"#9c179e\"], [0.4444444444444444, \"#bd3786\"], [0.5555555555555556, \"#d8576b\"], [0.6666666666666666, \"#ed7953\"], [0.7777777777777778, \"#fb9f3a\"], [0.8888888888888888, \"#fdca26\"], [1.0, \"#f0f921\"]], \"type\": \"histogram2d\"}], \"histogram2dcontour\": [{\"colorbar\": {\"outlinewidth\": 0, \"ticks\": \"\"}, \"colorscale\": [[0.0, \"#0d0887\"], [0.1111111111111111, \"#46039f\"], [0.2222222222222222, \"#7201a8\"], [0.3333333333333333, \"#9c179e\"], [0.4444444444444444, \"#bd3786\"], [0.5555555555555556, \"#d8576b\"], [0.6666666666666666, \"#ed7953\"], [0.7777777777777778, \"#fb9f3a\"], [0.8888888888888888, \"#fdca26\"], [1.0, \"#f0f921\"]], \"type\": \"histogram2dcontour\"}], \"mesh3d\": [{\"colorbar\": {\"outlinewidth\": 0, \"ticks\": \"\"}, \"type\": \"mesh3d\"}], \"parcoords\": [{\"line\": {\"colorbar\": {\"outlinewidth\": 0, \"ticks\": \"\"}}, \"type\": \"parcoords\"}], \"pie\": [{\"automargin\": true, \"type\": \"pie\"}], \"scatter\": [{\"marker\": {\"colorbar\": {\"outlinewidth\": 0, \"ticks\": \"\"}}, \"type\": \"scatter\"}], \"scatter3d\": [{\"line\": {\"colorbar\": {\"outlinewidth\": 0, \"ticks\": \"\"}}, \"marker\": {\"colorbar\": {\"outlinewidth\": 0, \"ticks\": \"\"}}, \"type\": \"scatter3d\"}], \"scattercarpet\": [{\"marker\": {\"colorbar\": {\"outlinewidth\": 0, \"ticks\": \"\"}}, \"type\": \"scattercarpet\"}], \"scattergeo\": [{\"marker\": {\"colorbar\": {\"outlinewidth\": 0, \"ticks\": \"\"}}, \"type\": \"scattergeo\"}], \"scattergl\": [{\"marker\": {\"colorbar\": {\"outlinewidth\": 0, \"ticks\": \"\"}}, \"type\": \"scattergl\"}], \"scattermapbox\": [{\"marker\": {\"colorbar\": {\"outlinewidth\": 0, \"ticks\": \"\"}}, \"type\": \"scattermapbox\"}], \"scatterpolar\": [{\"marker\": {\"colorbar\": {\"outlinewidth\": 0, \"ticks\": \"\"}}, \"type\": \"scatterpolar\"}], \"scatterpolargl\": [{\"marker\": {\"colorbar\": {\"outlinewidth\": 0, \"ticks\": \"\"}}, \"type\": \"scatterpolargl\"}], \"scatterternary\": [{\"marker\": {\"colorbar\": {\"outlinewidth\": 0, \"ticks\": \"\"}}, \"type\": \"scatterternary\"}], \"surface\": [{\"colorbar\": {\"outlinewidth\": 0, \"ticks\": \"\"}, \"colorscale\": [[0.0, \"#0d0887\"], [0.1111111111111111, \"#46039f\"], [0.2222222222222222, \"#7201a8\"], [0.3333333333333333, \"#9c179e\"], [0.4444444444444444, \"#bd3786\"], [0.5555555555555556, \"#d8576b\"], [0.6666666666666666, \"#ed7953\"], [0.7777777777777778, \"#fb9f3a\"], [0.8888888888888888, \"#fdca26\"], [1.0, \"#f0f921\"]], \"type\": \"surface\"}], \"table\": [{\"cells\": {\"fill\": {\"color\": \"#EBF0F8\"}, \"line\": {\"color\": \"white\"}}, \"header\": {\"fill\": {\"color\": \"#C8D4E3\"}, \"line\": {\"color\": \"white\"}}, \"type\": \"table\"}]}, \"layout\": {\"annotationdefaults\": {\"arrowcolor\": \"#2a3f5f\", \"arrowhead\": 0, \"arrowwidth\": 1}, \"autotypenumbers\": \"strict\", \"coloraxis\": {\"colorbar\": {\"outlinewidth\": 0, \"ticks\": \"\"}}, \"colorscale\": {\"diverging\": [[0, \"#8e0152\"], [0.1, \"#c51b7d\"], [0.2, \"#de77ae\"], [0.3, \"#f1b6da\"], [0.4, \"#fde0ef\"], [0.5, \"#f7f7f7\"], [0.6, \"#e6f5d0\"], [0.7, \"#b8e186\"], [0.8, \"#7fbc41\"], [0.9, \"#4d9221\"], [1, \"#276419\"]], \"sequential\": [[0.0, \"#0d0887\"], [0.1111111111111111, \"#46039f\"], [0.2222222222222222, \"#7201a8\"], [0.3333333333333333, \"#9c179e\"], [0.4444444444444444, \"#bd3786\"], [0.5555555555555556, \"#d8576b\"], [0.6666666666666666, \"#ed7953\"], [0.7777777777777778, \"#fb9f3a\"], [0.8888888888888888, \"#fdca26\"], [1.0, \"#f0f921\"]], \"sequentialminus\": [[0.0, \"#0d0887\"], [0.1111111111111111, \"#46039f\"], [0.2222222222222222, \"#7201a8\"], [0.3333333333333333, \"#9c179e\"], [0.4444444444444444, \"#bd3786\"], [0.5555555555555556, \"#d8576b\"], [0.6666666666666666, \"#ed7953\"], [0.7777777777777778, \"#fb9f3a\"], [0.8888888888888888, \"#fdca26\"], [1.0, \"#f0f921\"]]}, \"colorway\": [\"#636efa\", \"#EF553B\", \"#00cc96\", \"#ab63fa\", \"#FFA15A\", \"#19d3f3\", \"#FF6692\", \"#B6E880\", \"#FF97FF\", \"#FECB52\"], \"font\": {\"color\": \"#2a3f5f\"}, \"geo\": {\"bgcolor\": \"white\", \"lakecolor\": \"white\", \"landcolor\": \"#E5ECF6\", \"showlakes\": true, \"showland\": true, \"subunitcolor\": \"white\"}, \"hoverlabel\": {\"align\": \"left\"}, \"hovermode\": \"closest\", \"mapbox\": {\"style\": \"light\"}, \"paper_bgcolor\": \"white\", \"plot_bgcolor\": \"#E5ECF6\", \"polar\": {\"angularaxis\": {\"gridcolor\": \"white\", \"linecolor\": \"white\", \"ticks\": \"\"}, \"bgcolor\": \"#E5ECF6\", \"radialaxis\": {\"gridcolor\": \"white\", \"linecolor\": \"white\", \"ticks\": \"\"}}, \"scene\": {\"xaxis\": {\"backgroundcolor\": \"#E5ECF6\", \"gridcolor\": \"white\", \"gridwidth\": 2, \"linecolor\": \"white\", \"showbackground\": true, \"ticks\": \"\", \"zerolinecolor\": \"white\"}, \"yaxis\": {\"backgroundcolor\": \"#E5ECF6\", \"gridcolor\": \"white\", \"gridwidth\": 2, \"linecolor\": \"white\", \"showbackground\": true, \"ticks\": \"\", \"zerolinecolor\": \"white\"}, \"zaxis\": {\"backgroundcolor\": \"#E5ECF6\", \"gridcolor\": \"white\", \"gridwidth\": 2, \"linecolor\": \"white\", \"showbackground\": true, \"ticks\": \"\", \"zerolinecolor\": \"white\"}}, \"shapedefaults\": {\"line\": {\"color\": \"#2a3f5f\"}}, \"ternary\": {\"aaxis\": {\"gridcolor\": \"white\", \"linecolor\": \"white\", \"ticks\": \"\"}, \"baxis\": {\"gridcolor\": \"white\", \"linecolor\": \"white\", \"ticks\": \"\"}, \"bgcolor\": \"#E5ECF6\", \"caxis\": {\"gridcolor\": \"white\", \"linecolor\": \"white\", \"ticks\": \"\"}}, \"title\": {\"x\": 0.05}, \"xaxis\": {\"automargin\": true, \"gridcolor\": \"white\", \"linecolor\": \"white\", \"ticks\": \"\", \"title\": {\"standoff\": 15}, \"zerolinecolor\": \"white\", \"zerolinewidth\": 2}, \"yaxis\": {\"automargin\": true, \"gridcolor\": \"white\", \"linecolor\": \"white\", \"ticks\": \"\", \"title\": {\"standoff\": 15}, \"zerolinecolor\": \"white\", \"zerolinewidth\": 2}}}, \"title\": {\"text\": \"Certification by Day 2020\"}, \"xaxis\": {\"anchor\": \"y\", \"domain\": [0.0, 1.0], \"title\": {\"text\": \"certificationDate\"}}, \"yaxis\": {\"anchor\": \"x\", \"domain\": [0.0, 1.0], \"title\": {\"text\": \"certification_number\"}}},                        {\"responsive\": true}                    ).then(function(){\n",
       "                            \n",
       "var gd = document.getElementById('83441875-2cf0-4ee7-a4f5-4ad194517846');\n",
       "var x = new MutationObserver(function (mutations, observer) {{\n",
       "        var display = window.getComputedStyle(gd).display;\n",
       "        if (!display || display === 'none') {{\n",
       "            console.log([gd, 'removed!']);\n",
       "            Plotly.purge(gd);\n",
       "            observer.disconnect();\n",
       "        }}\n",
       "}});\n",
       "\n",
       "// Listen for the removal of the full notebook cells\n",
       "var notebookContainer = gd.closest('#notebook-container');\n",
       "if (notebookContainer) {{\n",
       "    x.observe(notebookContainer, {childList: true});\n",
       "}}\n",
       "\n",
       "// Listen for the clearing of the current output cell\n",
       "var outputEl = gd.closest('.output');\n",
       "if (outputEl) {{\n",
       "    x.observe(outputEl, {childList: true});\n",
       "}}\n",
       "\n",
       "                        })                };                });            </script>        </div>"
      ]
     },
     "metadata": {},
     "output_type": "display_data"
    }
   ],
   "source": [
    "df2020 = df2020.sort_values(\"certificationDate\")\n",
    "df2020['certification_number'] = np.arange(0,len(df2020))\n",
    "fig = px.area(df2020, y=\"certification_number\",x=\"certificationDate\",title=\"Certification by Day 2020\")\n",
    "fig.show()"
   ]
  },
  {
   "cell_type": "code",
   "execution_count": 45,
   "metadata": {},
   "outputs": [
    {
     "data": {
      "application/vnd.plotly.v1+json": {
       "config": {
        "plotlyServerURL": "https://plot.ly"
       },
       "data": [
        {
         "alignmentgroup": "True",
         "hovertemplate": "primaryType=%{x}<br>oshwaUid=%{y}<extra></extra>",
         "legendgroup": "",
         "marker": {
          "color": "#636efa"
         },
         "name": "",
         "offsetgroup": "",
         "orientation": "v",
         "showlegend": false,
         "textposition": "auto",
         "type": "bar",
         "x": [
          "Electronics",
          "3D Printing",
          "IOT",
          "Education",
          "Other",
          "Tool",
          "Science",
          "Wearables",
          "Home Connection",
          "Robotics",
          "Sound",
          "Agriculture",
          "Arts",
          "Enclosure",
          "Manufacturing",
          "Space"
         ],
         "xaxis": "x",
         "y": [
          823,
          32,
          22,
          19,
          13,
          13,
          10,
          6,
          2,
          2,
          2,
          1,
          1,
          1,
          1,
          1
         ],
         "yaxis": "y"
        }
       ],
       "layout": {
        "barmode": "relative",
        "legend": {
         "tracegroupgap": 0
        },
        "template": {
         "data": {
          "bar": [
           {
            "error_x": {
             "color": "#2a3f5f"
            },
            "error_y": {
             "color": "#2a3f5f"
            },
            "marker": {
             "line": {
              "color": "#E5ECF6",
              "width": 0.5
             }
            },
            "type": "bar"
           }
          ],
          "barpolar": [
           {
            "marker": {
             "line": {
              "color": "#E5ECF6",
              "width": 0.5
             }
            },
            "type": "barpolar"
           }
          ],
          "carpet": [
           {
            "aaxis": {
             "endlinecolor": "#2a3f5f",
             "gridcolor": "white",
             "linecolor": "white",
             "minorgridcolor": "white",
             "startlinecolor": "#2a3f5f"
            },
            "baxis": {
             "endlinecolor": "#2a3f5f",
             "gridcolor": "white",
             "linecolor": "white",
             "minorgridcolor": "white",
             "startlinecolor": "#2a3f5f"
            },
            "type": "carpet"
           }
          ],
          "choropleth": [
           {
            "colorbar": {
             "outlinewidth": 0,
             "ticks": ""
            },
            "type": "choropleth"
           }
          ],
          "contour": [
           {
            "colorbar": {
             "outlinewidth": 0,
             "ticks": ""
            },
            "colorscale": [
             [
              0,
              "#0d0887"
             ],
             [
              0.1111111111111111,
              "#46039f"
             ],
             [
              0.2222222222222222,
              "#7201a8"
             ],
             [
              0.3333333333333333,
              "#9c179e"
             ],
             [
              0.4444444444444444,
              "#bd3786"
             ],
             [
              0.5555555555555556,
              "#d8576b"
             ],
             [
              0.6666666666666666,
              "#ed7953"
             ],
             [
              0.7777777777777778,
              "#fb9f3a"
             ],
             [
              0.8888888888888888,
              "#fdca26"
             ],
             [
              1,
              "#f0f921"
             ]
            ],
            "type": "contour"
           }
          ],
          "contourcarpet": [
           {
            "colorbar": {
             "outlinewidth": 0,
             "ticks": ""
            },
            "type": "contourcarpet"
           }
          ],
          "heatmap": [
           {
            "colorbar": {
             "outlinewidth": 0,
             "ticks": ""
            },
            "colorscale": [
             [
              0,
              "#0d0887"
             ],
             [
              0.1111111111111111,
              "#46039f"
             ],
             [
              0.2222222222222222,
              "#7201a8"
             ],
             [
              0.3333333333333333,
              "#9c179e"
             ],
             [
              0.4444444444444444,
              "#bd3786"
             ],
             [
              0.5555555555555556,
              "#d8576b"
             ],
             [
              0.6666666666666666,
              "#ed7953"
             ],
             [
              0.7777777777777778,
              "#fb9f3a"
             ],
             [
              0.8888888888888888,
              "#fdca26"
             ],
             [
              1,
              "#f0f921"
             ]
            ],
            "type": "heatmap"
           }
          ],
          "heatmapgl": [
           {
            "colorbar": {
             "outlinewidth": 0,
             "ticks": ""
            },
            "colorscale": [
             [
              0,
              "#0d0887"
             ],
             [
              0.1111111111111111,
              "#46039f"
             ],
             [
              0.2222222222222222,
              "#7201a8"
             ],
             [
              0.3333333333333333,
              "#9c179e"
             ],
             [
              0.4444444444444444,
              "#bd3786"
             ],
             [
              0.5555555555555556,
              "#d8576b"
             ],
             [
              0.6666666666666666,
              "#ed7953"
             ],
             [
              0.7777777777777778,
              "#fb9f3a"
             ],
             [
              0.8888888888888888,
              "#fdca26"
             ],
             [
              1,
              "#f0f921"
             ]
            ],
            "type": "heatmapgl"
           }
          ],
          "histogram": [
           {
            "marker": {
             "colorbar": {
              "outlinewidth": 0,
              "ticks": ""
             }
            },
            "type": "histogram"
           }
          ],
          "histogram2d": [
           {
            "colorbar": {
             "outlinewidth": 0,
             "ticks": ""
            },
            "colorscale": [
             [
              0,
              "#0d0887"
             ],
             [
              0.1111111111111111,
              "#46039f"
             ],
             [
              0.2222222222222222,
              "#7201a8"
             ],
             [
              0.3333333333333333,
              "#9c179e"
             ],
             [
              0.4444444444444444,
              "#bd3786"
             ],
             [
              0.5555555555555556,
              "#d8576b"
             ],
             [
              0.6666666666666666,
              "#ed7953"
             ],
             [
              0.7777777777777778,
              "#fb9f3a"
             ],
             [
              0.8888888888888888,
              "#fdca26"
             ],
             [
              1,
              "#f0f921"
             ]
            ],
            "type": "histogram2d"
           }
          ],
          "histogram2dcontour": [
           {
            "colorbar": {
             "outlinewidth": 0,
             "ticks": ""
            },
            "colorscale": [
             [
              0,
              "#0d0887"
             ],
             [
              0.1111111111111111,
              "#46039f"
             ],
             [
              0.2222222222222222,
              "#7201a8"
             ],
             [
              0.3333333333333333,
              "#9c179e"
             ],
             [
              0.4444444444444444,
              "#bd3786"
             ],
             [
              0.5555555555555556,
              "#d8576b"
             ],
             [
              0.6666666666666666,
              "#ed7953"
             ],
             [
              0.7777777777777778,
              "#fb9f3a"
             ],
             [
              0.8888888888888888,
              "#fdca26"
             ],
             [
              1,
              "#f0f921"
             ]
            ],
            "type": "histogram2dcontour"
           }
          ],
          "mesh3d": [
           {
            "colorbar": {
             "outlinewidth": 0,
             "ticks": ""
            },
            "type": "mesh3d"
           }
          ],
          "parcoords": [
           {
            "line": {
             "colorbar": {
              "outlinewidth": 0,
              "ticks": ""
             }
            },
            "type": "parcoords"
           }
          ],
          "pie": [
           {
            "automargin": true,
            "type": "pie"
           }
          ],
          "scatter": [
           {
            "marker": {
             "colorbar": {
              "outlinewidth": 0,
              "ticks": ""
             }
            },
            "type": "scatter"
           }
          ],
          "scatter3d": [
           {
            "line": {
             "colorbar": {
              "outlinewidth": 0,
              "ticks": ""
             }
            },
            "marker": {
             "colorbar": {
              "outlinewidth": 0,
              "ticks": ""
             }
            },
            "type": "scatter3d"
           }
          ],
          "scattercarpet": [
           {
            "marker": {
             "colorbar": {
              "outlinewidth": 0,
              "ticks": ""
             }
            },
            "type": "scattercarpet"
           }
          ],
          "scattergeo": [
           {
            "marker": {
             "colorbar": {
              "outlinewidth": 0,
              "ticks": ""
             }
            },
            "type": "scattergeo"
           }
          ],
          "scattergl": [
           {
            "marker": {
             "colorbar": {
              "outlinewidth": 0,
              "ticks": ""
             }
            },
            "type": "scattergl"
           }
          ],
          "scattermapbox": [
           {
            "marker": {
             "colorbar": {
              "outlinewidth": 0,
              "ticks": ""
             }
            },
            "type": "scattermapbox"
           }
          ],
          "scatterpolar": [
           {
            "marker": {
             "colorbar": {
              "outlinewidth": 0,
              "ticks": ""
             }
            },
            "type": "scatterpolar"
           }
          ],
          "scatterpolargl": [
           {
            "marker": {
             "colorbar": {
              "outlinewidth": 0,
              "ticks": ""
             }
            },
            "type": "scatterpolargl"
           }
          ],
          "scatterternary": [
           {
            "marker": {
             "colorbar": {
              "outlinewidth": 0,
              "ticks": ""
             }
            },
            "type": "scatterternary"
           }
          ],
          "surface": [
           {
            "colorbar": {
             "outlinewidth": 0,
             "ticks": ""
            },
            "colorscale": [
             [
              0,
              "#0d0887"
             ],
             [
              0.1111111111111111,
              "#46039f"
             ],
             [
              0.2222222222222222,
              "#7201a8"
             ],
             [
              0.3333333333333333,
              "#9c179e"
             ],
             [
              0.4444444444444444,
              "#bd3786"
             ],
             [
              0.5555555555555556,
              "#d8576b"
             ],
             [
              0.6666666666666666,
              "#ed7953"
             ],
             [
              0.7777777777777778,
              "#fb9f3a"
             ],
             [
              0.8888888888888888,
              "#fdca26"
             ],
             [
              1,
              "#f0f921"
             ]
            ],
            "type": "surface"
           }
          ],
          "table": [
           {
            "cells": {
             "fill": {
              "color": "#EBF0F8"
             },
             "line": {
              "color": "white"
             }
            },
            "header": {
             "fill": {
              "color": "#C8D4E3"
             },
             "line": {
              "color": "white"
             }
            },
            "type": "table"
           }
          ]
         },
         "layout": {
          "annotationdefaults": {
           "arrowcolor": "#2a3f5f",
           "arrowhead": 0,
           "arrowwidth": 1
          },
          "autotypenumbers": "strict",
          "coloraxis": {
           "colorbar": {
            "outlinewidth": 0,
            "ticks": ""
           }
          },
          "colorscale": {
           "diverging": [
            [
             0,
             "#8e0152"
            ],
            [
             0.1,
             "#c51b7d"
            ],
            [
             0.2,
             "#de77ae"
            ],
            [
             0.3,
             "#f1b6da"
            ],
            [
             0.4,
             "#fde0ef"
            ],
            [
             0.5,
             "#f7f7f7"
            ],
            [
             0.6,
             "#e6f5d0"
            ],
            [
             0.7,
             "#b8e186"
            ],
            [
             0.8,
             "#7fbc41"
            ],
            [
             0.9,
             "#4d9221"
            ],
            [
             1,
             "#276419"
            ]
           ],
           "sequential": [
            [
             0,
             "#0d0887"
            ],
            [
             0.1111111111111111,
             "#46039f"
            ],
            [
             0.2222222222222222,
             "#7201a8"
            ],
            [
             0.3333333333333333,
             "#9c179e"
            ],
            [
             0.4444444444444444,
             "#bd3786"
            ],
            [
             0.5555555555555556,
             "#d8576b"
            ],
            [
             0.6666666666666666,
             "#ed7953"
            ],
            [
             0.7777777777777778,
             "#fb9f3a"
            ],
            [
             0.8888888888888888,
             "#fdca26"
            ],
            [
             1,
             "#f0f921"
            ]
           ],
           "sequentialminus": [
            [
             0,
             "#0d0887"
            ],
            [
             0.1111111111111111,
             "#46039f"
            ],
            [
             0.2222222222222222,
             "#7201a8"
            ],
            [
             0.3333333333333333,
             "#9c179e"
            ],
            [
             0.4444444444444444,
             "#bd3786"
            ],
            [
             0.5555555555555556,
             "#d8576b"
            ],
            [
             0.6666666666666666,
             "#ed7953"
            ],
            [
             0.7777777777777778,
             "#fb9f3a"
            ],
            [
             0.8888888888888888,
             "#fdca26"
            ],
            [
             1,
             "#f0f921"
            ]
           ]
          },
          "colorway": [
           "#636efa",
           "#EF553B",
           "#00cc96",
           "#ab63fa",
           "#FFA15A",
           "#19d3f3",
           "#FF6692",
           "#B6E880",
           "#FF97FF",
           "#FECB52"
          ],
          "font": {
           "color": "#2a3f5f"
          },
          "geo": {
           "bgcolor": "white",
           "lakecolor": "white",
           "landcolor": "#E5ECF6",
           "showlakes": true,
           "showland": true,
           "subunitcolor": "white"
          },
          "hoverlabel": {
           "align": "left"
          },
          "hovermode": "closest",
          "mapbox": {
           "style": "light"
          },
          "paper_bgcolor": "white",
          "plot_bgcolor": "#E5ECF6",
          "polar": {
           "angularaxis": {
            "gridcolor": "white",
            "linecolor": "white",
            "ticks": ""
           },
           "bgcolor": "#E5ECF6",
           "radialaxis": {
            "gridcolor": "white",
            "linecolor": "white",
            "ticks": ""
           }
          },
          "scene": {
           "xaxis": {
            "backgroundcolor": "#E5ECF6",
            "gridcolor": "white",
            "gridwidth": 2,
            "linecolor": "white",
            "showbackground": true,
            "ticks": "",
            "zerolinecolor": "white"
           },
           "yaxis": {
            "backgroundcolor": "#E5ECF6",
            "gridcolor": "white",
            "gridwidth": 2,
            "linecolor": "white",
            "showbackground": true,
            "ticks": "",
            "zerolinecolor": "white"
           },
           "zaxis": {
            "backgroundcolor": "#E5ECF6",
            "gridcolor": "white",
            "gridwidth": 2,
            "linecolor": "white",
            "showbackground": true,
            "ticks": "",
            "zerolinecolor": "white"
           }
          },
          "shapedefaults": {
           "line": {
            "color": "#2a3f5f"
           }
          },
          "ternary": {
           "aaxis": {
            "gridcolor": "white",
            "linecolor": "white",
            "ticks": ""
           },
           "baxis": {
            "gridcolor": "white",
            "linecolor": "white",
            "ticks": ""
           },
           "bgcolor": "#E5ECF6",
           "caxis": {
            "gridcolor": "white",
            "linecolor": "white",
            "ticks": ""
           }
          },
          "title": {
           "x": 0.05
          },
          "xaxis": {
           "automargin": true,
           "gridcolor": "white",
           "linecolor": "white",
           "ticks": "",
           "title": {
            "standoff": 15
           },
           "zerolinecolor": "white",
           "zerolinewidth": 2
          },
          "yaxis": {
           "automargin": true,
           "gridcolor": "white",
           "linecolor": "white",
           "ticks": "",
           "title": {
            "standoff": 15
           },
           "zerolinecolor": "white",
           "zerolinewidth": 2
          }
         }
        },
        "title": {
         "text": "2020 Certifications by Primary Type"
        },
        "xaxis": {
         "anchor": "y",
         "domain": [
          0,
          1
         ],
         "title": {
          "text": "primaryType"
         }
        },
        "yaxis": {
         "anchor": "x",
         "domain": [
          0,
          1
         ],
         "title": {
          "text": "oshwaUid"
         }
        }
       }
      },
      "text/html": [
       "<div>                            <div id=\"030e1e41-d828-413b-9db5-02b8cd3142b4\" class=\"plotly-graph-div\" style=\"height:525px; width:100%;\"></div>            <script type=\"text/javascript\">                require([\"plotly\"], function(Plotly) {                    window.PLOTLYENV=window.PLOTLYENV || {};                                    if (document.getElementById(\"030e1e41-d828-413b-9db5-02b8cd3142b4\")) {                    Plotly.newPlot(                        \"030e1e41-d828-413b-9db5-02b8cd3142b4\",                        [{\"alignmentgroup\": \"True\", \"hovertemplate\": \"primaryType=%{x}<br>oshwaUid=%{y}<extra></extra>\", \"legendgroup\": \"\", \"marker\": {\"color\": \"#636efa\"}, \"name\": \"\", \"offsetgroup\": \"\", \"orientation\": \"v\", \"showlegend\": false, \"textposition\": \"auto\", \"type\": \"bar\", \"x\": [\"Electronics\", \"3D Printing\", \"IOT\", \"Education\", \"Other\", \"Tool\", \"Science\", \"Wearables\", \"Home Connection\", \"Robotics\", \"Sound\", \"Agriculture\", \"Arts\", \"Enclosure\", \"Manufacturing\", \"Space\"], \"xaxis\": \"x\", \"y\": [823, 32, 22, 19, 13, 13, 10, 6, 2, 2, 2, 1, 1, 1, 1, 1], \"yaxis\": \"y\"}],                        {\"barmode\": \"relative\", \"legend\": {\"tracegroupgap\": 0}, \"template\": {\"data\": {\"bar\": [{\"error_x\": {\"color\": \"#2a3f5f\"}, \"error_y\": {\"color\": \"#2a3f5f\"}, \"marker\": {\"line\": {\"color\": \"#E5ECF6\", \"width\": 0.5}}, \"type\": \"bar\"}], \"barpolar\": [{\"marker\": {\"line\": {\"color\": \"#E5ECF6\", \"width\": 0.5}}, \"type\": \"barpolar\"}], \"carpet\": [{\"aaxis\": {\"endlinecolor\": \"#2a3f5f\", \"gridcolor\": \"white\", \"linecolor\": \"white\", \"minorgridcolor\": \"white\", \"startlinecolor\": \"#2a3f5f\"}, \"baxis\": {\"endlinecolor\": \"#2a3f5f\", \"gridcolor\": \"white\", \"linecolor\": \"white\", \"minorgridcolor\": \"white\", \"startlinecolor\": \"#2a3f5f\"}, \"type\": \"carpet\"}], \"choropleth\": [{\"colorbar\": {\"outlinewidth\": 0, \"ticks\": \"\"}, \"type\": \"choropleth\"}], \"contour\": [{\"colorbar\": {\"outlinewidth\": 0, \"ticks\": \"\"}, \"colorscale\": [[0.0, \"#0d0887\"], [0.1111111111111111, \"#46039f\"], [0.2222222222222222, \"#7201a8\"], [0.3333333333333333, \"#9c179e\"], [0.4444444444444444, \"#bd3786\"], [0.5555555555555556, \"#d8576b\"], [0.6666666666666666, \"#ed7953\"], [0.7777777777777778, \"#fb9f3a\"], [0.8888888888888888, \"#fdca26\"], [1.0, \"#f0f921\"]], \"type\": \"contour\"}], \"contourcarpet\": [{\"colorbar\": {\"outlinewidth\": 0, \"ticks\": \"\"}, \"type\": \"contourcarpet\"}], \"heatmap\": [{\"colorbar\": {\"outlinewidth\": 0, \"ticks\": \"\"}, \"colorscale\": [[0.0, \"#0d0887\"], [0.1111111111111111, \"#46039f\"], [0.2222222222222222, \"#7201a8\"], [0.3333333333333333, \"#9c179e\"], [0.4444444444444444, \"#bd3786\"], [0.5555555555555556, \"#d8576b\"], [0.6666666666666666, \"#ed7953\"], [0.7777777777777778, \"#fb9f3a\"], [0.8888888888888888, \"#fdca26\"], [1.0, \"#f0f921\"]], \"type\": \"heatmap\"}], \"heatmapgl\": [{\"colorbar\": {\"outlinewidth\": 0, \"ticks\": \"\"}, \"colorscale\": [[0.0, \"#0d0887\"], [0.1111111111111111, \"#46039f\"], [0.2222222222222222, \"#7201a8\"], [0.3333333333333333, \"#9c179e\"], [0.4444444444444444, \"#bd3786\"], [0.5555555555555556, \"#d8576b\"], [0.6666666666666666, \"#ed7953\"], [0.7777777777777778, \"#fb9f3a\"], [0.8888888888888888, \"#fdca26\"], [1.0, \"#f0f921\"]], \"type\": \"heatmapgl\"}], \"histogram\": [{\"marker\": {\"colorbar\": {\"outlinewidth\": 0, \"ticks\": \"\"}}, \"type\": \"histogram\"}], \"histogram2d\": [{\"colorbar\": {\"outlinewidth\": 0, \"ticks\": \"\"}, \"colorscale\": [[0.0, \"#0d0887\"], [0.1111111111111111, \"#46039f\"], [0.2222222222222222, \"#7201a8\"], [0.3333333333333333, \"#9c179e\"], [0.4444444444444444, \"#bd3786\"], [0.5555555555555556, \"#d8576b\"], [0.6666666666666666, \"#ed7953\"], [0.7777777777777778, \"#fb9f3a\"], [0.8888888888888888, \"#fdca26\"], [1.0, \"#f0f921\"]], \"type\": \"histogram2d\"}], \"histogram2dcontour\": [{\"colorbar\": {\"outlinewidth\": 0, \"ticks\": \"\"}, \"colorscale\": [[0.0, \"#0d0887\"], [0.1111111111111111, \"#46039f\"], [0.2222222222222222, \"#7201a8\"], [0.3333333333333333, \"#9c179e\"], [0.4444444444444444, \"#bd3786\"], [0.5555555555555556, \"#d8576b\"], [0.6666666666666666, \"#ed7953\"], [0.7777777777777778, \"#fb9f3a\"], [0.8888888888888888, \"#fdca26\"], [1.0, \"#f0f921\"]], \"type\": \"histogram2dcontour\"}], \"mesh3d\": [{\"colorbar\": {\"outlinewidth\": 0, \"ticks\": \"\"}, \"type\": \"mesh3d\"}], \"parcoords\": [{\"line\": {\"colorbar\": {\"outlinewidth\": 0, \"ticks\": \"\"}}, \"type\": \"parcoords\"}], \"pie\": [{\"automargin\": true, \"type\": \"pie\"}], \"scatter\": [{\"marker\": {\"colorbar\": {\"outlinewidth\": 0, \"ticks\": \"\"}}, \"type\": \"scatter\"}], \"scatter3d\": [{\"line\": {\"colorbar\": {\"outlinewidth\": 0, \"ticks\": \"\"}}, \"marker\": {\"colorbar\": {\"outlinewidth\": 0, \"ticks\": \"\"}}, \"type\": \"scatter3d\"}], \"scattercarpet\": [{\"marker\": {\"colorbar\": {\"outlinewidth\": 0, \"ticks\": \"\"}}, \"type\": \"scattercarpet\"}], \"scattergeo\": [{\"marker\": {\"colorbar\": {\"outlinewidth\": 0, \"ticks\": \"\"}}, \"type\": \"scattergeo\"}], \"scattergl\": [{\"marker\": {\"colorbar\": {\"outlinewidth\": 0, \"ticks\": \"\"}}, \"type\": \"scattergl\"}], \"scattermapbox\": [{\"marker\": {\"colorbar\": {\"outlinewidth\": 0, \"ticks\": \"\"}}, \"type\": \"scattermapbox\"}], \"scatterpolar\": [{\"marker\": {\"colorbar\": {\"outlinewidth\": 0, \"ticks\": \"\"}}, \"type\": \"scatterpolar\"}], \"scatterpolargl\": [{\"marker\": {\"colorbar\": {\"outlinewidth\": 0, \"ticks\": \"\"}}, \"type\": \"scatterpolargl\"}], \"scatterternary\": [{\"marker\": {\"colorbar\": {\"outlinewidth\": 0, \"ticks\": \"\"}}, \"type\": \"scatterternary\"}], \"surface\": [{\"colorbar\": {\"outlinewidth\": 0, \"ticks\": \"\"}, \"colorscale\": [[0.0, \"#0d0887\"], [0.1111111111111111, \"#46039f\"], [0.2222222222222222, \"#7201a8\"], [0.3333333333333333, \"#9c179e\"], [0.4444444444444444, \"#bd3786\"], [0.5555555555555556, \"#d8576b\"], [0.6666666666666666, \"#ed7953\"], [0.7777777777777778, \"#fb9f3a\"], [0.8888888888888888, \"#fdca26\"], [1.0, \"#f0f921\"]], \"type\": \"surface\"}], \"table\": [{\"cells\": {\"fill\": {\"color\": \"#EBF0F8\"}, \"line\": {\"color\": \"white\"}}, \"header\": {\"fill\": {\"color\": \"#C8D4E3\"}, \"line\": {\"color\": \"white\"}}, \"type\": \"table\"}]}, \"layout\": {\"annotationdefaults\": {\"arrowcolor\": \"#2a3f5f\", \"arrowhead\": 0, \"arrowwidth\": 1}, \"autotypenumbers\": \"strict\", \"coloraxis\": {\"colorbar\": {\"outlinewidth\": 0, \"ticks\": \"\"}}, \"colorscale\": {\"diverging\": [[0, \"#8e0152\"], [0.1, \"#c51b7d\"], [0.2, \"#de77ae\"], [0.3, \"#f1b6da\"], [0.4, \"#fde0ef\"], [0.5, \"#f7f7f7\"], [0.6, \"#e6f5d0\"], [0.7, \"#b8e186\"], [0.8, \"#7fbc41\"], [0.9, \"#4d9221\"], [1, \"#276419\"]], \"sequential\": [[0.0, \"#0d0887\"], [0.1111111111111111, \"#46039f\"], [0.2222222222222222, \"#7201a8\"], [0.3333333333333333, \"#9c179e\"], [0.4444444444444444, \"#bd3786\"], [0.5555555555555556, \"#d8576b\"], [0.6666666666666666, \"#ed7953\"], [0.7777777777777778, \"#fb9f3a\"], [0.8888888888888888, \"#fdca26\"], [1.0, \"#f0f921\"]], \"sequentialminus\": [[0.0, \"#0d0887\"], [0.1111111111111111, \"#46039f\"], [0.2222222222222222, \"#7201a8\"], [0.3333333333333333, \"#9c179e\"], [0.4444444444444444, \"#bd3786\"], [0.5555555555555556, \"#d8576b\"], [0.6666666666666666, \"#ed7953\"], [0.7777777777777778, \"#fb9f3a\"], [0.8888888888888888, \"#fdca26\"], [1.0, \"#f0f921\"]]}, \"colorway\": [\"#636efa\", \"#EF553B\", \"#00cc96\", \"#ab63fa\", \"#FFA15A\", \"#19d3f3\", \"#FF6692\", \"#B6E880\", \"#FF97FF\", \"#FECB52\"], \"font\": {\"color\": \"#2a3f5f\"}, \"geo\": {\"bgcolor\": \"white\", \"lakecolor\": \"white\", \"landcolor\": \"#E5ECF6\", \"showlakes\": true, \"showland\": true, \"subunitcolor\": \"white\"}, \"hoverlabel\": {\"align\": \"left\"}, \"hovermode\": \"closest\", \"mapbox\": {\"style\": \"light\"}, \"paper_bgcolor\": \"white\", \"plot_bgcolor\": \"#E5ECF6\", \"polar\": {\"angularaxis\": {\"gridcolor\": \"white\", \"linecolor\": \"white\", \"ticks\": \"\"}, \"bgcolor\": \"#E5ECF6\", \"radialaxis\": {\"gridcolor\": \"white\", \"linecolor\": \"white\", \"ticks\": \"\"}}, \"scene\": {\"xaxis\": {\"backgroundcolor\": \"#E5ECF6\", \"gridcolor\": \"white\", \"gridwidth\": 2, \"linecolor\": \"white\", \"showbackground\": true, \"ticks\": \"\", \"zerolinecolor\": \"white\"}, \"yaxis\": {\"backgroundcolor\": \"#E5ECF6\", \"gridcolor\": \"white\", \"gridwidth\": 2, \"linecolor\": \"white\", \"showbackground\": true, \"ticks\": \"\", \"zerolinecolor\": \"white\"}, \"zaxis\": {\"backgroundcolor\": \"#E5ECF6\", \"gridcolor\": \"white\", \"gridwidth\": 2, \"linecolor\": \"white\", \"showbackground\": true, \"ticks\": \"\", \"zerolinecolor\": \"white\"}}, \"shapedefaults\": {\"line\": {\"color\": \"#2a3f5f\"}}, \"ternary\": {\"aaxis\": {\"gridcolor\": \"white\", \"linecolor\": \"white\", \"ticks\": \"\"}, \"baxis\": {\"gridcolor\": \"white\", \"linecolor\": \"white\", \"ticks\": \"\"}, \"bgcolor\": \"#E5ECF6\", \"caxis\": {\"gridcolor\": \"white\", \"linecolor\": \"white\", \"ticks\": \"\"}}, \"title\": {\"x\": 0.05}, \"xaxis\": {\"automargin\": true, \"gridcolor\": \"white\", \"linecolor\": \"white\", \"ticks\": \"\", \"title\": {\"standoff\": 15}, \"zerolinecolor\": \"white\", \"zerolinewidth\": 2}, \"yaxis\": {\"automargin\": true, \"gridcolor\": \"white\", \"linecolor\": \"white\", \"ticks\": \"\", \"title\": {\"standoff\": 15}, \"zerolinecolor\": \"white\", \"zerolinewidth\": 2}}}, \"title\": {\"text\": \"2020 Certifications by Primary Type\"}, \"xaxis\": {\"anchor\": \"y\", \"domain\": [0.0, 1.0], \"title\": {\"text\": \"primaryType\"}}, \"yaxis\": {\"anchor\": \"x\", \"domain\": [0.0, 1.0], \"title\": {\"text\": \"oshwaUid\"}}},                        {\"responsive\": true}                    ).then(function(){\n",
       "                            \n",
       "var gd = document.getElementById('030e1e41-d828-413b-9db5-02b8cd3142b4');\n",
       "var x = new MutationObserver(function (mutations, observer) {{\n",
       "        var display = window.getComputedStyle(gd).display;\n",
       "        if (!display || display === 'none') {{\n",
       "            console.log([gd, 'removed!']);\n",
       "            Plotly.purge(gd);\n",
       "            observer.disconnect();\n",
       "        }}\n",
       "}});\n",
       "\n",
       "// Listen for the removal of the full notebook cells\n",
       "var notebookContainer = gd.closest('#notebook-container');\n",
       "if (notebookContainer) {{\n",
       "    x.observe(notebookContainer, {childList: true});\n",
       "}}\n",
       "\n",
       "// Listen for the clearing of the current output cell\n",
       "var outputEl = gd.closest('.output');\n",
       "if (outputEl) {{\n",
       "    x.observe(outputEl, {childList: true});\n",
       "}}\n",
       "\n",
       "                        })                };                });            </script>        </div>"
      ]
     },
     "metadata": {},
     "output_type": "display_data"
    }
   ],
   "source": [
    "pt_data = df2020.groupby(\"primaryType\").count().sort_values(\"oshwaUid\",ascending=False)\n",
    "fig = px.bar(pt_data,y=\"oshwaUid\",title=\"2020 Certifications by Primary Type\")\n",
    "fig.show()"
   ]
  },
  {
   "cell_type": "code",
   "execution_count": 46,
   "metadata": {},
   "outputs": [
    {
     "data": {
      "application/vnd.plotly.v1+json": {
       "config": {
        "plotlyServerURL": "https://plot.ly"
       },
       "data": [
        {
         "alignmentgroup": "True",
         "hovertemplate": "hardwareLicense=%{x}<br>oshwaUid=%{y}<extra></extra>",
         "legendgroup": "",
         "marker": {
          "color": "#636efa"
         },
         "name": "",
         "offsetgroup": "",
         "orientation": "v",
         "showlegend": false,
         "textposition": "auto",
         "type": "bar",
         "x": [
          "Other",
          "CERN",
          "TAPR",
          "Solderpad"
         ],
         "xaxis": "x",
         "y": [
          548,
          393,
          6,
          2
         ],
         "yaxis": "y"
        }
       ],
       "layout": {
        "barmode": "relative",
        "legend": {
         "tracegroupgap": 0
        },
        "template": {
         "data": {
          "bar": [
           {
            "error_x": {
             "color": "#2a3f5f"
            },
            "error_y": {
             "color": "#2a3f5f"
            },
            "marker": {
             "line": {
              "color": "#E5ECF6",
              "width": 0.5
             }
            },
            "type": "bar"
           }
          ],
          "barpolar": [
           {
            "marker": {
             "line": {
              "color": "#E5ECF6",
              "width": 0.5
             }
            },
            "type": "barpolar"
           }
          ],
          "carpet": [
           {
            "aaxis": {
             "endlinecolor": "#2a3f5f",
             "gridcolor": "white",
             "linecolor": "white",
             "minorgridcolor": "white",
             "startlinecolor": "#2a3f5f"
            },
            "baxis": {
             "endlinecolor": "#2a3f5f",
             "gridcolor": "white",
             "linecolor": "white",
             "minorgridcolor": "white",
             "startlinecolor": "#2a3f5f"
            },
            "type": "carpet"
           }
          ],
          "choropleth": [
           {
            "colorbar": {
             "outlinewidth": 0,
             "ticks": ""
            },
            "type": "choropleth"
           }
          ],
          "contour": [
           {
            "colorbar": {
             "outlinewidth": 0,
             "ticks": ""
            },
            "colorscale": [
             [
              0,
              "#0d0887"
             ],
             [
              0.1111111111111111,
              "#46039f"
             ],
             [
              0.2222222222222222,
              "#7201a8"
             ],
             [
              0.3333333333333333,
              "#9c179e"
             ],
             [
              0.4444444444444444,
              "#bd3786"
             ],
             [
              0.5555555555555556,
              "#d8576b"
             ],
             [
              0.6666666666666666,
              "#ed7953"
             ],
             [
              0.7777777777777778,
              "#fb9f3a"
             ],
             [
              0.8888888888888888,
              "#fdca26"
             ],
             [
              1,
              "#f0f921"
             ]
            ],
            "type": "contour"
           }
          ],
          "contourcarpet": [
           {
            "colorbar": {
             "outlinewidth": 0,
             "ticks": ""
            },
            "type": "contourcarpet"
           }
          ],
          "heatmap": [
           {
            "colorbar": {
             "outlinewidth": 0,
             "ticks": ""
            },
            "colorscale": [
             [
              0,
              "#0d0887"
             ],
             [
              0.1111111111111111,
              "#46039f"
             ],
             [
              0.2222222222222222,
              "#7201a8"
             ],
             [
              0.3333333333333333,
              "#9c179e"
             ],
             [
              0.4444444444444444,
              "#bd3786"
             ],
             [
              0.5555555555555556,
              "#d8576b"
             ],
             [
              0.6666666666666666,
              "#ed7953"
             ],
             [
              0.7777777777777778,
              "#fb9f3a"
             ],
             [
              0.8888888888888888,
              "#fdca26"
             ],
             [
              1,
              "#f0f921"
             ]
            ],
            "type": "heatmap"
           }
          ],
          "heatmapgl": [
           {
            "colorbar": {
             "outlinewidth": 0,
             "ticks": ""
            },
            "colorscale": [
             [
              0,
              "#0d0887"
             ],
             [
              0.1111111111111111,
              "#46039f"
             ],
             [
              0.2222222222222222,
              "#7201a8"
             ],
             [
              0.3333333333333333,
              "#9c179e"
             ],
             [
              0.4444444444444444,
              "#bd3786"
             ],
             [
              0.5555555555555556,
              "#d8576b"
             ],
             [
              0.6666666666666666,
              "#ed7953"
             ],
             [
              0.7777777777777778,
              "#fb9f3a"
             ],
             [
              0.8888888888888888,
              "#fdca26"
             ],
             [
              1,
              "#f0f921"
             ]
            ],
            "type": "heatmapgl"
           }
          ],
          "histogram": [
           {
            "marker": {
             "colorbar": {
              "outlinewidth": 0,
              "ticks": ""
             }
            },
            "type": "histogram"
           }
          ],
          "histogram2d": [
           {
            "colorbar": {
             "outlinewidth": 0,
             "ticks": ""
            },
            "colorscale": [
             [
              0,
              "#0d0887"
             ],
             [
              0.1111111111111111,
              "#46039f"
             ],
             [
              0.2222222222222222,
              "#7201a8"
             ],
             [
              0.3333333333333333,
              "#9c179e"
             ],
             [
              0.4444444444444444,
              "#bd3786"
             ],
             [
              0.5555555555555556,
              "#d8576b"
             ],
             [
              0.6666666666666666,
              "#ed7953"
             ],
             [
              0.7777777777777778,
              "#fb9f3a"
             ],
             [
              0.8888888888888888,
              "#fdca26"
             ],
             [
              1,
              "#f0f921"
             ]
            ],
            "type": "histogram2d"
           }
          ],
          "histogram2dcontour": [
           {
            "colorbar": {
             "outlinewidth": 0,
             "ticks": ""
            },
            "colorscale": [
             [
              0,
              "#0d0887"
             ],
             [
              0.1111111111111111,
              "#46039f"
             ],
             [
              0.2222222222222222,
              "#7201a8"
             ],
             [
              0.3333333333333333,
              "#9c179e"
             ],
             [
              0.4444444444444444,
              "#bd3786"
             ],
             [
              0.5555555555555556,
              "#d8576b"
             ],
             [
              0.6666666666666666,
              "#ed7953"
             ],
             [
              0.7777777777777778,
              "#fb9f3a"
             ],
             [
              0.8888888888888888,
              "#fdca26"
             ],
             [
              1,
              "#f0f921"
             ]
            ],
            "type": "histogram2dcontour"
           }
          ],
          "mesh3d": [
           {
            "colorbar": {
             "outlinewidth": 0,
             "ticks": ""
            },
            "type": "mesh3d"
           }
          ],
          "parcoords": [
           {
            "line": {
             "colorbar": {
              "outlinewidth": 0,
              "ticks": ""
             }
            },
            "type": "parcoords"
           }
          ],
          "pie": [
           {
            "automargin": true,
            "type": "pie"
           }
          ],
          "scatter": [
           {
            "marker": {
             "colorbar": {
              "outlinewidth": 0,
              "ticks": ""
             }
            },
            "type": "scatter"
           }
          ],
          "scatter3d": [
           {
            "line": {
             "colorbar": {
              "outlinewidth": 0,
              "ticks": ""
             }
            },
            "marker": {
             "colorbar": {
              "outlinewidth": 0,
              "ticks": ""
             }
            },
            "type": "scatter3d"
           }
          ],
          "scattercarpet": [
           {
            "marker": {
             "colorbar": {
              "outlinewidth": 0,
              "ticks": ""
             }
            },
            "type": "scattercarpet"
           }
          ],
          "scattergeo": [
           {
            "marker": {
             "colorbar": {
              "outlinewidth": 0,
              "ticks": ""
             }
            },
            "type": "scattergeo"
           }
          ],
          "scattergl": [
           {
            "marker": {
             "colorbar": {
              "outlinewidth": 0,
              "ticks": ""
             }
            },
            "type": "scattergl"
           }
          ],
          "scattermapbox": [
           {
            "marker": {
             "colorbar": {
              "outlinewidth": 0,
              "ticks": ""
             }
            },
            "type": "scattermapbox"
           }
          ],
          "scatterpolar": [
           {
            "marker": {
             "colorbar": {
              "outlinewidth": 0,
              "ticks": ""
             }
            },
            "type": "scatterpolar"
           }
          ],
          "scatterpolargl": [
           {
            "marker": {
             "colorbar": {
              "outlinewidth": 0,
              "ticks": ""
             }
            },
            "type": "scatterpolargl"
           }
          ],
          "scatterternary": [
           {
            "marker": {
             "colorbar": {
              "outlinewidth": 0,
              "ticks": ""
             }
            },
            "type": "scatterternary"
           }
          ],
          "surface": [
           {
            "colorbar": {
             "outlinewidth": 0,
             "ticks": ""
            },
            "colorscale": [
             [
              0,
              "#0d0887"
             ],
             [
              0.1111111111111111,
              "#46039f"
             ],
             [
              0.2222222222222222,
              "#7201a8"
             ],
             [
              0.3333333333333333,
              "#9c179e"
             ],
             [
              0.4444444444444444,
              "#bd3786"
             ],
             [
              0.5555555555555556,
              "#d8576b"
             ],
             [
              0.6666666666666666,
              "#ed7953"
             ],
             [
              0.7777777777777778,
              "#fb9f3a"
             ],
             [
              0.8888888888888888,
              "#fdca26"
             ],
             [
              1,
              "#f0f921"
             ]
            ],
            "type": "surface"
           }
          ],
          "table": [
           {
            "cells": {
             "fill": {
              "color": "#EBF0F8"
             },
             "line": {
              "color": "white"
             }
            },
            "header": {
             "fill": {
              "color": "#C8D4E3"
             },
             "line": {
              "color": "white"
             }
            },
            "type": "table"
           }
          ]
         },
         "layout": {
          "annotationdefaults": {
           "arrowcolor": "#2a3f5f",
           "arrowhead": 0,
           "arrowwidth": 1
          },
          "autotypenumbers": "strict",
          "coloraxis": {
           "colorbar": {
            "outlinewidth": 0,
            "ticks": ""
           }
          },
          "colorscale": {
           "diverging": [
            [
             0,
             "#8e0152"
            ],
            [
             0.1,
             "#c51b7d"
            ],
            [
             0.2,
             "#de77ae"
            ],
            [
             0.3,
             "#f1b6da"
            ],
            [
             0.4,
             "#fde0ef"
            ],
            [
             0.5,
             "#f7f7f7"
            ],
            [
             0.6,
             "#e6f5d0"
            ],
            [
             0.7,
             "#b8e186"
            ],
            [
             0.8,
             "#7fbc41"
            ],
            [
             0.9,
             "#4d9221"
            ],
            [
             1,
             "#276419"
            ]
           ],
           "sequential": [
            [
             0,
             "#0d0887"
            ],
            [
             0.1111111111111111,
             "#46039f"
            ],
            [
             0.2222222222222222,
             "#7201a8"
            ],
            [
             0.3333333333333333,
             "#9c179e"
            ],
            [
             0.4444444444444444,
             "#bd3786"
            ],
            [
             0.5555555555555556,
             "#d8576b"
            ],
            [
             0.6666666666666666,
             "#ed7953"
            ],
            [
             0.7777777777777778,
             "#fb9f3a"
            ],
            [
             0.8888888888888888,
             "#fdca26"
            ],
            [
             1,
             "#f0f921"
            ]
           ],
           "sequentialminus": [
            [
             0,
             "#0d0887"
            ],
            [
             0.1111111111111111,
             "#46039f"
            ],
            [
             0.2222222222222222,
             "#7201a8"
            ],
            [
             0.3333333333333333,
             "#9c179e"
            ],
            [
             0.4444444444444444,
             "#bd3786"
            ],
            [
             0.5555555555555556,
             "#d8576b"
            ],
            [
             0.6666666666666666,
             "#ed7953"
            ],
            [
             0.7777777777777778,
             "#fb9f3a"
            ],
            [
             0.8888888888888888,
             "#fdca26"
            ],
            [
             1,
             "#f0f921"
            ]
           ]
          },
          "colorway": [
           "#636efa",
           "#EF553B",
           "#00cc96",
           "#ab63fa",
           "#FFA15A",
           "#19d3f3",
           "#FF6692",
           "#B6E880",
           "#FF97FF",
           "#FECB52"
          ],
          "font": {
           "color": "#2a3f5f"
          },
          "geo": {
           "bgcolor": "white",
           "lakecolor": "white",
           "landcolor": "#E5ECF6",
           "showlakes": true,
           "showland": true,
           "subunitcolor": "white"
          },
          "hoverlabel": {
           "align": "left"
          },
          "hovermode": "closest",
          "mapbox": {
           "style": "light"
          },
          "paper_bgcolor": "white",
          "plot_bgcolor": "#E5ECF6",
          "polar": {
           "angularaxis": {
            "gridcolor": "white",
            "linecolor": "white",
            "ticks": ""
           },
           "bgcolor": "#E5ECF6",
           "radialaxis": {
            "gridcolor": "white",
            "linecolor": "white",
            "ticks": ""
           }
          },
          "scene": {
           "xaxis": {
            "backgroundcolor": "#E5ECF6",
            "gridcolor": "white",
            "gridwidth": 2,
            "linecolor": "white",
            "showbackground": true,
            "ticks": "",
            "zerolinecolor": "white"
           },
           "yaxis": {
            "backgroundcolor": "#E5ECF6",
            "gridcolor": "white",
            "gridwidth": 2,
            "linecolor": "white",
            "showbackground": true,
            "ticks": "",
            "zerolinecolor": "white"
           },
           "zaxis": {
            "backgroundcolor": "#E5ECF6",
            "gridcolor": "white",
            "gridwidth": 2,
            "linecolor": "white",
            "showbackground": true,
            "ticks": "",
            "zerolinecolor": "white"
           }
          },
          "shapedefaults": {
           "line": {
            "color": "#2a3f5f"
           }
          },
          "ternary": {
           "aaxis": {
            "gridcolor": "white",
            "linecolor": "white",
            "ticks": ""
           },
           "baxis": {
            "gridcolor": "white",
            "linecolor": "white",
            "ticks": ""
           },
           "bgcolor": "#E5ECF6",
           "caxis": {
            "gridcolor": "white",
            "linecolor": "white",
            "ticks": ""
           }
          },
          "title": {
           "x": 0.05
          },
          "xaxis": {
           "automargin": true,
           "gridcolor": "white",
           "linecolor": "white",
           "ticks": "",
           "title": {
            "standoff": 15
           },
           "zerolinecolor": "white",
           "zerolinewidth": 2
          },
          "yaxis": {
           "automargin": true,
           "gridcolor": "white",
           "linecolor": "white",
           "ticks": "",
           "title": {
            "standoff": 15
           },
           "zerolinecolor": "white",
           "zerolinewidth": 2
          }
         }
        },
        "title": {
         "text": "2020 Certifications by Hardware License"
        },
        "xaxis": {
         "anchor": "y",
         "domain": [
          0,
          1
         ],
         "title": {
          "text": "hardwareLicense"
         }
        },
        "yaxis": {
         "anchor": "x",
         "domain": [
          0,
          1
         ],
         "title": {
          "text": "oshwaUid"
         }
        }
       }
      },
      "text/html": [
       "<div>                            <div id=\"f0777ee7-c741-4681-ab12-b4ba70d0ab6b\" class=\"plotly-graph-div\" style=\"height:525px; width:100%;\"></div>            <script type=\"text/javascript\">                require([\"plotly\"], function(Plotly) {                    window.PLOTLYENV=window.PLOTLYENV || {};                                    if (document.getElementById(\"f0777ee7-c741-4681-ab12-b4ba70d0ab6b\")) {                    Plotly.newPlot(                        \"f0777ee7-c741-4681-ab12-b4ba70d0ab6b\",                        [{\"alignmentgroup\": \"True\", \"hovertemplate\": \"hardwareLicense=%{x}<br>oshwaUid=%{y}<extra></extra>\", \"legendgroup\": \"\", \"marker\": {\"color\": \"#636efa\"}, \"name\": \"\", \"offsetgroup\": \"\", \"orientation\": \"v\", \"showlegend\": false, \"textposition\": \"auto\", \"type\": \"bar\", \"x\": [\"Other\", \"CERN\", \"TAPR\", \"Solderpad\"], \"xaxis\": \"x\", \"y\": [548, 393, 6, 2], \"yaxis\": \"y\"}],                        {\"barmode\": \"relative\", \"legend\": {\"tracegroupgap\": 0}, \"template\": {\"data\": {\"bar\": [{\"error_x\": {\"color\": \"#2a3f5f\"}, \"error_y\": {\"color\": \"#2a3f5f\"}, \"marker\": {\"line\": {\"color\": \"#E5ECF6\", \"width\": 0.5}}, \"type\": \"bar\"}], \"barpolar\": [{\"marker\": {\"line\": {\"color\": \"#E5ECF6\", \"width\": 0.5}}, \"type\": \"barpolar\"}], \"carpet\": [{\"aaxis\": {\"endlinecolor\": \"#2a3f5f\", \"gridcolor\": \"white\", \"linecolor\": \"white\", \"minorgridcolor\": \"white\", \"startlinecolor\": \"#2a3f5f\"}, \"baxis\": {\"endlinecolor\": \"#2a3f5f\", \"gridcolor\": \"white\", \"linecolor\": \"white\", \"minorgridcolor\": \"white\", \"startlinecolor\": \"#2a3f5f\"}, \"type\": \"carpet\"}], \"choropleth\": [{\"colorbar\": {\"outlinewidth\": 0, \"ticks\": \"\"}, \"type\": \"choropleth\"}], \"contour\": [{\"colorbar\": {\"outlinewidth\": 0, \"ticks\": \"\"}, \"colorscale\": [[0.0, \"#0d0887\"], [0.1111111111111111, \"#46039f\"], [0.2222222222222222, \"#7201a8\"], [0.3333333333333333, \"#9c179e\"], [0.4444444444444444, \"#bd3786\"], [0.5555555555555556, \"#d8576b\"], [0.6666666666666666, \"#ed7953\"], [0.7777777777777778, \"#fb9f3a\"], [0.8888888888888888, \"#fdca26\"], [1.0, \"#f0f921\"]], \"type\": \"contour\"}], \"contourcarpet\": [{\"colorbar\": {\"outlinewidth\": 0, \"ticks\": \"\"}, \"type\": \"contourcarpet\"}], \"heatmap\": [{\"colorbar\": {\"outlinewidth\": 0, \"ticks\": \"\"}, \"colorscale\": [[0.0, \"#0d0887\"], [0.1111111111111111, \"#46039f\"], [0.2222222222222222, \"#7201a8\"], [0.3333333333333333, \"#9c179e\"], [0.4444444444444444, \"#bd3786\"], [0.5555555555555556, \"#d8576b\"], [0.6666666666666666, \"#ed7953\"], [0.7777777777777778, \"#fb9f3a\"], [0.8888888888888888, \"#fdca26\"], [1.0, \"#f0f921\"]], \"type\": \"heatmap\"}], \"heatmapgl\": [{\"colorbar\": {\"outlinewidth\": 0, \"ticks\": \"\"}, \"colorscale\": [[0.0, \"#0d0887\"], [0.1111111111111111, \"#46039f\"], [0.2222222222222222, \"#7201a8\"], [0.3333333333333333, \"#9c179e\"], [0.4444444444444444, \"#bd3786\"], [0.5555555555555556, \"#d8576b\"], [0.6666666666666666, \"#ed7953\"], [0.7777777777777778, \"#fb9f3a\"], [0.8888888888888888, \"#fdca26\"], [1.0, \"#f0f921\"]], \"type\": \"heatmapgl\"}], \"histogram\": [{\"marker\": {\"colorbar\": {\"outlinewidth\": 0, \"ticks\": \"\"}}, \"type\": \"histogram\"}], \"histogram2d\": [{\"colorbar\": {\"outlinewidth\": 0, \"ticks\": \"\"}, \"colorscale\": [[0.0, \"#0d0887\"], [0.1111111111111111, \"#46039f\"], [0.2222222222222222, \"#7201a8\"], [0.3333333333333333, \"#9c179e\"], [0.4444444444444444, \"#bd3786\"], [0.5555555555555556, \"#d8576b\"], [0.6666666666666666, \"#ed7953\"], [0.7777777777777778, \"#fb9f3a\"], [0.8888888888888888, \"#fdca26\"], [1.0, \"#f0f921\"]], \"type\": \"histogram2d\"}], \"histogram2dcontour\": [{\"colorbar\": {\"outlinewidth\": 0, \"ticks\": \"\"}, \"colorscale\": [[0.0, \"#0d0887\"], [0.1111111111111111, \"#46039f\"], [0.2222222222222222, \"#7201a8\"], [0.3333333333333333, \"#9c179e\"], [0.4444444444444444, \"#bd3786\"], [0.5555555555555556, \"#d8576b\"], [0.6666666666666666, \"#ed7953\"], [0.7777777777777778, \"#fb9f3a\"], [0.8888888888888888, \"#fdca26\"], [1.0, \"#f0f921\"]], \"type\": \"histogram2dcontour\"}], \"mesh3d\": [{\"colorbar\": {\"outlinewidth\": 0, \"ticks\": \"\"}, \"type\": \"mesh3d\"}], \"parcoords\": [{\"line\": {\"colorbar\": {\"outlinewidth\": 0, \"ticks\": \"\"}}, \"type\": \"parcoords\"}], \"pie\": [{\"automargin\": true, \"type\": \"pie\"}], \"scatter\": [{\"marker\": {\"colorbar\": {\"outlinewidth\": 0, \"ticks\": \"\"}}, \"type\": \"scatter\"}], \"scatter3d\": [{\"line\": {\"colorbar\": {\"outlinewidth\": 0, \"ticks\": \"\"}}, \"marker\": {\"colorbar\": {\"outlinewidth\": 0, \"ticks\": \"\"}}, \"type\": \"scatter3d\"}], \"scattercarpet\": [{\"marker\": {\"colorbar\": {\"outlinewidth\": 0, \"ticks\": \"\"}}, \"type\": \"scattercarpet\"}], \"scattergeo\": [{\"marker\": {\"colorbar\": {\"outlinewidth\": 0, \"ticks\": \"\"}}, \"type\": \"scattergeo\"}], \"scattergl\": [{\"marker\": {\"colorbar\": {\"outlinewidth\": 0, \"ticks\": \"\"}}, \"type\": \"scattergl\"}], \"scattermapbox\": [{\"marker\": {\"colorbar\": {\"outlinewidth\": 0, \"ticks\": \"\"}}, \"type\": \"scattermapbox\"}], \"scatterpolar\": [{\"marker\": {\"colorbar\": {\"outlinewidth\": 0, \"ticks\": \"\"}}, \"type\": \"scatterpolar\"}], \"scatterpolargl\": [{\"marker\": {\"colorbar\": {\"outlinewidth\": 0, \"ticks\": \"\"}}, \"type\": \"scatterpolargl\"}], \"scatterternary\": [{\"marker\": {\"colorbar\": {\"outlinewidth\": 0, \"ticks\": \"\"}}, \"type\": \"scatterternary\"}], \"surface\": [{\"colorbar\": {\"outlinewidth\": 0, \"ticks\": \"\"}, \"colorscale\": [[0.0, \"#0d0887\"], [0.1111111111111111, \"#46039f\"], [0.2222222222222222, \"#7201a8\"], [0.3333333333333333, \"#9c179e\"], [0.4444444444444444, \"#bd3786\"], [0.5555555555555556, \"#d8576b\"], [0.6666666666666666, \"#ed7953\"], [0.7777777777777778, \"#fb9f3a\"], [0.8888888888888888, \"#fdca26\"], [1.0, \"#f0f921\"]], \"type\": \"surface\"}], \"table\": [{\"cells\": {\"fill\": {\"color\": \"#EBF0F8\"}, \"line\": {\"color\": \"white\"}}, \"header\": {\"fill\": {\"color\": \"#C8D4E3\"}, \"line\": {\"color\": \"white\"}}, \"type\": \"table\"}]}, \"layout\": {\"annotationdefaults\": {\"arrowcolor\": \"#2a3f5f\", \"arrowhead\": 0, \"arrowwidth\": 1}, \"autotypenumbers\": \"strict\", \"coloraxis\": {\"colorbar\": {\"outlinewidth\": 0, \"ticks\": \"\"}}, \"colorscale\": {\"diverging\": [[0, \"#8e0152\"], [0.1, \"#c51b7d\"], [0.2, \"#de77ae\"], [0.3, \"#f1b6da\"], [0.4, \"#fde0ef\"], [0.5, \"#f7f7f7\"], [0.6, \"#e6f5d0\"], [0.7, \"#b8e186\"], [0.8, \"#7fbc41\"], [0.9, \"#4d9221\"], [1, \"#276419\"]], \"sequential\": [[0.0, \"#0d0887\"], [0.1111111111111111, \"#46039f\"], [0.2222222222222222, \"#7201a8\"], [0.3333333333333333, \"#9c179e\"], [0.4444444444444444, \"#bd3786\"], [0.5555555555555556, \"#d8576b\"], [0.6666666666666666, \"#ed7953\"], [0.7777777777777778, \"#fb9f3a\"], [0.8888888888888888, \"#fdca26\"], [1.0, \"#f0f921\"]], \"sequentialminus\": [[0.0, \"#0d0887\"], [0.1111111111111111, \"#46039f\"], [0.2222222222222222, \"#7201a8\"], [0.3333333333333333, \"#9c179e\"], [0.4444444444444444, \"#bd3786\"], [0.5555555555555556, \"#d8576b\"], [0.6666666666666666, \"#ed7953\"], [0.7777777777777778, \"#fb9f3a\"], [0.8888888888888888, \"#fdca26\"], [1.0, \"#f0f921\"]]}, \"colorway\": [\"#636efa\", \"#EF553B\", \"#00cc96\", \"#ab63fa\", \"#FFA15A\", \"#19d3f3\", \"#FF6692\", \"#B6E880\", \"#FF97FF\", \"#FECB52\"], \"font\": {\"color\": \"#2a3f5f\"}, \"geo\": {\"bgcolor\": \"white\", \"lakecolor\": \"white\", \"landcolor\": \"#E5ECF6\", \"showlakes\": true, \"showland\": true, \"subunitcolor\": \"white\"}, \"hoverlabel\": {\"align\": \"left\"}, \"hovermode\": \"closest\", \"mapbox\": {\"style\": \"light\"}, \"paper_bgcolor\": \"white\", \"plot_bgcolor\": \"#E5ECF6\", \"polar\": {\"angularaxis\": {\"gridcolor\": \"white\", \"linecolor\": \"white\", \"ticks\": \"\"}, \"bgcolor\": \"#E5ECF6\", \"radialaxis\": {\"gridcolor\": \"white\", \"linecolor\": \"white\", \"ticks\": \"\"}}, \"scene\": {\"xaxis\": {\"backgroundcolor\": \"#E5ECF6\", \"gridcolor\": \"white\", \"gridwidth\": 2, \"linecolor\": \"white\", \"showbackground\": true, \"ticks\": \"\", \"zerolinecolor\": \"white\"}, \"yaxis\": {\"backgroundcolor\": \"#E5ECF6\", \"gridcolor\": \"white\", \"gridwidth\": 2, \"linecolor\": \"white\", \"showbackground\": true, \"ticks\": \"\", \"zerolinecolor\": \"white\"}, \"zaxis\": {\"backgroundcolor\": \"#E5ECF6\", \"gridcolor\": \"white\", \"gridwidth\": 2, \"linecolor\": \"white\", \"showbackground\": true, \"ticks\": \"\", \"zerolinecolor\": \"white\"}}, \"shapedefaults\": {\"line\": {\"color\": \"#2a3f5f\"}}, \"ternary\": {\"aaxis\": {\"gridcolor\": \"white\", \"linecolor\": \"white\", \"ticks\": \"\"}, \"baxis\": {\"gridcolor\": \"white\", \"linecolor\": \"white\", \"ticks\": \"\"}, \"bgcolor\": \"#E5ECF6\", \"caxis\": {\"gridcolor\": \"white\", \"linecolor\": \"white\", \"ticks\": \"\"}}, \"title\": {\"x\": 0.05}, \"xaxis\": {\"automargin\": true, \"gridcolor\": \"white\", \"linecolor\": \"white\", \"ticks\": \"\", \"title\": {\"standoff\": 15}, \"zerolinecolor\": \"white\", \"zerolinewidth\": 2}, \"yaxis\": {\"automargin\": true, \"gridcolor\": \"white\", \"linecolor\": \"white\", \"ticks\": \"\", \"title\": {\"standoff\": 15}, \"zerolinecolor\": \"white\", \"zerolinewidth\": 2}}}, \"title\": {\"text\": \"2020 Certifications by Hardware License\"}, \"xaxis\": {\"anchor\": \"y\", \"domain\": [0.0, 1.0], \"title\": {\"text\": \"hardwareLicense\"}}, \"yaxis\": {\"anchor\": \"x\", \"domain\": [0.0, 1.0], \"title\": {\"text\": \"oshwaUid\"}}},                        {\"responsive\": true}                    ).then(function(){\n",
       "                            \n",
       "var gd = document.getElementById('f0777ee7-c741-4681-ab12-b4ba70d0ab6b');\n",
       "var x = new MutationObserver(function (mutations, observer) {{\n",
       "        var display = window.getComputedStyle(gd).display;\n",
       "        if (!display || display === 'none') {{\n",
       "            console.log([gd, 'removed!']);\n",
       "            Plotly.purge(gd);\n",
       "            observer.disconnect();\n",
       "        }}\n",
       "}});\n",
       "\n",
       "// Listen for the removal of the full notebook cells\n",
       "var notebookContainer = gd.closest('#notebook-container');\n",
       "if (notebookContainer) {{\n",
       "    x.observe(notebookContainer, {childList: true});\n",
       "}}\n",
       "\n",
       "// Listen for the clearing of the current output cell\n",
       "var outputEl = gd.closest('.output');\n",
       "if (outputEl) {{\n",
       "    x.observe(outputEl, {childList: true});\n",
       "}}\n",
       "\n",
       "                        })                };                });            </script>        </div>"
      ]
     },
     "metadata": {},
     "output_type": "display_data"
    }
   ],
   "source": [
    "hl_data = df2020.groupby(\"hardwareLicense\").count().sort_values(\"oshwaUid\",ascending=False)\n",
    "fig = px.bar(hl_data,y=\"oshwaUid\",title=\"2020 Certifications by Hardware License\")\n",
    "fig.show()"
   ]
  },
  {
   "cell_type": "code",
   "execution_count": 47,
   "metadata": {},
   "outputs": [
    {
     "data": {
      "application/vnd.plotly.v1+json": {
       "config": {
        "plotlyServerURL": "https://plot.ly"
       },
       "data": [
        {
         "alignmentgroup": "True",
         "hovertemplate": "hardwareLicense=%{x}<br>oshwaUid=%{y}<extra></extra>",
         "legendgroup": "",
         "marker": {
          "color": "#636efa"
         },
         "name": "",
         "offsetgroup": "",
         "orientation": "v",
         "showlegend": false,
         "textposition": "auto",
         "type": "bar",
         "x": [
          "Other",
          "CERN",
          "TAPR",
          "Solderpad"
         ],
         "xaxis": "x",
         "y": [
          548,
          393,
          6,
          2
         ],
         "yaxis": "y"
        }
       ],
       "layout": {
        "barmode": "relative",
        "legend": {
         "tracegroupgap": 0
        },
        "template": {
         "data": {
          "bar": [
           {
            "error_x": {
             "color": "#2a3f5f"
            },
            "error_y": {
             "color": "#2a3f5f"
            },
            "marker": {
             "line": {
              "color": "#E5ECF6",
              "width": 0.5
             }
            },
            "type": "bar"
           }
          ],
          "barpolar": [
           {
            "marker": {
             "line": {
              "color": "#E5ECF6",
              "width": 0.5
             }
            },
            "type": "barpolar"
           }
          ],
          "carpet": [
           {
            "aaxis": {
             "endlinecolor": "#2a3f5f",
             "gridcolor": "white",
             "linecolor": "white",
             "minorgridcolor": "white",
             "startlinecolor": "#2a3f5f"
            },
            "baxis": {
             "endlinecolor": "#2a3f5f",
             "gridcolor": "white",
             "linecolor": "white",
             "minorgridcolor": "white",
             "startlinecolor": "#2a3f5f"
            },
            "type": "carpet"
           }
          ],
          "choropleth": [
           {
            "colorbar": {
             "outlinewidth": 0,
             "ticks": ""
            },
            "type": "choropleth"
           }
          ],
          "contour": [
           {
            "colorbar": {
             "outlinewidth": 0,
             "ticks": ""
            },
            "colorscale": [
             [
              0,
              "#0d0887"
             ],
             [
              0.1111111111111111,
              "#46039f"
             ],
             [
              0.2222222222222222,
              "#7201a8"
             ],
             [
              0.3333333333333333,
              "#9c179e"
             ],
             [
              0.4444444444444444,
              "#bd3786"
             ],
             [
              0.5555555555555556,
              "#d8576b"
             ],
             [
              0.6666666666666666,
              "#ed7953"
             ],
             [
              0.7777777777777778,
              "#fb9f3a"
             ],
             [
              0.8888888888888888,
              "#fdca26"
             ],
             [
              1,
              "#f0f921"
             ]
            ],
            "type": "contour"
           }
          ],
          "contourcarpet": [
           {
            "colorbar": {
             "outlinewidth": 0,
             "ticks": ""
            },
            "type": "contourcarpet"
           }
          ],
          "heatmap": [
           {
            "colorbar": {
             "outlinewidth": 0,
             "ticks": ""
            },
            "colorscale": [
             [
              0,
              "#0d0887"
             ],
             [
              0.1111111111111111,
              "#46039f"
             ],
             [
              0.2222222222222222,
              "#7201a8"
             ],
             [
              0.3333333333333333,
              "#9c179e"
             ],
             [
              0.4444444444444444,
              "#bd3786"
             ],
             [
              0.5555555555555556,
              "#d8576b"
             ],
             [
              0.6666666666666666,
              "#ed7953"
             ],
             [
              0.7777777777777778,
              "#fb9f3a"
             ],
             [
              0.8888888888888888,
              "#fdca26"
             ],
             [
              1,
              "#f0f921"
             ]
            ],
            "type": "heatmap"
           }
          ],
          "heatmapgl": [
           {
            "colorbar": {
             "outlinewidth": 0,
             "ticks": ""
            },
            "colorscale": [
             [
              0,
              "#0d0887"
             ],
             [
              0.1111111111111111,
              "#46039f"
             ],
             [
              0.2222222222222222,
              "#7201a8"
             ],
             [
              0.3333333333333333,
              "#9c179e"
             ],
             [
              0.4444444444444444,
              "#bd3786"
             ],
             [
              0.5555555555555556,
              "#d8576b"
             ],
             [
              0.6666666666666666,
              "#ed7953"
             ],
             [
              0.7777777777777778,
              "#fb9f3a"
             ],
             [
              0.8888888888888888,
              "#fdca26"
             ],
             [
              1,
              "#f0f921"
             ]
            ],
            "type": "heatmapgl"
           }
          ],
          "histogram": [
           {
            "marker": {
             "colorbar": {
              "outlinewidth": 0,
              "ticks": ""
             }
            },
            "type": "histogram"
           }
          ],
          "histogram2d": [
           {
            "colorbar": {
             "outlinewidth": 0,
             "ticks": ""
            },
            "colorscale": [
             [
              0,
              "#0d0887"
             ],
             [
              0.1111111111111111,
              "#46039f"
             ],
             [
              0.2222222222222222,
              "#7201a8"
             ],
             [
              0.3333333333333333,
              "#9c179e"
             ],
             [
              0.4444444444444444,
              "#bd3786"
             ],
             [
              0.5555555555555556,
              "#d8576b"
             ],
             [
              0.6666666666666666,
              "#ed7953"
             ],
             [
              0.7777777777777778,
              "#fb9f3a"
             ],
             [
              0.8888888888888888,
              "#fdca26"
             ],
             [
              1,
              "#f0f921"
             ]
            ],
            "type": "histogram2d"
           }
          ],
          "histogram2dcontour": [
           {
            "colorbar": {
             "outlinewidth": 0,
             "ticks": ""
            },
            "colorscale": [
             [
              0,
              "#0d0887"
             ],
             [
              0.1111111111111111,
              "#46039f"
             ],
             [
              0.2222222222222222,
              "#7201a8"
             ],
             [
              0.3333333333333333,
              "#9c179e"
             ],
             [
              0.4444444444444444,
              "#bd3786"
             ],
             [
              0.5555555555555556,
              "#d8576b"
             ],
             [
              0.6666666666666666,
              "#ed7953"
             ],
             [
              0.7777777777777778,
              "#fb9f3a"
             ],
             [
              0.8888888888888888,
              "#fdca26"
             ],
             [
              1,
              "#f0f921"
             ]
            ],
            "type": "histogram2dcontour"
           }
          ],
          "mesh3d": [
           {
            "colorbar": {
             "outlinewidth": 0,
             "ticks": ""
            },
            "type": "mesh3d"
           }
          ],
          "parcoords": [
           {
            "line": {
             "colorbar": {
              "outlinewidth": 0,
              "ticks": ""
             }
            },
            "type": "parcoords"
           }
          ],
          "pie": [
           {
            "automargin": true,
            "type": "pie"
           }
          ],
          "scatter": [
           {
            "marker": {
             "colorbar": {
              "outlinewidth": 0,
              "ticks": ""
             }
            },
            "type": "scatter"
           }
          ],
          "scatter3d": [
           {
            "line": {
             "colorbar": {
              "outlinewidth": 0,
              "ticks": ""
             }
            },
            "marker": {
             "colorbar": {
              "outlinewidth": 0,
              "ticks": ""
             }
            },
            "type": "scatter3d"
           }
          ],
          "scattercarpet": [
           {
            "marker": {
             "colorbar": {
              "outlinewidth": 0,
              "ticks": ""
             }
            },
            "type": "scattercarpet"
           }
          ],
          "scattergeo": [
           {
            "marker": {
             "colorbar": {
              "outlinewidth": 0,
              "ticks": ""
             }
            },
            "type": "scattergeo"
           }
          ],
          "scattergl": [
           {
            "marker": {
             "colorbar": {
              "outlinewidth": 0,
              "ticks": ""
             }
            },
            "type": "scattergl"
           }
          ],
          "scattermapbox": [
           {
            "marker": {
             "colorbar": {
              "outlinewidth": 0,
              "ticks": ""
             }
            },
            "type": "scattermapbox"
           }
          ],
          "scatterpolar": [
           {
            "marker": {
             "colorbar": {
              "outlinewidth": 0,
              "ticks": ""
             }
            },
            "type": "scatterpolar"
           }
          ],
          "scatterpolargl": [
           {
            "marker": {
             "colorbar": {
              "outlinewidth": 0,
              "ticks": ""
             }
            },
            "type": "scatterpolargl"
           }
          ],
          "scatterternary": [
           {
            "marker": {
             "colorbar": {
              "outlinewidth": 0,
              "ticks": ""
             }
            },
            "type": "scatterternary"
           }
          ],
          "surface": [
           {
            "colorbar": {
             "outlinewidth": 0,
             "ticks": ""
            },
            "colorscale": [
             [
              0,
              "#0d0887"
             ],
             [
              0.1111111111111111,
              "#46039f"
             ],
             [
              0.2222222222222222,
              "#7201a8"
             ],
             [
              0.3333333333333333,
              "#9c179e"
             ],
             [
              0.4444444444444444,
              "#bd3786"
             ],
             [
              0.5555555555555556,
              "#d8576b"
             ],
             [
              0.6666666666666666,
              "#ed7953"
             ],
             [
              0.7777777777777778,
              "#fb9f3a"
             ],
             [
              0.8888888888888888,
              "#fdca26"
             ],
             [
              1,
              "#f0f921"
             ]
            ],
            "type": "surface"
           }
          ],
          "table": [
           {
            "cells": {
             "fill": {
              "color": "#EBF0F8"
             },
             "line": {
              "color": "white"
             }
            },
            "header": {
             "fill": {
              "color": "#C8D4E3"
             },
             "line": {
              "color": "white"
             }
            },
            "type": "table"
           }
          ]
         },
         "layout": {
          "annotationdefaults": {
           "arrowcolor": "#2a3f5f",
           "arrowhead": 0,
           "arrowwidth": 1
          },
          "autotypenumbers": "strict",
          "coloraxis": {
           "colorbar": {
            "outlinewidth": 0,
            "ticks": ""
           }
          },
          "colorscale": {
           "diverging": [
            [
             0,
             "#8e0152"
            ],
            [
             0.1,
             "#c51b7d"
            ],
            [
             0.2,
             "#de77ae"
            ],
            [
             0.3,
             "#f1b6da"
            ],
            [
             0.4,
             "#fde0ef"
            ],
            [
             0.5,
             "#f7f7f7"
            ],
            [
             0.6,
             "#e6f5d0"
            ],
            [
             0.7,
             "#b8e186"
            ],
            [
             0.8,
             "#7fbc41"
            ],
            [
             0.9,
             "#4d9221"
            ],
            [
             1,
             "#276419"
            ]
           ],
           "sequential": [
            [
             0,
             "#0d0887"
            ],
            [
             0.1111111111111111,
             "#46039f"
            ],
            [
             0.2222222222222222,
             "#7201a8"
            ],
            [
             0.3333333333333333,
             "#9c179e"
            ],
            [
             0.4444444444444444,
             "#bd3786"
            ],
            [
             0.5555555555555556,
             "#d8576b"
            ],
            [
             0.6666666666666666,
             "#ed7953"
            ],
            [
             0.7777777777777778,
             "#fb9f3a"
            ],
            [
             0.8888888888888888,
             "#fdca26"
            ],
            [
             1,
             "#f0f921"
            ]
           ],
           "sequentialminus": [
            [
             0,
             "#0d0887"
            ],
            [
             0.1111111111111111,
             "#46039f"
            ],
            [
             0.2222222222222222,
             "#7201a8"
            ],
            [
             0.3333333333333333,
             "#9c179e"
            ],
            [
             0.4444444444444444,
             "#bd3786"
            ],
            [
             0.5555555555555556,
             "#d8576b"
            ],
            [
             0.6666666666666666,
             "#ed7953"
            ],
            [
             0.7777777777777778,
             "#fb9f3a"
            ],
            [
             0.8888888888888888,
             "#fdca26"
            ],
            [
             1,
             "#f0f921"
            ]
           ]
          },
          "colorway": [
           "#636efa",
           "#EF553B",
           "#00cc96",
           "#ab63fa",
           "#FFA15A",
           "#19d3f3",
           "#FF6692",
           "#B6E880",
           "#FF97FF",
           "#FECB52"
          ],
          "font": {
           "color": "#2a3f5f"
          },
          "geo": {
           "bgcolor": "white",
           "lakecolor": "white",
           "landcolor": "#E5ECF6",
           "showlakes": true,
           "showland": true,
           "subunitcolor": "white"
          },
          "hoverlabel": {
           "align": "left"
          },
          "hovermode": "closest",
          "mapbox": {
           "style": "light"
          },
          "paper_bgcolor": "white",
          "plot_bgcolor": "#E5ECF6",
          "polar": {
           "angularaxis": {
            "gridcolor": "white",
            "linecolor": "white",
            "ticks": ""
           },
           "bgcolor": "#E5ECF6",
           "radialaxis": {
            "gridcolor": "white",
            "linecolor": "white",
            "ticks": ""
           }
          },
          "scene": {
           "xaxis": {
            "backgroundcolor": "#E5ECF6",
            "gridcolor": "white",
            "gridwidth": 2,
            "linecolor": "white",
            "showbackground": true,
            "ticks": "",
            "zerolinecolor": "white"
           },
           "yaxis": {
            "backgroundcolor": "#E5ECF6",
            "gridcolor": "white",
            "gridwidth": 2,
            "linecolor": "white",
            "showbackground": true,
            "ticks": "",
            "zerolinecolor": "white"
           },
           "zaxis": {
            "backgroundcolor": "#E5ECF6",
            "gridcolor": "white",
            "gridwidth": 2,
            "linecolor": "white",
            "showbackground": true,
            "ticks": "",
            "zerolinecolor": "white"
           }
          },
          "shapedefaults": {
           "line": {
            "color": "#2a3f5f"
           }
          },
          "ternary": {
           "aaxis": {
            "gridcolor": "white",
            "linecolor": "white",
            "ticks": ""
           },
           "baxis": {
            "gridcolor": "white",
            "linecolor": "white",
            "ticks": ""
           },
           "bgcolor": "#E5ECF6",
           "caxis": {
            "gridcolor": "white",
            "linecolor": "white",
            "ticks": ""
           }
          },
          "title": {
           "x": 0.05
          },
          "xaxis": {
           "automargin": true,
           "gridcolor": "white",
           "linecolor": "white",
           "ticks": "",
           "title": {
            "standoff": 15
           },
           "zerolinecolor": "white",
           "zerolinewidth": 2
          },
          "yaxis": {
           "automargin": true,
           "gridcolor": "white",
           "linecolor": "white",
           "ticks": "",
           "title": {
            "standoff": 15
           },
           "zerolinecolor": "white",
           "zerolinewidth": 2
          }
         }
        },
        "title": {
         "text": "2020 Certifications by Hardware License"
        },
        "xaxis": {
         "anchor": "y",
         "domain": [
          0,
          1
         ],
         "title": {
          "text": "hardwareLicense"
         }
        },
        "yaxis": {
         "anchor": "x",
         "domain": [
          0,
          1
         ],
         "title": {
          "text": "oshwaUid"
         }
        }
       }
      },
      "text/html": [
       "<div>                            <div id=\"bcab55b5-7c9c-4ba0-bfc9-31c1dce02de1\" class=\"plotly-graph-div\" style=\"height:525px; width:100%;\"></div>            <script type=\"text/javascript\">                require([\"plotly\"], function(Plotly) {                    window.PLOTLYENV=window.PLOTLYENV || {};                                    if (document.getElementById(\"bcab55b5-7c9c-4ba0-bfc9-31c1dce02de1\")) {                    Plotly.newPlot(                        \"bcab55b5-7c9c-4ba0-bfc9-31c1dce02de1\",                        [{\"alignmentgroup\": \"True\", \"hovertemplate\": \"hardwareLicense=%{x}<br>oshwaUid=%{y}<extra></extra>\", \"legendgroup\": \"\", \"marker\": {\"color\": \"#636efa\"}, \"name\": \"\", \"offsetgroup\": \"\", \"orientation\": \"v\", \"showlegend\": false, \"textposition\": \"auto\", \"type\": \"bar\", \"x\": [\"Other\", \"CERN\", \"TAPR\", \"Solderpad\"], \"xaxis\": \"x\", \"y\": [548, 393, 6, 2], \"yaxis\": \"y\"}],                        {\"barmode\": \"relative\", \"legend\": {\"tracegroupgap\": 0}, \"template\": {\"data\": {\"bar\": [{\"error_x\": {\"color\": \"#2a3f5f\"}, \"error_y\": {\"color\": \"#2a3f5f\"}, \"marker\": {\"line\": {\"color\": \"#E5ECF6\", \"width\": 0.5}}, \"type\": \"bar\"}], \"barpolar\": [{\"marker\": {\"line\": {\"color\": \"#E5ECF6\", \"width\": 0.5}}, \"type\": \"barpolar\"}], \"carpet\": [{\"aaxis\": {\"endlinecolor\": \"#2a3f5f\", \"gridcolor\": \"white\", \"linecolor\": \"white\", \"minorgridcolor\": \"white\", \"startlinecolor\": \"#2a3f5f\"}, \"baxis\": {\"endlinecolor\": \"#2a3f5f\", \"gridcolor\": \"white\", \"linecolor\": \"white\", \"minorgridcolor\": \"white\", \"startlinecolor\": \"#2a3f5f\"}, \"type\": \"carpet\"}], \"choropleth\": [{\"colorbar\": {\"outlinewidth\": 0, \"ticks\": \"\"}, \"type\": \"choropleth\"}], \"contour\": [{\"colorbar\": {\"outlinewidth\": 0, \"ticks\": \"\"}, \"colorscale\": [[0.0, \"#0d0887\"], [0.1111111111111111, \"#46039f\"], [0.2222222222222222, \"#7201a8\"], [0.3333333333333333, \"#9c179e\"], [0.4444444444444444, \"#bd3786\"], [0.5555555555555556, \"#d8576b\"], [0.6666666666666666, \"#ed7953\"], [0.7777777777777778, \"#fb9f3a\"], [0.8888888888888888, \"#fdca26\"], [1.0, \"#f0f921\"]], \"type\": \"contour\"}], \"contourcarpet\": [{\"colorbar\": {\"outlinewidth\": 0, \"ticks\": \"\"}, \"type\": \"contourcarpet\"}], \"heatmap\": [{\"colorbar\": {\"outlinewidth\": 0, \"ticks\": \"\"}, \"colorscale\": [[0.0, \"#0d0887\"], [0.1111111111111111, \"#46039f\"], [0.2222222222222222, \"#7201a8\"], [0.3333333333333333, \"#9c179e\"], [0.4444444444444444, \"#bd3786\"], [0.5555555555555556, \"#d8576b\"], [0.6666666666666666, \"#ed7953\"], [0.7777777777777778, \"#fb9f3a\"], [0.8888888888888888, \"#fdca26\"], [1.0, \"#f0f921\"]], \"type\": \"heatmap\"}], \"heatmapgl\": [{\"colorbar\": {\"outlinewidth\": 0, \"ticks\": \"\"}, \"colorscale\": [[0.0, \"#0d0887\"], [0.1111111111111111, \"#46039f\"], [0.2222222222222222, \"#7201a8\"], [0.3333333333333333, \"#9c179e\"], [0.4444444444444444, \"#bd3786\"], [0.5555555555555556, \"#d8576b\"], [0.6666666666666666, \"#ed7953\"], [0.7777777777777778, \"#fb9f3a\"], [0.8888888888888888, \"#fdca26\"], [1.0, \"#f0f921\"]], \"type\": \"heatmapgl\"}], \"histogram\": [{\"marker\": {\"colorbar\": {\"outlinewidth\": 0, \"ticks\": \"\"}}, \"type\": \"histogram\"}], \"histogram2d\": [{\"colorbar\": {\"outlinewidth\": 0, \"ticks\": \"\"}, \"colorscale\": [[0.0, \"#0d0887\"], [0.1111111111111111, \"#46039f\"], [0.2222222222222222, \"#7201a8\"], [0.3333333333333333, \"#9c179e\"], [0.4444444444444444, \"#bd3786\"], [0.5555555555555556, \"#d8576b\"], [0.6666666666666666, \"#ed7953\"], [0.7777777777777778, \"#fb9f3a\"], [0.8888888888888888, \"#fdca26\"], [1.0, \"#f0f921\"]], \"type\": \"histogram2d\"}], \"histogram2dcontour\": [{\"colorbar\": {\"outlinewidth\": 0, \"ticks\": \"\"}, \"colorscale\": [[0.0, \"#0d0887\"], [0.1111111111111111, \"#46039f\"], [0.2222222222222222, \"#7201a8\"], [0.3333333333333333, \"#9c179e\"], [0.4444444444444444, \"#bd3786\"], [0.5555555555555556, \"#d8576b\"], [0.6666666666666666, \"#ed7953\"], [0.7777777777777778, \"#fb9f3a\"], [0.8888888888888888, \"#fdca26\"], [1.0, \"#f0f921\"]], \"type\": \"histogram2dcontour\"}], \"mesh3d\": [{\"colorbar\": {\"outlinewidth\": 0, \"ticks\": \"\"}, \"type\": \"mesh3d\"}], \"parcoords\": [{\"line\": {\"colorbar\": {\"outlinewidth\": 0, \"ticks\": \"\"}}, \"type\": \"parcoords\"}], \"pie\": [{\"automargin\": true, \"type\": \"pie\"}], \"scatter\": [{\"marker\": {\"colorbar\": {\"outlinewidth\": 0, \"ticks\": \"\"}}, \"type\": \"scatter\"}], \"scatter3d\": [{\"line\": {\"colorbar\": {\"outlinewidth\": 0, \"ticks\": \"\"}}, \"marker\": {\"colorbar\": {\"outlinewidth\": 0, \"ticks\": \"\"}}, \"type\": \"scatter3d\"}], \"scattercarpet\": [{\"marker\": {\"colorbar\": {\"outlinewidth\": 0, \"ticks\": \"\"}}, \"type\": \"scattercarpet\"}], \"scattergeo\": [{\"marker\": {\"colorbar\": {\"outlinewidth\": 0, \"ticks\": \"\"}}, \"type\": \"scattergeo\"}], \"scattergl\": [{\"marker\": {\"colorbar\": {\"outlinewidth\": 0, \"ticks\": \"\"}}, \"type\": \"scattergl\"}], \"scattermapbox\": [{\"marker\": {\"colorbar\": {\"outlinewidth\": 0, \"ticks\": \"\"}}, \"type\": \"scattermapbox\"}], \"scatterpolar\": [{\"marker\": {\"colorbar\": {\"outlinewidth\": 0, \"ticks\": \"\"}}, \"type\": \"scatterpolar\"}], \"scatterpolargl\": [{\"marker\": {\"colorbar\": {\"outlinewidth\": 0, \"ticks\": \"\"}}, \"type\": \"scatterpolargl\"}], \"scatterternary\": [{\"marker\": {\"colorbar\": {\"outlinewidth\": 0, \"ticks\": \"\"}}, \"type\": \"scatterternary\"}], \"surface\": [{\"colorbar\": {\"outlinewidth\": 0, \"ticks\": \"\"}, \"colorscale\": [[0.0, \"#0d0887\"], [0.1111111111111111, \"#46039f\"], [0.2222222222222222, \"#7201a8\"], [0.3333333333333333, \"#9c179e\"], [0.4444444444444444, \"#bd3786\"], [0.5555555555555556, \"#d8576b\"], [0.6666666666666666, \"#ed7953\"], [0.7777777777777778, \"#fb9f3a\"], [0.8888888888888888, \"#fdca26\"], [1.0, \"#f0f921\"]], \"type\": \"surface\"}], \"table\": [{\"cells\": {\"fill\": {\"color\": \"#EBF0F8\"}, \"line\": {\"color\": \"white\"}}, \"header\": {\"fill\": {\"color\": \"#C8D4E3\"}, \"line\": {\"color\": \"white\"}}, \"type\": \"table\"}]}, \"layout\": {\"annotationdefaults\": {\"arrowcolor\": \"#2a3f5f\", \"arrowhead\": 0, \"arrowwidth\": 1}, \"autotypenumbers\": \"strict\", \"coloraxis\": {\"colorbar\": {\"outlinewidth\": 0, \"ticks\": \"\"}}, \"colorscale\": {\"diverging\": [[0, \"#8e0152\"], [0.1, \"#c51b7d\"], [0.2, \"#de77ae\"], [0.3, \"#f1b6da\"], [0.4, \"#fde0ef\"], [0.5, \"#f7f7f7\"], [0.6, \"#e6f5d0\"], [0.7, \"#b8e186\"], [0.8, \"#7fbc41\"], [0.9, \"#4d9221\"], [1, \"#276419\"]], \"sequential\": [[0.0, \"#0d0887\"], [0.1111111111111111, \"#46039f\"], [0.2222222222222222, \"#7201a8\"], [0.3333333333333333, \"#9c179e\"], [0.4444444444444444, \"#bd3786\"], [0.5555555555555556, \"#d8576b\"], [0.6666666666666666, \"#ed7953\"], [0.7777777777777778, \"#fb9f3a\"], [0.8888888888888888, \"#fdca26\"], [1.0, \"#f0f921\"]], \"sequentialminus\": [[0.0, \"#0d0887\"], [0.1111111111111111, \"#46039f\"], [0.2222222222222222, \"#7201a8\"], [0.3333333333333333, \"#9c179e\"], [0.4444444444444444, \"#bd3786\"], [0.5555555555555556, \"#d8576b\"], [0.6666666666666666, \"#ed7953\"], [0.7777777777777778, \"#fb9f3a\"], [0.8888888888888888, \"#fdca26\"], [1.0, \"#f0f921\"]]}, \"colorway\": [\"#636efa\", \"#EF553B\", \"#00cc96\", \"#ab63fa\", \"#FFA15A\", \"#19d3f3\", \"#FF6692\", \"#B6E880\", \"#FF97FF\", \"#FECB52\"], \"font\": {\"color\": \"#2a3f5f\"}, \"geo\": {\"bgcolor\": \"white\", \"lakecolor\": \"white\", \"landcolor\": \"#E5ECF6\", \"showlakes\": true, \"showland\": true, \"subunitcolor\": \"white\"}, \"hoverlabel\": {\"align\": \"left\"}, \"hovermode\": \"closest\", \"mapbox\": {\"style\": \"light\"}, \"paper_bgcolor\": \"white\", \"plot_bgcolor\": \"#E5ECF6\", \"polar\": {\"angularaxis\": {\"gridcolor\": \"white\", \"linecolor\": \"white\", \"ticks\": \"\"}, \"bgcolor\": \"#E5ECF6\", \"radialaxis\": {\"gridcolor\": \"white\", \"linecolor\": \"white\", \"ticks\": \"\"}}, \"scene\": {\"xaxis\": {\"backgroundcolor\": \"#E5ECF6\", \"gridcolor\": \"white\", \"gridwidth\": 2, \"linecolor\": \"white\", \"showbackground\": true, \"ticks\": \"\", \"zerolinecolor\": \"white\"}, \"yaxis\": {\"backgroundcolor\": \"#E5ECF6\", \"gridcolor\": \"white\", \"gridwidth\": 2, \"linecolor\": \"white\", \"showbackground\": true, \"ticks\": \"\", \"zerolinecolor\": \"white\"}, \"zaxis\": {\"backgroundcolor\": \"#E5ECF6\", \"gridcolor\": \"white\", \"gridwidth\": 2, \"linecolor\": \"white\", \"showbackground\": true, \"ticks\": \"\", \"zerolinecolor\": \"white\"}}, \"shapedefaults\": {\"line\": {\"color\": \"#2a3f5f\"}}, \"ternary\": {\"aaxis\": {\"gridcolor\": \"white\", \"linecolor\": \"white\", \"ticks\": \"\"}, \"baxis\": {\"gridcolor\": \"white\", \"linecolor\": \"white\", \"ticks\": \"\"}, \"bgcolor\": \"#E5ECF6\", \"caxis\": {\"gridcolor\": \"white\", \"linecolor\": \"white\", \"ticks\": \"\"}}, \"title\": {\"x\": 0.05}, \"xaxis\": {\"automargin\": true, \"gridcolor\": \"white\", \"linecolor\": \"white\", \"ticks\": \"\", \"title\": {\"standoff\": 15}, \"zerolinecolor\": \"white\", \"zerolinewidth\": 2}, \"yaxis\": {\"automargin\": true, \"gridcolor\": \"white\", \"linecolor\": \"white\", \"ticks\": \"\", \"title\": {\"standoff\": 15}, \"zerolinecolor\": \"white\", \"zerolinewidth\": 2}}}, \"title\": {\"text\": \"2020 Certifications by Hardware License\"}, \"xaxis\": {\"anchor\": \"y\", \"domain\": [0.0, 1.0], \"title\": {\"text\": \"hardwareLicense\"}}, \"yaxis\": {\"anchor\": \"x\", \"domain\": [0.0, 1.0], \"title\": {\"text\": \"oshwaUid\"}}},                        {\"responsive\": true}                    ).then(function(){\n",
       "                            \n",
       "var gd = document.getElementById('bcab55b5-7c9c-4ba0-bfc9-31c1dce02de1');\n",
       "var x = new MutationObserver(function (mutations, observer) {{\n",
       "        var display = window.getComputedStyle(gd).display;\n",
       "        if (!display || display === 'none') {{\n",
       "            console.log([gd, 'removed!']);\n",
       "            Plotly.purge(gd);\n",
       "            observer.disconnect();\n",
       "        }}\n",
       "}});\n",
       "\n",
       "// Listen for the removal of the full notebook cells\n",
       "var notebookContainer = gd.closest('#notebook-container');\n",
       "if (notebookContainer) {{\n",
       "    x.observe(notebookContainer, {childList: true});\n",
       "}}\n",
       "\n",
       "// Listen for the clearing of the current output cell\n",
       "var outputEl = gd.closest('.output');\n",
       "if (outputEl) {{\n",
       "    x.observe(outputEl, {childList: true});\n",
       "}}\n",
       "\n",
       "                        })                };                });            </script>        </div>"
      ]
     },
     "metadata": {},
     "output_type": "display_data"
    }
   ],
   "source": [
    "hl_data = df2020.groupby(\"hardwareLicense\").count().sort_values(\"oshwaUid\",ascending=False)\n",
    "fig = px.bar(hl_data,y=\"oshwaUid\",title=\"2020 Certifications by Hardware License\")\n",
    "fig.show()"
   ]
  },
  {
   "cell_type": "code",
   "execution_count": 48,
   "metadata": {},
   "outputs": [
    {
     "data": {
      "application/vnd.plotly.v1+json": {
       "config": {
        "plotlyServerURL": "https://plot.ly"
       },
       "data": [
        {
         "alignmentgroup": "True",
         "hovertemplate": "documentationLicense=%{x}<br>oshwaUid=%{y}<extra></extra>",
         "legendgroup": "",
         "marker": {
          "color": "#636efa"
         },
         "name": "",
         "offsetgroup": "",
         "orientation": "v",
         "showlegend": false,
         "textposition": "auto",
         "type": "bar",
         "x": [
          "CC BY-SA",
          "CC BY",
          "Other",
          "CC 0"
         ],
         "xaxis": "x",
         "y": [
          839,
          60,
          42,
          8
         ],
         "yaxis": "y"
        }
       ],
       "layout": {
        "barmode": "relative",
        "legend": {
         "tracegroupgap": 0
        },
        "template": {
         "data": {
          "bar": [
           {
            "error_x": {
             "color": "#2a3f5f"
            },
            "error_y": {
             "color": "#2a3f5f"
            },
            "marker": {
             "line": {
              "color": "#E5ECF6",
              "width": 0.5
             }
            },
            "type": "bar"
           }
          ],
          "barpolar": [
           {
            "marker": {
             "line": {
              "color": "#E5ECF6",
              "width": 0.5
             }
            },
            "type": "barpolar"
           }
          ],
          "carpet": [
           {
            "aaxis": {
             "endlinecolor": "#2a3f5f",
             "gridcolor": "white",
             "linecolor": "white",
             "minorgridcolor": "white",
             "startlinecolor": "#2a3f5f"
            },
            "baxis": {
             "endlinecolor": "#2a3f5f",
             "gridcolor": "white",
             "linecolor": "white",
             "minorgridcolor": "white",
             "startlinecolor": "#2a3f5f"
            },
            "type": "carpet"
           }
          ],
          "choropleth": [
           {
            "colorbar": {
             "outlinewidth": 0,
             "ticks": ""
            },
            "type": "choropleth"
           }
          ],
          "contour": [
           {
            "colorbar": {
             "outlinewidth": 0,
             "ticks": ""
            },
            "colorscale": [
             [
              0,
              "#0d0887"
             ],
             [
              0.1111111111111111,
              "#46039f"
             ],
             [
              0.2222222222222222,
              "#7201a8"
             ],
             [
              0.3333333333333333,
              "#9c179e"
             ],
             [
              0.4444444444444444,
              "#bd3786"
             ],
             [
              0.5555555555555556,
              "#d8576b"
             ],
             [
              0.6666666666666666,
              "#ed7953"
             ],
             [
              0.7777777777777778,
              "#fb9f3a"
             ],
             [
              0.8888888888888888,
              "#fdca26"
             ],
             [
              1,
              "#f0f921"
             ]
            ],
            "type": "contour"
           }
          ],
          "contourcarpet": [
           {
            "colorbar": {
             "outlinewidth": 0,
             "ticks": ""
            },
            "type": "contourcarpet"
           }
          ],
          "heatmap": [
           {
            "colorbar": {
             "outlinewidth": 0,
             "ticks": ""
            },
            "colorscale": [
             [
              0,
              "#0d0887"
             ],
             [
              0.1111111111111111,
              "#46039f"
             ],
             [
              0.2222222222222222,
              "#7201a8"
             ],
             [
              0.3333333333333333,
              "#9c179e"
             ],
             [
              0.4444444444444444,
              "#bd3786"
             ],
             [
              0.5555555555555556,
              "#d8576b"
             ],
             [
              0.6666666666666666,
              "#ed7953"
             ],
             [
              0.7777777777777778,
              "#fb9f3a"
             ],
             [
              0.8888888888888888,
              "#fdca26"
             ],
             [
              1,
              "#f0f921"
             ]
            ],
            "type": "heatmap"
           }
          ],
          "heatmapgl": [
           {
            "colorbar": {
             "outlinewidth": 0,
             "ticks": ""
            },
            "colorscale": [
             [
              0,
              "#0d0887"
             ],
             [
              0.1111111111111111,
              "#46039f"
             ],
             [
              0.2222222222222222,
              "#7201a8"
             ],
             [
              0.3333333333333333,
              "#9c179e"
             ],
             [
              0.4444444444444444,
              "#bd3786"
             ],
             [
              0.5555555555555556,
              "#d8576b"
             ],
             [
              0.6666666666666666,
              "#ed7953"
             ],
             [
              0.7777777777777778,
              "#fb9f3a"
             ],
             [
              0.8888888888888888,
              "#fdca26"
             ],
             [
              1,
              "#f0f921"
             ]
            ],
            "type": "heatmapgl"
           }
          ],
          "histogram": [
           {
            "marker": {
             "colorbar": {
              "outlinewidth": 0,
              "ticks": ""
             }
            },
            "type": "histogram"
           }
          ],
          "histogram2d": [
           {
            "colorbar": {
             "outlinewidth": 0,
             "ticks": ""
            },
            "colorscale": [
             [
              0,
              "#0d0887"
             ],
             [
              0.1111111111111111,
              "#46039f"
             ],
             [
              0.2222222222222222,
              "#7201a8"
             ],
             [
              0.3333333333333333,
              "#9c179e"
             ],
             [
              0.4444444444444444,
              "#bd3786"
             ],
             [
              0.5555555555555556,
              "#d8576b"
             ],
             [
              0.6666666666666666,
              "#ed7953"
             ],
             [
              0.7777777777777778,
              "#fb9f3a"
             ],
             [
              0.8888888888888888,
              "#fdca26"
             ],
             [
              1,
              "#f0f921"
             ]
            ],
            "type": "histogram2d"
           }
          ],
          "histogram2dcontour": [
           {
            "colorbar": {
             "outlinewidth": 0,
             "ticks": ""
            },
            "colorscale": [
             [
              0,
              "#0d0887"
             ],
             [
              0.1111111111111111,
              "#46039f"
             ],
             [
              0.2222222222222222,
              "#7201a8"
             ],
             [
              0.3333333333333333,
              "#9c179e"
             ],
             [
              0.4444444444444444,
              "#bd3786"
             ],
             [
              0.5555555555555556,
              "#d8576b"
             ],
             [
              0.6666666666666666,
              "#ed7953"
             ],
             [
              0.7777777777777778,
              "#fb9f3a"
             ],
             [
              0.8888888888888888,
              "#fdca26"
             ],
             [
              1,
              "#f0f921"
             ]
            ],
            "type": "histogram2dcontour"
           }
          ],
          "mesh3d": [
           {
            "colorbar": {
             "outlinewidth": 0,
             "ticks": ""
            },
            "type": "mesh3d"
           }
          ],
          "parcoords": [
           {
            "line": {
             "colorbar": {
              "outlinewidth": 0,
              "ticks": ""
             }
            },
            "type": "parcoords"
           }
          ],
          "pie": [
           {
            "automargin": true,
            "type": "pie"
           }
          ],
          "scatter": [
           {
            "marker": {
             "colorbar": {
              "outlinewidth": 0,
              "ticks": ""
             }
            },
            "type": "scatter"
           }
          ],
          "scatter3d": [
           {
            "line": {
             "colorbar": {
              "outlinewidth": 0,
              "ticks": ""
             }
            },
            "marker": {
             "colorbar": {
              "outlinewidth": 0,
              "ticks": ""
             }
            },
            "type": "scatter3d"
           }
          ],
          "scattercarpet": [
           {
            "marker": {
             "colorbar": {
              "outlinewidth": 0,
              "ticks": ""
             }
            },
            "type": "scattercarpet"
           }
          ],
          "scattergeo": [
           {
            "marker": {
             "colorbar": {
              "outlinewidth": 0,
              "ticks": ""
             }
            },
            "type": "scattergeo"
           }
          ],
          "scattergl": [
           {
            "marker": {
             "colorbar": {
              "outlinewidth": 0,
              "ticks": ""
             }
            },
            "type": "scattergl"
           }
          ],
          "scattermapbox": [
           {
            "marker": {
             "colorbar": {
              "outlinewidth": 0,
              "ticks": ""
             }
            },
            "type": "scattermapbox"
           }
          ],
          "scatterpolar": [
           {
            "marker": {
             "colorbar": {
              "outlinewidth": 0,
              "ticks": ""
             }
            },
            "type": "scatterpolar"
           }
          ],
          "scatterpolargl": [
           {
            "marker": {
             "colorbar": {
              "outlinewidth": 0,
              "ticks": ""
             }
            },
            "type": "scatterpolargl"
           }
          ],
          "scatterternary": [
           {
            "marker": {
             "colorbar": {
              "outlinewidth": 0,
              "ticks": ""
             }
            },
            "type": "scatterternary"
           }
          ],
          "surface": [
           {
            "colorbar": {
             "outlinewidth": 0,
             "ticks": ""
            },
            "colorscale": [
             [
              0,
              "#0d0887"
             ],
             [
              0.1111111111111111,
              "#46039f"
             ],
             [
              0.2222222222222222,
              "#7201a8"
             ],
             [
              0.3333333333333333,
              "#9c179e"
             ],
             [
              0.4444444444444444,
              "#bd3786"
             ],
             [
              0.5555555555555556,
              "#d8576b"
             ],
             [
              0.6666666666666666,
              "#ed7953"
             ],
             [
              0.7777777777777778,
              "#fb9f3a"
             ],
             [
              0.8888888888888888,
              "#fdca26"
             ],
             [
              1,
              "#f0f921"
             ]
            ],
            "type": "surface"
           }
          ],
          "table": [
           {
            "cells": {
             "fill": {
              "color": "#EBF0F8"
             },
             "line": {
              "color": "white"
             }
            },
            "header": {
             "fill": {
              "color": "#C8D4E3"
             },
             "line": {
              "color": "white"
             }
            },
            "type": "table"
           }
          ]
         },
         "layout": {
          "annotationdefaults": {
           "arrowcolor": "#2a3f5f",
           "arrowhead": 0,
           "arrowwidth": 1
          },
          "autotypenumbers": "strict",
          "coloraxis": {
           "colorbar": {
            "outlinewidth": 0,
            "ticks": ""
           }
          },
          "colorscale": {
           "diverging": [
            [
             0,
             "#8e0152"
            ],
            [
             0.1,
             "#c51b7d"
            ],
            [
             0.2,
             "#de77ae"
            ],
            [
             0.3,
             "#f1b6da"
            ],
            [
             0.4,
             "#fde0ef"
            ],
            [
             0.5,
             "#f7f7f7"
            ],
            [
             0.6,
             "#e6f5d0"
            ],
            [
             0.7,
             "#b8e186"
            ],
            [
             0.8,
             "#7fbc41"
            ],
            [
             0.9,
             "#4d9221"
            ],
            [
             1,
             "#276419"
            ]
           ],
           "sequential": [
            [
             0,
             "#0d0887"
            ],
            [
             0.1111111111111111,
             "#46039f"
            ],
            [
             0.2222222222222222,
             "#7201a8"
            ],
            [
             0.3333333333333333,
             "#9c179e"
            ],
            [
             0.4444444444444444,
             "#bd3786"
            ],
            [
             0.5555555555555556,
             "#d8576b"
            ],
            [
             0.6666666666666666,
             "#ed7953"
            ],
            [
             0.7777777777777778,
             "#fb9f3a"
            ],
            [
             0.8888888888888888,
             "#fdca26"
            ],
            [
             1,
             "#f0f921"
            ]
           ],
           "sequentialminus": [
            [
             0,
             "#0d0887"
            ],
            [
             0.1111111111111111,
             "#46039f"
            ],
            [
             0.2222222222222222,
             "#7201a8"
            ],
            [
             0.3333333333333333,
             "#9c179e"
            ],
            [
             0.4444444444444444,
             "#bd3786"
            ],
            [
             0.5555555555555556,
             "#d8576b"
            ],
            [
             0.6666666666666666,
             "#ed7953"
            ],
            [
             0.7777777777777778,
             "#fb9f3a"
            ],
            [
             0.8888888888888888,
             "#fdca26"
            ],
            [
             1,
             "#f0f921"
            ]
           ]
          },
          "colorway": [
           "#636efa",
           "#EF553B",
           "#00cc96",
           "#ab63fa",
           "#FFA15A",
           "#19d3f3",
           "#FF6692",
           "#B6E880",
           "#FF97FF",
           "#FECB52"
          ],
          "font": {
           "color": "#2a3f5f"
          },
          "geo": {
           "bgcolor": "white",
           "lakecolor": "white",
           "landcolor": "#E5ECF6",
           "showlakes": true,
           "showland": true,
           "subunitcolor": "white"
          },
          "hoverlabel": {
           "align": "left"
          },
          "hovermode": "closest",
          "mapbox": {
           "style": "light"
          },
          "paper_bgcolor": "white",
          "plot_bgcolor": "#E5ECF6",
          "polar": {
           "angularaxis": {
            "gridcolor": "white",
            "linecolor": "white",
            "ticks": ""
           },
           "bgcolor": "#E5ECF6",
           "radialaxis": {
            "gridcolor": "white",
            "linecolor": "white",
            "ticks": ""
           }
          },
          "scene": {
           "xaxis": {
            "backgroundcolor": "#E5ECF6",
            "gridcolor": "white",
            "gridwidth": 2,
            "linecolor": "white",
            "showbackground": true,
            "ticks": "",
            "zerolinecolor": "white"
           },
           "yaxis": {
            "backgroundcolor": "#E5ECF6",
            "gridcolor": "white",
            "gridwidth": 2,
            "linecolor": "white",
            "showbackground": true,
            "ticks": "",
            "zerolinecolor": "white"
           },
           "zaxis": {
            "backgroundcolor": "#E5ECF6",
            "gridcolor": "white",
            "gridwidth": 2,
            "linecolor": "white",
            "showbackground": true,
            "ticks": "",
            "zerolinecolor": "white"
           }
          },
          "shapedefaults": {
           "line": {
            "color": "#2a3f5f"
           }
          },
          "ternary": {
           "aaxis": {
            "gridcolor": "white",
            "linecolor": "white",
            "ticks": ""
           },
           "baxis": {
            "gridcolor": "white",
            "linecolor": "white",
            "ticks": ""
           },
           "bgcolor": "#E5ECF6",
           "caxis": {
            "gridcolor": "white",
            "linecolor": "white",
            "ticks": ""
           }
          },
          "title": {
           "x": 0.05
          },
          "xaxis": {
           "automargin": true,
           "gridcolor": "white",
           "linecolor": "white",
           "ticks": "",
           "title": {
            "standoff": 15
           },
           "zerolinecolor": "white",
           "zerolinewidth": 2
          },
          "yaxis": {
           "automargin": true,
           "gridcolor": "white",
           "linecolor": "white",
           "ticks": "",
           "title": {
            "standoff": 15
           },
           "zerolinecolor": "white",
           "zerolinewidth": 2
          }
         }
        },
        "title": {
         "text": "2020 Certifications by Documentation License"
        },
        "xaxis": {
         "anchor": "y",
         "domain": [
          0,
          1
         ],
         "title": {
          "text": "documentationLicense"
         }
        },
        "yaxis": {
         "anchor": "x",
         "domain": [
          0,
          1
         ],
         "title": {
          "text": "oshwaUid"
         }
        }
       }
      },
      "text/html": [
       "<div>                            <div id=\"9b3515be-31ff-4a70-830f-f46c4347d89c\" class=\"plotly-graph-div\" style=\"height:525px; width:100%;\"></div>            <script type=\"text/javascript\">                require([\"plotly\"], function(Plotly) {                    window.PLOTLYENV=window.PLOTLYENV || {};                                    if (document.getElementById(\"9b3515be-31ff-4a70-830f-f46c4347d89c\")) {                    Plotly.newPlot(                        \"9b3515be-31ff-4a70-830f-f46c4347d89c\",                        [{\"alignmentgroup\": \"True\", \"hovertemplate\": \"documentationLicense=%{x}<br>oshwaUid=%{y}<extra></extra>\", \"legendgroup\": \"\", \"marker\": {\"color\": \"#636efa\"}, \"name\": \"\", \"offsetgroup\": \"\", \"orientation\": \"v\", \"showlegend\": false, \"textposition\": \"auto\", \"type\": \"bar\", \"x\": [\"CC BY-SA\", \"CC BY\", \"Other\", \"CC 0\"], \"xaxis\": \"x\", \"y\": [839, 60, 42, 8], \"yaxis\": \"y\"}],                        {\"barmode\": \"relative\", \"legend\": {\"tracegroupgap\": 0}, \"template\": {\"data\": {\"bar\": [{\"error_x\": {\"color\": \"#2a3f5f\"}, \"error_y\": {\"color\": \"#2a3f5f\"}, \"marker\": {\"line\": {\"color\": \"#E5ECF6\", \"width\": 0.5}}, \"type\": \"bar\"}], \"barpolar\": [{\"marker\": {\"line\": {\"color\": \"#E5ECF6\", \"width\": 0.5}}, \"type\": \"barpolar\"}], \"carpet\": [{\"aaxis\": {\"endlinecolor\": \"#2a3f5f\", \"gridcolor\": \"white\", \"linecolor\": \"white\", \"minorgridcolor\": \"white\", \"startlinecolor\": \"#2a3f5f\"}, \"baxis\": {\"endlinecolor\": \"#2a3f5f\", \"gridcolor\": \"white\", \"linecolor\": \"white\", \"minorgridcolor\": \"white\", \"startlinecolor\": \"#2a3f5f\"}, \"type\": \"carpet\"}], \"choropleth\": [{\"colorbar\": {\"outlinewidth\": 0, \"ticks\": \"\"}, \"type\": \"choropleth\"}], \"contour\": [{\"colorbar\": {\"outlinewidth\": 0, \"ticks\": \"\"}, \"colorscale\": [[0.0, \"#0d0887\"], [0.1111111111111111, \"#46039f\"], [0.2222222222222222, \"#7201a8\"], [0.3333333333333333, \"#9c179e\"], [0.4444444444444444, \"#bd3786\"], [0.5555555555555556, \"#d8576b\"], [0.6666666666666666, \"#ed7953\"], [0.7777777777777778, \"#fb9f3a\"], [0.8888888888888888, \"#fdca26\"], [1.0, \"#f0f921\"]], \"type\": \"contour\"}], \"contourcarpet\": [{\"colorbar\": {\"outlinewidth\": 0, \"ticks\": \"\"}, \"type\": \"contourcarpet\"}], \"heatmap\": [{\"colorbar\": {\"outlinewidth\": 0, \"ticks\": \"\"}, \"colorscale\": [[0.0, \"#0d0887\"], [0.1111111111111111, \"#46039f\"], [0.2222222222222222, \"#7201a8\"], [0.3333333333333333, \"#9c179e\"], [0.4444444444444444, \"#bd3786\"], [0.5555555555555556, \"#d8576b\"], [0.6666666666666666, \"#ed7953\"], [0.7777777777777778, \"#fb9f3a\"], [0.8888888888888888, \"#fdca26\"], [1.0, \"#f0f921\"]], \"type\": \"heatmap\"}], \"heatmapgl\": [{\"colorbar\": {\"outlinewidth\": 0, \"ticks\": \"\"}, \"colorscale\": [[0.0, \"#0d0887\"], [0.1111111111111111, \"#46039f\"], [0.2222222222222222, \"#7201a8\"], [0.3333333333333333, \"#9c179e\"], [0.4444444444444444, \"#bd3786\"], [0.5555555555555556, \"#d8576b\"], [0.6666666666666666, \"#ed7953\"], [0.7777777777777778, \"#fb9f3a\"], [0.8888888888888888, \"#fdca26\"], [1.0, \"#f0f921\"]], \"type\": \"heatmapgl\"}], \"histogram\": [{\"marker\": {\"colorbar\": {\"outlinewidth\": 0, \"ticks\": \"\"}}, \"type\": \"histogram\"}], \"histogram2d\": [{\"colorbar\": {\"outlinewidth\": 0, \"ticks\": \"\"}, \"colorscale\": [[0.0, \"#0d0887\"], [0.1111111111111111, \"#46039f\"], [0.2222222222222222, \"#7201a8\"], [0.3333333333333333, \"#9c179e\"], [0.4444444444444444, \"#bd3786\"], [0.5555555555555556, \"#d8576b\"], [0.6666666666666666, \"#ed7953\"], [0.7777777777777778, \"#fb9f3a\"], [0.8888888888888888, \"#fdca26\"], [1.0, \"#f0f921\"]], \"type\": \"histogram2d\"}], \"histogram2dcontour\": [{\"colorbar\": {\"outlinewidth\": 0, \"ticks\": \"\"}, \"colorscale\": [[0.0, \"#0d0887\"], [0.1111111111111111, \"#46039f\"], [0.2222222222222222, \"#7201a8\"], [0.3333333333333333, \"#9c179e\"], [0.4444444444444444, \"#bd3786\"], [0.5555555555555556, \"#d8576b\"], [0.6666666666666666, \"#ed7953\"], [0.7777777777777778, \"#fb9f3a\"], [0.8888888888888888, \"#fdca26\"], [1.0, \"#f0f921\"]], \"type\": \"histogram2dcontour\"}], \"mesh3d\": [{\"colorbar\": {\"outlinewidth\": 0, \"ticks\": \"\"}, \"type\": \"mesh3d\"}], \"parcoords\": [{\"line\": {\"colorbar\": {\"outlinewidth\": 0, \"ticks\": \"\"}}, \"type\": \"parcoords\"}], \"pie\": [{\"automargin\": true, \"type\": \"pie\"}], \"scatter\": [{\"marker\": {\"colorbar\": {\"outlinewidth\": 0, \"ticks\": \"\"}}, \"type\": \"scatter\"}], \"scatter3d\": [{\"line\": {\"colorbar\": {\"outlinewidth\": 0, \"ticks\": \"\"}}, \"marker\": {\"colorbar\": {\"outlinewidth\": 0, \"ticks\": \"\"}}, \"type\": \"scatter3d\"}], \"scattercarpet\": [{\"marker\": {\"colorbar\": {\"outlinewidth\": 0, \"ticks\": \"\"}}, \"type\": \"scattercarpet\"}], \"scattergeo\": [{\"marker\": {\"colorbar\": {\"outlinewidth\": 0, \"ticks\": \"\"}}, \"type\": \"scattergeo\"}], \"scattergl\": [{\"marker\": {\"colorbar\": {\"outlinewidth\": 0, \"ticks\": \"\"}}, \"type\": \"scattergl\"}], \"scattermapbox\": [{\"marker\": {\"colorbar\": {\"outlinewidth\": 0, \"ticks\": \"\"}}, \"type\": \"scattermapbox\"}], \"scatterpolar\": [{\"marker\": {\"colorbar\": {\"outlinewidth\": 0, \"ticks\": \"\"}}, \"type\": \"scatterpolar\"}], \"scatterpolargl\": [{\"marker\": {\"colorbar\": {\"outlinewidth\": 0, \"ticks\": \"\"}}, \"type\": \"scatterpolargl\"}], \"scatterternary\": [{\"marker\": {\"colorbar\": {\"outlinewidth\": 0, \"ticks\": \"\"}}, \"type\": \"scatterternary\"}], \"surface\": [{\"colorbar\": {\"outlinewidth\": 0, \"ticks\": \"\"}, \"colorscale\": [[0.0, \"#0d0887\"], [0.1111111111111111, \"#46039f\"], [0.2222222222222222, \"#7201a8\"], [0.3333333333333333, \"#9c179e\"], [0.4444444444444444, \"#bd3786\"], [0.5555555555555556, \"#d8576b\"], [0.6666666666666666, \"#ed7953\"], [0.7777777777777778, \"#fb9f3a\"], [0.8888888888888888, \"#fdca26\"], [1.0, \"#f0f921\"]], \"type\": \"surface\"}], \"table\": [{\"cells\": {\"fill\": {\"color\": \"#EBF0F8\"}, \"line\": {\"color\": \"white\"}}, \"header\": {\"fill\": {\"color\": \"#C8D4E3\"}, \"line\": {\"color\": \"white\"}}, \"type\": \"table\"}]}, \"layout\": {\"annotationdefaults\": {\"arrowcolor\": \"#2a3f5f\", \"arrowhead\": 0, \"arrowwidth\": 1}, \"autotypenumbers\": \"strict\", \"coloraxis\": {\"colorbar\": {\"outlinewidth\": 0, \"ticks\": \"\"}}, \"colorscale\": {\"diverging\": [[0, \"#8e0152\"], [0.1, \"#c51b7d\"], [0.2, \"#de77ae\"], [0.3, \"#f1b6da\"], [0.4, \"#fde0ef\"], [0.5, \"#f7f7f7\"], [0.6, \"#e6f5d0\"], [0.7, \"#b8e186\"], [0.8, \"#7fbc41\"], [0.9, \"#4d9221\"], [1, \"#276419\"]], \"sequential\": [[0.0, \"#0d0887\"], [0.1111111111111111, \"#46039f\"], [0.2222222222222222, \"#7201a8\"], [0.3333333333333333, \"#9c179e\"], [0.4444444444444444, \"#bd3786\"], [0.5555555555555556, \"#d8576b\"], [0.6666666666666666, \"#ed7953\"], [0.7777777777777778, \"#fb9f3a\"], [0.8888888888888888, \"#fdca26\"], [1.0, \"#f0f921\"]], \"sequentialminus\": [[0.0, \"#0d0887\"], [0.1111111111111111, \"#46039f\"], [0.2222222222222222, \"#7201a8\"], [0.3333333333333333, \"#9c179e\"], [0.4444444444444444, \"#bd3786\"], [0.5555555555555556, \"#d8576b\"], [0.6666666666666666, \"#ed7953\"], [0.7777777777777778, \"#fb9f3a\"], [0.8888888888888888, \"#fdca26\"], [1.0, \"#f0f921\"]]}, \"colorway\": [\"#636efa\", \"#EF553B\", \"#00cc96\", \"#ab63fa\", \"#FFA15A\", \"#19d3f3\", \"#FF6692\", \"#B6E880\", \"#FF97FF\", \"#FECB52\"], \"font\": {\"color\": \"#2a3f5f\"}, \"geo\": {\"bgcolor\": \"white\", \"lakecolor\": \"white\", \"landcolor\": \"#E5ECF6\", \"showlakes\": true, \"showland\": true, \"subunitcolor\": \"white\"}, \"hoverlabel\": {\"align\": \"left\"}, \"hovermode\": \"closest\", \"mapbox\": {\"style\": \"light\"}, \"paper_bgcolor\": \"white\", \"plot_bgcolor\": \"#E5ECF6\", \"polar\": {\"angularaxis\": {\"gridcolor\": \"white\", \"linecolor\": \"white\", \"ticks\": \"\"}, \"bgcolor\": \"#E5ECF6\", \"radialaxis\": {\"gridcolor\": \"white\", \"linecolor\": \"white\", \"ticks\": \"\"}}, \"scene\": {\"xaxis\": {\"backgroundcolor\": \"#E5ECF6\", \"gridcolor\": \"white\", \"gridwidth\": 2, \"linecolor\": \"white\", \"showbackground\": true, \"ticks\": \"\", \"zerolinecolor\": \"white\"}, \"yaxis\": {\"backgroundcolor\": \"#E5ECF6\", \"gridcolor\": \"white\", \"gridwidth\": 2, \"linecolor\": \"white\", \"showbackground\": true, \"ticks\": \"\", \"zerolinecolor\": \"white\"}, \"zaxis\": {\"backgroundcolor\": \"#E5ECF6\", \"gridcolor\": \"white\", \"gridwidth\": 2, \"linecolor\": \"white\", \"showbackground\": true, \"ticks\": \"\", \"zerolinecolor\": \"white\"}}, \"shapedefaults\": {\"line\": {\"color\": \"#2a3f5f\"}}, \"ternary\": {\"aaxis\": {\"gridcolor\": \"white\", \"linecolor\": \"white\", \"ticks\": \"\"}, \"baxis\": {\"gridcolor\": \"white\", \"linecolor\": \"white\", \"ticks\": \"\"}, \"bgcolor\": \"#E5ECF6\", \"caxis\": {\"gridcolor\": \"white\", \"linecolor\": \"white\", \"ticks\": \"\"}}, \"title\": {\"x\": 0.05}, \"xaxis\": {\"automargin\": true, \"gridcolor\": \"white\", \"linecolor\": \"white\", \"ticks\": \"\", \"title\": {\"standoff\": 15}, \"zerolinecolor\": \"white\", \"zerolinewidth\": 2}, \"yaxis\": {\"automargin\": true, \"gridcolor\": \"white\", \"linecolor\": \"white\", \"ticks\": \"\", \"title\": {\"standoff\": 15}, \"zerolinecolor\": \"white\", \"zerolinewidth\": 2}}}, \"title\": {\"text\": \"2020 Certifications by Documentation License\"}, \"xaxis\": {\"anchor\": \"y\", \"domain\": [0.0, 1.0], \"title\": {\"text\": \"documentationLicense\"}}, \"yaxis\": {\"anchor\": \"x\", \"domain\": [0.0, 1.0], \"title\": {\"text\": \"oshwaUid\"}}},                        {\"responsive\": true}                    ).then(function(){\n",
       "                            \n",
       "var gd = document.getElementById('9b3515be-31ff-4a70-830f-f46c4347d89c');\n",
       "var x = new MutationObserver(function (mutations, observer) {{\n",
       "        var display = window.getComputedStyle(gd).display;\n",
       "        if (!display || display === 'none') {{\n",
       "            console.log([gd, 'removed!']);\n",
       "            Plotly.purge(gd);\n",
       "            observer.disconnect();\n",
       "        }}\n",
       "}});\n",
       "\n",
       "// Listen for the removal of the full notebook cells\n",
       "var notebookContainer = gd.closest('#notebook-container');\n",
       "if (notebookContainer) {{\n",
       "    x.observe(notebookContainer, {childList: true});\n",
       "}}\n",
       "\n",
       "// Listen for the clearing of the current output cell\n",
       "var outputEl = gd.closest('.output');\n",
       "if (outputEl) {{\n",
       "    x.observe(outputEl, {childList: true});\n",
       "}}\n",
       "\n",
       "                        })                };                });            </script>        </div>"
      ]
     },
     "metadata": {},
     "output_type": "display_data"
    }
   ],
   "source": [
    "dl_data = df2020.groupby(\"documentationLicense\").count().sort_values(\"oshwaUid\",ascending=False)\n",
    "fig = px.bar(dl_data,y=\"oshwaUid\",title=\"2020 Certifications by Documentation License\")\n",
    "fig.show()"
   ]
  },
  {
   "cell_type": "code",
   "execution_count": null,
   "metadata": {},
   "outputs": [],
   "source": []
  },
  {
   "cell_type": "code",
   "execution_count": null,
   "metadata": {},
   "outputs": [],
   "source": []
  },
  {
   "cell_type": "code",
   "execution_count": null,
   "metadata": {},
   "outputs": [],
   "source": []
  }
 ],
 "metadata": {
  "kernelspec": {
   "display_name": "Python 3",
   "language": "python",
   "name": "python3"
  },
  "language_info": {
   "codemirror_mode": {
    "name": "ipython",
    "version": 3
   },
   "file_extension": ".py",
   "mimetype": "text/x-python",
   "name": "python",
   "nbconvert_exporter": "python",
   "pygments_lexer": "ipython3",
   "version": "3.6.9"
  }
 },
 "nbformat": 4,
 "nbformat_minor": 2
}
